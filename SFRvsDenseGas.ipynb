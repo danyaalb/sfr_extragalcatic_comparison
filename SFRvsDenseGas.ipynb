{
 "cells": [
  {
   "cell_type": "code",
   "execution_count": 1,
   "metadata": {},
   "outputs": [],
   "source": [
    "from __future__ import division\n",
    "import pandas as pd\n",
    "import numpy as np\n",
    "from astropy import units as u\n",
    "from astropy import constants as const\n",
    "from astropy.table import Table, join\n",
    "import matplotlib.pyplot as plt\n",
    "import matplotlib as mpl\n",
    "import astropy.io.ascii as asciitable\n",
    "from astropy.io import ascii\n",
    "import astropy.units as au\n",
    "\n",
    "import warnings\n",
    "warnings.filterwarnings('ignore')\n"
   ]
  },
  {
   "cell_type": "code",
   "execution_count": 12,
   "metadata": {},
   "outputs": [],
   "source": [
    "#Retreiving data for UPDATED Milky Way CMZ\n",
    "\n",
    "cmz_clouds_starFormationRate = Table.read('sfr_table.tex').to_pandas()\n",
    "cmz_clouds_starFormationRate = cmz_clouds_starFormationRate['Best SFR Estimate']\n",
    "cmz_clouds_starFormationRate = cmz_clouds_starFormationRate.drop(labels=0, axis=0)\n",
    "cmz_clouds_starFormationRate = cmz_clouds_starFormationRate.reset_index(drop=True)\n",
    "droplist= cmz_clouds_starFormationRate.index[cmz_clouds_starFormationRate == '-'].tolist()\n",
    "cmz_clouds_starFormationRate = cmz_clouds_starFormationRate.drop(labels=droplist, axis=0)\n",
    "#cmz_clouds_starFormationRate = cmz_clouds_starFormationRate.drop(labels=droplist, axis=0)\n",
    "cmz_clouds_starFormationRate = cmz_clouds_starFormationRate.reset_index(drop=True)\n",
    "\n",
    "\n",
    "cmz_clouds_kinematic = Table.read('cmz_cloud_kinematic_properties.tex').to_pandas()\n",
    "cmz_clouds_kinematic = cmz_clouds_kinematic['HCN mom0']\n",
    "cmz_clouds_kinematic = cmz_clouds_kinematic.drop(labels=0, axis=0)\n",
    "cmz_clouds_kinematic = cmz_clouds_kinematic.reset_index(drop=True)\n",
    "#droplist= cmz_clouds_kinematic.index[cmz_clouds_kinematic == '-'].tolist()\n",
    "cmz_clouds_kinematic = cmz_clouds_kinematic.drop(labels=droplist, axis=0)\n",
    "#cmz_clouds_kinematic = cmz_clouds_kinematic.drop(labels=droplist, axis=0)\n",
    "cmz_clouds_kinematic = cmz_clouds_kinematic.reset_index(drop=True)\n",
    "\n",
    "\n",
    "cmz_clouds_physical = Table.read('cmz_cloud_physical_properties.tex').to_pandas()\n",
    "cmz_clouds_physical = cmz_clouds_physical['Area']\n",
    "cmz_clouds_physical = cmz_clouds_physical.drop(labels=0, axis=0)\n",
    "cmz_clouds_physical = cmz_clouds_physical.reset_index(drop=True)\n",
    "cmz_clouds_physical = cmz_clouds_physical.drop(labels=droplist, axis=0)\n",
    "cmz_clouds_physical = cmz_clouds_physical.reset_index(drop=True)\n",
    "\n",
    "cmz_clouds_mass = Table.read('cmz_cloud_physical_properties.tex').to_pandas()\n",
    "cmz_clouds_mass = cmz_clouds_mass['Mass']\n",
    "cmz_clouds_mass = cmz_clouds_mass.drop(labels=0, axis=0)\n",
    "cmz_clouds_mass = cmz_clouds_mass.reset_index(drop=True)\n",
    "cmz_clouds_mass = cmz_clouds_mass.drop(labels=droplist, axis=0)\n",
    "cmz_clouds_mass = cmz_clouds_mass.reset_index(drop=True)\n",
    "\n",
    "area=(cmz_clouds_physical.values.astype(float)).tolist()\n",
    "SFR= (cmz_clouds_starFormationRate.values.astype(float)).tolist()\n",
    "mass=(cmz_clouds_mass.values.astype(float)).tolist()\n",
    "\n",
    "\n",
    "mass_list=[]\n",
    "for i in range(len(cmz_clouds_starFormationRate)):\n",
    "    mass_list.append(mass[i])\n",
    "    \n",
    "SFR_list=[]\n",
    "for i in range(len(cmz_clouds_starFormationRate)):\n",
    "    SFR_list.append(SFR[i])\n"
   ]
  },
  {
   "cell_type": "code",
   "execution_count": 138,
   "metadata": {},
   "outputs": [],
   "source": [
    "#Retreiving data for OLD Milky Way CMZ\n",
    "cmz_clouds_kinematic = Table.read('cmz_cloud_kinematic_properties.tex').to_pandas()\n",
    "cmz_clouds_kinematic = cmz_clouds_kinematic['HCN mom0']\n",
    "cmz_clouds_kinematic = cmz_clouds_kinematic.drop(labels=0, axis=0)\n",
    "cmz_clouds_kinematic = cmz_clouds_kinematic.reset_index(drop=True)\n",
    "droplist= cmz_clouds_kinematic.index[cmz_clouds_kinematic == '-'].tolist()\n",
    "cmz_clouds_kinematic = cmz_clouds_kinematic.drop(labels=droplist, axis=0)\n",
    "cmz_clouds_kinematic = cmz_clouds_kinematic.reset_index(drop=True)\n",
    "\n",
    "cmz_clouds_starFormationRate = Table.read('cmz_cloud_SFR_properties.tex').to_pandas()\n",
    "cmz_clouds_starFormationRate = cmz_clouds_starFormationRate['SFR']\n",
    "cmz_clouds_starFormationRate = cmz_clouds_starFormationRate.drop(labels=0, axis=0)\n",
    "cmz_clouds_starFormationRate = cmz_clouds_starFormationRate.reset_index(drop=True)\n",
    "cmz_clouds_starFormationRate = cmz_clouds_starFormationRate.drop(labels=droplist, axis=0)\n",
    "cmz_clouds_starFormationRate = cmz_clouds_starFormationRate.reset_index(drop=True)\n",
    "\n",
    "cmz_clouds_physical = Table.read('cmz_cloud_physical_properties.tex').to_pandas()\n",
    "cmz_clouds_physical = cmz_clouds_physical['Area']\n",
    "cmz_clouds_physical = cmz_clouds_physical.drop(labels=0, axis=0)\n",
    "cmz_clouds_physical = cmz_clouds_physical.reset_index(drop=True)\n",
    "cmz_clouds_physical = cmz_clouds_physical.drop(labels=droplist, axis=0)\n",
    "cmz_clouds_physical = cmz_clouds_physical.reset_index(drop=True)\n",
    "\n",
    "cmz_clouds_mass = Table.read('cmz_cloud_physical_properties.tex').to_pandas()\n",
    "cmz_clouds_mass = cmz_clouds_mass['Mass']\n",
    "cmz_clouds_mass = cmz_clouds_mass.drop(labels=0, axis=0)\n",
    "cmz_clouds_mass = cmz_clouds_mass.reset_index(drop=True)\n",
    "cmz_clouds_mass = cmz_clouds_mass.drop(labels=droplist, axis=0)\n",
    "cmz_clouds_mass = cmz_clouds_mass.reset_index(drop=True)\n",
    "\n",
    "area=(cmz_clouds_physical.values.astype(float)).tolist()\n",
    "SFR= (cmz_clouds_starFormationRate.values.astype(float)).tolist()\n",
    "mass=(cmz_clouds_mass.values.astype(float)).tolist()\n",
    "\n",
    "\n",
    "mass_list=[]\n",
    "for i in range(len(cmz_clouds_starFormationRate)):\n",
    "    mass_list.append(mass[i])\n",
    "    \n",
    "SFR_list=[]\n",
    "for i in range(len(cmz_clouds_starFormationRate)):\n",
    "    SFR_list.append(SFR[i])\n"
   ]
  },
  {
   "cell_type": "code",
   "execution_count": 13,
   "metadata": {},
   "outputs": [],
   "source": [
    "#Used in literature properties \n",
    "def get_cmap(n, name='jet'):\n",
    "    '''Returns a function that maps each index in 0, 1, ..., n-1 to a distinct \n",
    "    RGB color; the keyword argument name must be a standard mpl colormap name.'''\n",
    "    return plt.cm.get_cmap(name, n)\n",
    "\n",
    "def get_HCNIR(HCN):\n",
    "    \"\"\"Jim ́enez-Donaire et al. Table 5\"\"\"\n",
    "    IR = np.log10(10**2.89 * 10**HCN)\n",
    "    return(IR)\n",
    "\n",
    "def get_MdenseSFR(Mdense):\n",
    "    \"\"\"Lada\"\"\"\n",
    "    SFR = 4.6e-8*Mdense\n",
    "    return(SFR)\n",
    "\n",
    "def get_Mdense(HCN, alphaHCN=10):\n",
    "    \"\"\"HCN in log - alpha = 10 Gao+Solomon\"\"\"\n",
    "    Mdense = alphaHCN * (10**HCN)\n",
    "    return(Mdense *au.Msun)\n",
    "\n",
    "def get_SFR(IR):\n",
    "    \"\"\"HCN in log - 3.88 × 10−44 L(TIR) Murphy et al. (2011)\"\"\"\n",
    "    conv = (3.88e-44*au.s/au.erg).to(1/au.Lsun).value\n",
    "\n",
    "\n",
    "    SFR = conv * (10**IR)\n",
    "    return(SFR *au.Msun/au.yr)"
   ]
  },
  {
   "cell_type": "code",
   "execution_count": 14,
   "metadata": {},
   "outputs": [],
   "source": [
    "\"\"\"literature properties\"\"\"\n",
    "\n",
    "table = Table.read('./data/galaxies_MJD.csv')\n",
    "table['logLHCN'].unit = au.K * au.km/ au.s/ au.pc**2\n",
    "table['logLIR'].unit = au.Lsun\n",
    "\n",
    "Mdense = get_Mdense(table['logLHCN'], 5) \n",
    "table.add_column(Mdense, name='Mdense') \n",
    "SFR = get_SFR(table['logLIR']) \n",
    "table.add_column(SFR, name='SFR') \n",
    "\n",
    "table_WMc = Table.read('./data/clouds_MJD.csv')\n",
    "table_WMc['logLHCN'].unit = au.K * au.km/ au.s/ au.pc**2\n",
    "table_WMc['logLIR'].unit = au.Lsun\n",
    "\n",
    "Mdense = get_Mdense(table_WMc['logLHCN'], 5) \n",
    "table_WMc.add_column(Mdense, name='Mdense') \n",
    "SFR = get_SFR(table_WMc['logLIR']) \n",
    "table_WMc.add_column(SFR, name='SFR') \n",
    "\n",
    "table_E = Table.read('./data/empirecents_MJD.csv')\n",
    "table_E['logLHCN'].unit = au.K * au.km/ au.s/ au.pc**2\n",
    "table_E['logLIR'].unit = au.Lsun\n",
    "\n",
    "Mdense = get_Mdense(table_E['logLHCN'], 5) \n",
    "table_E.add_column(Mdense, name='Mdense') \n",
    "SFR = get_SFR(table_E['logLIR']) \n",
    "table_E.add_column(SFR, name='SFR')\n",
    "\n",
    "table_E = Table.read('./data/empirecents_MJD.csv')\n",
    "table_E['logLHCN'].unit = au.K * au.km/ au.s/ au.pc**2\n",
    "table_E['logLIR'].unit = au.Lsun\n",
    "\n",
    "Mdense = get_Mdense(table_E['logLHCN'], 5) \n",
    "table_E.add_column(Mdense, name='Mdense') \n",
    "SFR = get_SFR(table_E['logLIR']) \n",
    "table_E.add_column(SFR, name='SFR')\n",
    "\n",
    "table_MW = Table.read('./data/MWCMZ_MJD.csv')\n",
    "table_MW['logLHCN'].unit = au.K * au.km/ au.s/ au.pc**2\n",
    "table_MW['logLIR'].unit = au.Lsun\n",
    "\n",
    "Mdense = get_Mdense(table_MW['logLHCN'], 5) \n",
    "table_MW.add_column(Mdense, name='Mdense') \n",
    "SFR = get_SFR(table_MW['logLIR']) \n",
    "table_MW.add_column(SFR, name='SFR')\n",
    "\n",
    "table_cl = Table.read('./data/clouds_lada.csv')\n",
    "table_cl['Mdense'].units = au.Msun\n",
    "table_cl['SFR'].units = au.Msun/au.yr\n",
    "\n",
    "table_MWevo = Table.read('./data/MWCMZevo_KK.csv')\n",
    "table_MWevo['Sigma_mol'].unit = Mdense.unit * au.pc**-2\n",
    "table_MWevo['Sigma_SFR'].unit = SFR.unit * au.pc**-2\n",
    "\n",
    "Mdense = table_MWevo['Sigma_mol'] * 500*au.pc * 100*au.pc\n",
    "SFR = table_MWevo['Sigma_SFR'] * 500*au.pc * 100*au.pc\n",
    "table_MWevo.add_column(Mdense, name='Mdense') \n",
    "table_MWevo.add_column(SFR, name='SFR')\n",
    "\n",
    "table_ce = Table.read('./data/clouds_evans.csv')\n",
    "table_ce['Mdense'].unit = au.Msun\n",
    "table_ce['SFR'].unit = au.Msun/au.yr\n",
    "\n",
    "table_cvt1 = Table.read('./data/clouds_V16_t1.fits')\n",
    "table_cvt2 = Table.read('./data/clouds_V16_t2.fits')\n",
    "table_cvt1['MCloud'].unit = au.Msun * 1e3\n",
    "table_cvt1['SFR-Rad'].unit = au.Msun / au.Myr\n",
    "table_cvt1['SFR-MIR'].unit = au.Msun / au.Myr\n",
    "\n",
    "table_cv = join(table_cvt1, table_cvt2, join_type='outer')\n",
    "ids = table_cv['Mdense']/table_cv['e_Mdense'] > 3"
   ]
  },
  {
   "cell_type": "code",
   "execution_count": 15,
   "metadata": {},
   "outputs": [
    {
     "data": {
      "text/plain": [
       "(array([5.47494434, 5.66464198, 5.68169339, 5.87215627, 5.64738297,\n",
       "        5.47494434, 5.47494434, 5.47494434]),\n",
       " array([-2.10228471, -2.08156215, -2.06104048, -2.06029873, -2.24499757,\n",
       "        -2.26590348, -2.53153116, -2.67286031]))"
      ]
     },
     "execution_count": 15,
     "metadata": {},
     "output_type": "execute_result"
    }
   ],
   "source": [
    "\"\"\"MALATANG properties - https://arxiv.org/pdf/2003.06595.pdf\"\"\"\n",
    "\n",
    "sfr_ngc253 = np.log10(2522e-3)\n",
    "gas_ngc253 = np.log10(154.6e6)\n",
    "\n",
    "\"\"\"NGC3627 properties - https://academic.oup.com/mnras/article-abstract/506/1/963/6311820?redirectedFrom=fulltext\"\"\"\n",
    "\n",
    "sfr_ngc3627 = np.log10(0.038924883)\n",
    "gas_ngc3627 = np.log10(18505825/2)\n",
    "\n",
    "\"\"\"M51 properties - https://www.aanda.org/articles/aa/pdf/2019/05/aa34915-18.pdf\"\"\"\n",
    "\n",
    "arr = np.array([[5.97e+4, 5.32e+7],\n",
    "                [9.24e+4, 5.58e+7],\n",
    "                [9.61e+4, 5.85e+7],\n",
    "                [1.49e+5, 5.86e+7],\n",
    "                [8.88e+4, 3.83e+7],\n",
    "                [5.97e+4, 3.65e+7],\n",
    "                [5.97e+4, 1.98e+7],\n",
    "                [5.97e+4, 1.43e+7]])\n",
    "\n",
    "sfr1_m51 = np.log10(arr[:,1])\n",
    "gas1_m51 = np.log10(arr[:,0])\n",
    "\n",
    "sfr_m51 = np.log10(get_SFR(sfr1_m51).value)\n",
    "gas_m51 = np.log10(get_Mdense(gas1_m51, 5).value)\n",
    "\n",
    "gas_m51, sfr_m51"
   ]
  },
  {
   "cell_type": "code",
   "execution_count": 16,
   "metadata": {},
   "outputs": [
    {
     "data": {
      "image/png": "[encoded data removed]",
      "text/plain": [
       "<Figure size 432x360 with 1 Axes>"
      ]
     },
     "metadata": {
      "needs_background": "light"
     },
     "output_type": "display_data"
    }
   ],
   "source": [
    "fig = plt.figure(figsize = (6, 5))\n",
    "ax = fig.add_subplot(111)\n",
    "ax.grid(alpha=0.5)\n"
   ]
  },
  {
   "cell_type": "code",
   "execution_count": 17,
   "metadata": {},
   "outputs": [],
   "source": [
    "\"\"\"literature properties - Milky Way Clouds\"\"\"\n",
    "\n",
    "#creating the \"density\" effect on graph\n",
    "x = np.log10(np.hstack([table_cl['Mdense'],table_ce['Mdense']]))\n",
    "y = np.log10(np.hstack([table_cl['SFR'],table_ce['SFR']]))\n",
    "\n",
    "ax.scatter(x, y, ec='none', fc='black', s=43)\n",
    "ax.scatter(x, y, ec='none', fc='white', s=30)\n",
    "\n",
    "#plotting points\n",
    "ax.scatter(x, y, s=30, ec='none', c='red',alpha=0.4,label=\"Milky Way Clouds\")\n",
    "\n",
    "#creating the \"density\" effect on graph\n",
    "table_WMc['Mdense'] = np.log10(table_WMc['Mdense'])\n",
    "table_WMc['SFR'] = np.log10(table_WMc['SFR'])\n",
    "\n",
    "refs = list(np.unique(table_WMc['Ref']))\n",
    "\n",
    "for i, ref in enumerate(refs):\n",
    "    \n",
    "    ids = np.where(table_WMc['Ref']==ref)\n",
    "    x = table_WMc['Mdense'][ids]\n",
    "    y = table_WMc['SFR'][ids]\n",
    "    ax.scatter(x, y, ec='none', fc='black', s=43)\n",
    "    \n",
    "for i, ref in enumerate(refs):\n",
    "    \n",
    "    ids = np.where(table_WMc['Ref']==ref)\n",
    "    x = table_WMc['Mdense'][ids]\n",
    "    y = table_WMc['SFR'][ids]\n",
    "\n",
    "    ax.scatter(x, y, ec='none', fc='white', s=30)\n",
    "\n",
    "#plotting points\n",
    "for i, ref in enumerate(refs):\n",
    "    \n",
    "    ids = np.where(table_WMc['Ref']==ref)\n",
    "    x = table_WMc['Mdense'][ids]\n",
    "    y = table_WMc['SFR'][ids]\n",
    "    ax.scatter(x, y, s=30, ec='none',alpha=0.4, c='red')"
   ]
  },
  {
   "cell_type": "code",
   "execution_count": 18,
   "metadata": {},
   "outputs": [
    {
     "data": {
      "text/plain": [
       "<matplotlib.collections.PathCollection at 0x7f87dfb38c70>"
      ]
     },
     "execution_count": 18,
     "metadata": {},
     "output_type": "execute_result"
    }
   ],
   "source": [
    "\"\"\"Extragalatic\"\"\"\n",
    "refs = list(np.unique(table_WMc['Ref']))\n",
    "\n",
    "table['Mdense'] = np.log10(table['Mdense'])\n",
    "table['SFR'] = np.log10(table['SFR'])\n",
    "\n",
    "refs = list(np.unique(table['Ref']))\n",
    "refs.remove('Gallagher18')\n",
    "\n",
    "#creating the \"density\" effect on graph\n",
    "for i, ref in enumerate(refs):\n",
    "    \n",
    "    ids = np.where(table['Ref']==ref)\n",
    "    x = table['Mdense'][ids]\n",
    "    y = table['SFR'][ids]\n",
    "    \n",
    "    ax.scatter(x, y, ec='none', fc='black', s=43)\n",
    "\n",
    "for i, ref in enumerate(refs):\n",
    "    \n",
    "    ids = np.where(table['Ref']==ref)\n",
    "    x = table['Mdense'][ids]\n",
    "    y = table['SFR'][ids]\n",
    "    \n",
    "    ax.scatter(x, y, ec='none', fc='white', s=30)\n",
    "\n",
    "#plotting points\n",
    "for i, ref in enumerate(refs):\n",
    "    \n",
    "    ids = np.where(table['Ref']==ref)\n",
    "    x = table['Mdense'][ids]\n",
    "    y = table['SFR'][ids]\n",
    "    \n",
    "    if ref in ['Bigiel15']: \n",
    "        ax.scatter(x, y, s=30,ec='none', c='orange',alpha=0.4, label=\"Disc Galaxies\")\n",
    "    if ref in ['Gao04', 'Usero15', 'Kepley14', 'Crocker']: \n",
    "        ax.scatter(x, y, s=30, ec='none',alpha=0.4, c='orange')\n",
    "\n",
    "    if ref in ['Gao07']: \n",
    "        ax.scatter(x, y, s=30, c='#bb6Eff',ec='none',alpha=0.4,label=\"High-redshift Galaxies\")\n",
    "    \n",
    "    if ref in ['Krips08']: \n",
    "        ax.scatter(x, y, s=30,c='blue', ec='none',alpha=0.4,label= \"Starburst Galaxies\")\n",
    "    if ref in ['Garcia-Burillo12', 'Gracia-Carpio08', 'Juneau09', 'Privon15']: \n",
    "        ax.scatter(x, y, s=30, c='blue',alpha=0.4, ec=\"none\")\n",
    "\n",
    "\n",
    "#creating the \"density\" effect on graph for Milky Way CMZ and Extragalactic CMZs\n",
    "mass_list = np.array(np.hstack([np.log10(mass_list), gas_ngc253,gas_ngc3627, gas_m51]))\n",
    "\n",
    "SFR_list = np.array(np.hstack([np.log10(SFR_list),sfr_ngc253, sfr_ngc3627,sfr_m51]))\n",
    "\n",
    "ax.scatter(mass_list, SFR_list, ec='none', fc='black', s=43)\n",
    "ax.scatter(mass_list, SFR_list, ec='none', fc='white', s=30)\n",
    "\n",
    "#plotting points\n",
    "ax.scatter(mass_list, SFR_list, c='c', alpha=0.4, s=30, ec='none', label=\"Milky Way CMZ\")"
   ]
  },
  {
   "cell_type": "code",
   "execution_count": 19,
   "metadata": {},
   "outputs": [
    {
     "data": {
      "text/plain": [
       "<matplotlib.collections.PathCollection at 0x7f87dfab1b80>"
      ]
     },
     "execution_count": 19,
     "metadata": {},
     "output_type": "execute_result"
    }
   ],
   "source": [
    "\"\"\"Literatur properties CMZs\"\"\"\n",
    "#plotting points\n",
    "ref = 'Gallagher18'\n",
    "ids = np.where(table['Ref']==ref)\n",
    "x = table['Mdense'][ids]\n",
    "y = table['SFR'][ids]\n",
    "\n",
    "ax.scatter(x, y, c='#ff00f8', ec='none',alpha=0.5, s=30)\n",
    "\n",
    "table_E['Mdense'] = np.log10(table_E['Mdense'])\n",
    "table_E['SFR'] = np.log10(table_E['SFR'])\n",
    "\n",
    "ax.scatter(table_E['Mdense'], table_E['SFR'], c='#ff00f8', ec='none',alpha=0.5, s=30,label=\"Extragalactic CMZs\")\n",
    "\n",
    "\n",
    "ax.scatter(gas_ngc253, sfr_ngc253, c='#ff00f8',ec='none',alpha=0.5, s=30)\n",
    "ax.scatter(gas_ngc3627, sfr_ngc3627, c='#ff00f8',ec='none',alpha=0.5, s=30)\n",
    "ax.scatter(gas_m51, sfr_m51, c='#ff00f8',ec='none',alpha=0.5, s=30)"
   ]
  },
  {
   "cell_type": "code",
   "execution_count": 20,
   "metadata": {},
   "outputs": [
    {
     "data": {
      "text/plain": [
       "<matplotlib.collections.PathCollection at 0x7f87df8b47c0>"
      ]
     },
     "execution_count": 20,
     "metadata": {},
     "output_type": "execute_result"
    }
   ],
   "source": [
    "\"\"\"CMZ properties\"\"\"\n",
    "#error bar\n",
    "sfr_CMZ_L = np.log10(0.012)\n",
    "gas_CMZ_L = np.log10(1.8e7)\n",
    "\n",
    "sfr_CMZ_H = np.log10(0.14)\n",
    "gas_CMZ_H = np.log10(5.3e7)\n",
    "\n",
    "\n",
    "x = np.mean([gas_CMZ_L, gas_CMZ_H])\n",
    "y = np.mean([sfr_CMZ_L, sfr_CMZ_H])\n",
    "xerr = (gas_CMZ_H-x)\n",
    "yerr = (sfr_CMZ_H-y)\n",
    "\n",
    "ax.errorbar([x],[y],xerr=xerr,yerr=yerr,\n",
    "            zorder=11, c='black', \n",
    "            capsize=3, \n",
    "            elinewidth=2,\n",
    "            capthick=2)\n",
    "\n",
    "ax.scatter(x,y, fc=\"c\",ec='black', lw=2, zorder=11)\n",
    "\n"
   ]
  },
  {
   "cell_type": "code",
   "execution_count": 21,
   "metadata": {},
   "outputs": [
    {
     "data": {
      "image/png": "[encoded data removed]",
      "text/plain": [
       "<Figure size 432x360 with 1 Axes>"
      ]
     },
     "execution_count": 21,
     "metadata": {},
     "output_type": "execute_result"
    }
   ],
   "source": [
    "\n",
    "ax.set_ylabel('Star Formation, log (SFR/$M_\\odot$$yr^{-1}$)', **{'fontname':'Georgia'}, fontsize=13)\n",
    "ax.set_xlabel('Dense Gas, log (M/$M_\\odot$)',**{'fontname':'Georgia'},fontsize=13)\n",
    "mpl.rc('font', family='Georgia')\n",
    "ax.set_xlim([0, 11])\n",
    "ax.set_ylim([-7, 4.2])\n",
    "ax.legend()\n",
    "fig"
   ]
  },
  {
   "cell_type": "markdown",
   "metadata": {},
   "source": []
  },
  {
   "cell_type": "code",
   "execution_count": 606,
   "metadata": {},
   "outputs": [],
   "source": [
    "fig.savefig('SFRvsDenseGas.pdf')"
   ]
  },
  {
   "cell_type": "code",
   "execution_count": null,
   "metadata": {},
   "outputs": [],
   "source": []
  },
  {
   "cell_type": "code",
   "execution_count": null,
   "metadata": {},
   "outputs": [],
   "source": []
  }
 ],
 "metadata": {
  "interpreter": {
   "hash": "140014ad37321e562f591abb18f82ec226c9e25ade5c014ecb5f3a678a862621"
  },
  "kernelspec": {
   "display_name": "Python 3.8.8 ('base')",
   "language": "python",
   "name": "python3"
  },
  "language_info": {
   "codemirror_mode": {
    "name": "ipython",
    "version": 3
   },
   "file_extension": ".py",
   "mimetype": "text/x-python",
   "name": "python",
   "nbconvert_exporter": "python",
   "pygments_lexer": "ipython3",
   "version": "3.8.13"
  },
  "orig_nbformat": 4
 },
 "nbformat": 4,
 "nbformat_minor": 2
}
