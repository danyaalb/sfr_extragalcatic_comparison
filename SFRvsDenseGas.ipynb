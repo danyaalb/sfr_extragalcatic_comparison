{
 "cells": [
  {
   "cell_type": "code",
   "execution_count": 1,
   "metadata": {},
   "outputs": [],
   "source": [
    "from __future__ import division\n",
    "import pandas as pd\n",
    "import numpy as np\n",
    "from astropy import units as u\n",
    "from astropy import constants as const\n",
    "from astropy.table import Table, join\n",
    "import matplotlib.pyplot as plt\n",
    "import matplotlib as mpl\n",
    "import astropy.io.ascii as asciitable\n",
    "from astropy.io import ascii\n",
    "import astropy.units as au\n",
    "\n",
    "import warnings\n",
    "warnings.filterwarnings('ignore')\n"
   ]
  },
  {
   "cell_type": "code",
   "execution_count": 2,
   "metadata": {},
   "outputs": [],
   "source": [
    "cmz_clouds_starFormationRate = Table.read('sfr_table.tex').to_pandas()\n",
    "cmz_clouds_starFormationRate=cmz_clouds_starFormationRate.sort_values('Leaf ID')\n",
    "cmz_clouds_starFormationRate = cmz_clouds_starFormationRate.set_index('Leaf ID').reset_index()\n",
    "cmz_clouds_starFormationRate = cmz_clouds_starFormationRate[['Best SFR Estimate','SFR FF', 'SFR cmzoom','SFRtotal IR']]\n",
    "drop= cmz_clouds_starFormationRate.index[cmz_clouds_starFormationRate['Best SFR Estimate'] == '-']\n",
    "droplist=drop.tolist()\n",
    "cmz_clouds_starFormationRate = cmz_clouds_starFormationRate.drop(labels=droplist, axis=0)\n",
    "\n",
    "cmz_clouds_mass = Table.read('cmz_cloud_physical_properties.tex').to_pandas()\n",
    "cmz_clouds_mass = cmz_clouds_mass.set_index('Structure').reset_index()\n",
    "cmz_clouds_mass = cmz_clouds_mass['Mass']\n",
    "cmz_clouds_mass = cmz_clouds_mass.drop(labels=0, axis=0)\n",
    "cmz_clouds_mass = cmz_clouds_mass.reset_index(drop=True)\n",
    "cmz_clouds_mass = cmz_clouds_mass.drop(labels=droplist, axis=0)"
   ]
  },
  {
   "cell_type": "code",
   "execution_count": 3,
   "metadata": {},
   "outputs": [
    {
     "name": "stdout",
     "output_type": "stream",
     "text": [
      "[0.0027, 0.00061, 0.00079, 0.0016, 0.001, 0.0007, 0.00069, 0.0022, 0.0046, 0.0056, 0.0027, 0.0047, 0.0054, 0.026, 0.0041, 0.0035, 0.0019, 0.00023, 0.0002]\n"
     ]
    }
   ],
   "source": [
    "#determining which method was used to find the SFR\n",
    "drop_ffSFR= cmz_clouds_starFormationRate.index[cmz_clouds_starFormationRate['Best SFR Estimate'] != cmz_clouds_starFormationRate['SFR FF']].tolist()\n",
    "ffSFR=(cmz_clouds_starFormationRate.drop(labels=drop_ffSFR, axis=0))\n",
    "ffSFR=(ffSFR['Best SFR Estimate'].values.astype(float)).tolist()\n",
    "ffmass= cmz_clouds_mass.drop(labels=drop_ffSFR, axis=0).values.astype(float).tolist()\n",
    "print(ffSFR)\n",
    "\n",
    "drop_cmSFR= cmz_clouds_starFormationRate.index[cmz_clouds_starFormationRate['Best SFR Estimate'] != cmz_clouds_starFormationRate['SFR cmzoom']].tolist()\n",
    "cmSFR=(cmz_clouds_starFormationRate.drop(labels=drop_cmSFR, axis=0))\n",
    "cmSFR=(cmSFR['Best SFR Estimate'].values.astype(float)).tolist()\n",
    "cmmass= (cmz_clouds_mass.drop(labels=drop_cmSFR, axis=0)).values.astype(float).tolist()\n",
    "\n",
    "cmz_clouds_starFormationRate['Best SFR Estimate'] = cmz_clouds_starFormationRate['Best SFR Estimate'].astype(float)\n",
    "cmz_clouds_starFormationRate['SFRtotal IR'] = cmz_clouds_starFormationRate['SFRtotal IR'].astype(float)\n",
    "drop_irSFR= cmz_clouds_starFormationRate.index[cmz_clouds_starFormationRate['Best SFR Estimate'] != cmz_clouds_starFormationRate['SFRtotal IR']].tolist()\n",
    "irSFR=cmz_clouds_starFormationRate.drop(labels=drop_irSFR, axis=0)\n",
    "irSFR=(irSFR['Best SFR Estimate'].values.astype(float)).tolist()\n",
    "irmass= cmz_clouds_mass.drop(labels=drop_irSFR, axis=0).values.astype(float).tolist()"
   ]
  },
  {
   "cell_type": "code",
   "execution_count": 4,
   "metadata": {},
   "outputs": [
    {
     "name": "stdout",
     "output_type": "stream",
     "text": [
      "    Best SFR Estimate   SFR FF SFR cmzoom   SFRtotal IR\n",
      "0        2.700000e-03  2.7E-03          -  1.100000e-04\n",
      "1        6.000000e-08        -          -  6.000000e-08\n",
      "2        6.100000e-04  6.1E-04          -  4.800000e-06\n",
      "4        7.900000e-04  7.9E-04          -  1.200000e-05\n",
      "5        1.600000e-03  1.6E-03          -  5.200000e-05\n",
      "6        1.000000e-03  1.0E-03          -  2.600000e-05\n",
      "7        7.000000e-04  7.0E-04          -  6.600000e-06\n",
      "8        3.500000e-02        -          -  3.500000e-02\n",
      "9        3.000000e-02        -          -  3.000000e-02\n",
      "10       6.900000e-04  6.9E-04          -  9.500000e-06\n",
      "11       1.300000e-02        -          -  1.300000e-02\n",
      "12       1.100000e-02        -          -  1.100000e-02\n",
      "13       1.000000e-02        -          -  1.000000e-02\n",
      "14       8.400000e-03        -          -  8.400000e-03\n",
      "15       6.800000e-03        -          -  6.800000e-03\n",
      "16       2.200000e-03  2.2E-03          -  8.600000e-05\n",
      "17       4.900000e-03        -          -  4.900000e-03\n",
      "19       1.200000e-02        -          -  1.200000e-02\n",
      "20       4.600000e-03  4.6E-03          -  2.300000e-04\n",
      "21       5.600000e-03  5.6E-03          -  2.800000e-04\n",
      "22       2.700000e-03  2.7E-03          -  1.000000e-04\n",
      "23       6.200000e-04        -          -  6.200000e-04\n",
      "24       6.500000e-02  7.7E-03    6.5E-02  1.200000e-03\n",
      "27       9.300000e-03        -          -  9.300000e-03\n",
      "28       4.700000e-03  4.7E-03          -  3.700000e-04\n",
      "30       1.400000e-02  8.7E-03    1.4E-02  3.900000e-04\n",
      "33       7.100000e-03  4.9E-03    7.1E-03  2.700000e-04\n",
      "36       5.100000e-02  1.2E-02    5.1E-02  4.800000e-04\n",
      "38       4.000000e-04  6.3E-03    4.0E-04  1.400000e-04\n",
      "39       5.400000e-03  5.4E-03          -  2.800000e-04\n",
      "40       6.400000e-03  6.1E-03    6.4E-03  8.800000e-05\n",
      "41       6.300000e-03  9.4E-03    6.3E-03  2.300000e-04\n",
      "42       1.500000e-03  1.6E-03    1.5E-03  1.900000e-05\n",
      "43       2.600000e-02  2.6E-02          -  9.200000e-04\n",
      "45       2.300000e-03  9.5E-03    2.3E-03  1.200000e-03\n",
      "46       1.700000e-03  4.7E-03    1.7E-03  2.100000e-04\n",
      "47       5.000000e-03  2.0E-03    5.0E-03  2.600000e-05\n",
      "48       1.700000e-02  8.2E-03    1.7E-02  2.100000e-04\n",
      "49       4.100000e-03  4.1E-03          -  2.200000e-05\n",
      "51       2.700000e-03  4.5E-03    2.7E-03  8.200000e-05\n",
      "52       3.900000e-02  3.3E-03    3.9E-02  3.600000e-05\n",
      "53       3.500000e-03  3.5E-03          -  8.100000e-05\n",
      "54       1.900000e-03  1.9E-03          -  5.700000e-05\n",
      "55       2.300000e-04  2.3E-04          -  3.200000e-07\n",
      "56       2.000000e-04  2.0E-04          -  3.200000e-07\n"
     ]
    }
   ],
   "source": [
    "print(cmz_clouds_starFormationRate) #indexed by leaf IDs "
   ]
  },
  {
   "cell_type": "code",
   "execution_count": 5,
   "metadata": {},
   "outputs": [
    {
     "name": "stdout",
     "output_type": "stream",
     "text": [
      "0     7.8E+04\n",
      "1     5.5E+03\n",
      "2     9.6E+03\n",
      "4     3.0E+04\n",
      "5     4.9E+04\n",
      "6     1.3E+05\n",
      "7     1.6E+04\n",
      "8     1.6E+07\n",
      "9     1.4E+07\n",
      "10    3.2E+04\n",
      "11    1.1E+07\n",
      "12    8.5E+06\n",
      "13    8.3E+06\n",
      "14    7.3E+06\n",
      "15    6.3E+06\n",
      "16    7.2E+04\n",
      "17    4.1E+06\n",
      "19    2.6E+06\n",
      "20    8.9E+04\n",
      "21    2.9E+05\n",
      "22    2.7E+04\n",
      "23    1.6E+06\n",
      "24    3.2E+05\n",
      "27    1.9E+06\n",
      "28    9.6E+04\n",
      "30    3.5E+05\n",
      "33    5.1E+05\n",
      "36    3.4E+05\n",
      "38    4.9E+04\n",
      "39    3.4E+05\n",
      "40    3.3E+04\n",
      "41    6.8E+04\n",
      "42    1.1E+05\n",
      "43    1.3E+06\n",
      "45    2.8E+05\n",
      "46    6.8E+04\n",
      "47    1.1E+05\n",
      "48    2.2E+05\n",
      "49    3.1E+04\n",
      "51    6.8E+04\n",
      "52    2.0E+04\n",
      "53    2.7E+04\n",
      "54    3.5E+04\n",
      "55    5.7E+03\n",
      "56    1.0E+04\n",
      "Name: Mass, dtype: object\n"
     ]
    }
   ],
   "source": [
    "print(cmz_clouds_mass) #indexed by leaf IDs"
   ]
  },
  {
   "cell_type": "code",
   "execution_count": 6,
   "metadata": {},
   "outputs": [],
   "source": [
    "#Used in literature properties \n",
    "def get_cmap(n, name='jet'):\n",
    "    '''Returns a function that maps each index in 0, 1, ..., n-1 to a distinct \n",
    "    RGB color; the keyword argument name must be a standard mpl colormap name.'''\n",
    "    return plt.cm.get_cmap(name, n)\n",
    "\n",
    "def get_HCNIR(HCN):\n",
    "    \"\"\"Jim ́enez-Donaire et al. Table 5\"\"\"\n",
    "    IR = np.log10(10**2.89 * 10**HCN)\n",
    "    return(IR)\n",
    "\n",
    "def get_MdenseSFR(Mdense):\n",
    "    \"\"\"Lada\"\"\"\n",
    "    SFR = 4.6e-8*Mdense\n",
    "    return(SFR)\n",
    "\n",
    "def get_Mdense(HCN, alphaHCN=10):\n",
    "    \"\"\"HCN in log - alpha = 10 Gao+Solomon\"\"\"\n",
    "    Mdense = alphaHCN * (10**HCN)\n",
    "    return(Mdense *au.Msun)\n",
    "\n",
    "def get_SFR(IR):\n",
    "    \"\"\"HCN in log - 3.88 × 10−44 L(TIR) Murphy et al. (2011)\"\"\"\n",
    "    conv = (3.88e-44*au.s/au.erg).to(1/au.Lsun).value\n",
    "\n",
    "\n",
    "    SFR = conv * (10**IR)\n",
    "    return(SFR *au.Msun/au.yr)"
   ]
  },
  {
   "cell_type": "code",
   "execution_count": 7,
   "metadata": {},
   "outputs": [],
   "source": [
    "\"\"\"literature properties\"\"\"\n",
    "\n",
    "table = Table.read('./data/galaxies_MJD.csv')\n",
    "table['logLHCN'].unit = au.K * au.km/ au.s/ au.pc**2\n",
    "table['logLIR'].unit = au.Lsun\n",
    "\n",
    "Mdense = get_Mdense(table['logLHCN'], 5) \n",
    "table.add_column(Mdense, name='Mdense') \n",
    "SFR = get_SFR(table['logLIR']) \n",
    "table.add_column(SFR, name='SFR') \n",
    "\n",
    "table_WMc = Table.read('./data/clouds_MJD.csv')\n",
    "table_WMc['logLHCN'].unit = au.K * au.km/ au.s/ au.pc**2\n",
    "table_WMc['logLIR'].unit = au.Lsun\n",
    "\n",
    "Mdense = get_Mdense(table_WMc['logLHCN'], 5) \n",
    "table_WMc.add_column(Mdense, name='Mdense') \n",
    "SFR = get_SFR(table_WMc['logLIR']) \n",
    "table_WMc.add_column(SFR, name='SFR') \n",
    "\n",
    "table_E = Table.read('./data/empirecents_MJD.csv')\n",
    "table_E['logLHCN'].unit = au.K * au.km/ au.s/ au.pc**2\n",
    "table_E['logLIR'].unit = au.Lsun\n",
    "\n",
    "Mdense = get_Mdense(table_E['logLHCN'], 5) \n",
    "table_E.add_column(Mdense, name='Mdense') \n",
    "SFR = get_SFR(table_E['logLIR']) \n",
    "table_E.add_column(SFR, name='SFR')\n",
    "\n",
    "table_E = Table.read('./data/empirecents_MJD.csv')\n",
    "table_E['logLHCN'].unit = au.K * au.km/ au.s/ au.pc**2\n",
    "table_E['logLIR'].unit = au.Lsun\n",
    "\n",
    "Mdense = get_Mdense(table_E['logLHCN'], 5) \n",
    "table_E.add_column(Mdense, name='Mdense') \n",
    "SFR = get_SFR(table_E['logLIR']) \n",
    "table_E.add_column(SFR, name='SFR')\n",
    "\n",
    "table_MW = Table.read('./data/MWCMZ_MJD.csv')\n",
    "table_MW['logLHCN'].unit = au.K * au.km/ au.s/ au.pc**2\n",
    "table_MW['logLIR'].unit = au.Lsun\n",
    "\n",
    "Mdense = get_Mdense(table_MW['logLHCN'], 5) \n",
    "table_MW.add_column(Mdense, name='Mdense') \n",
    "SFR = get_SFR(table_MW['logLIR']) \n",
    "table_MW.add_column(SFR, name='SFR')\n",
    "\n",
    "table_cl = Table.read('./data/clouds_lada.csv')\n",
    "table_cl['Mdense'].units = au.Msun\n",
    "table_cl['SFR'].units = au.Msun/au.yr\n",
    "\n",
    "table_MWevo = Table.read('./data/MWCMZevo_KK.csv')\n",
    "table_MWevo['Sigma_mol'].unit = Mdense.unit * au.pc**-2\n",
    "table_MWevo['Sigma_SFR'].unit = SFR.unit * au.pc**-2\n",
    "\n",
    "Mdense = table_MWevo['Sigma_mol'] * 500*au.pc * 100*au.pc\n",
    "SFR = table_MWevo['Sigma_SFR'] * 500*au.pc * 100*au.pc\n",
    "table_MWevo.add_column(Mdense, name='Mdense') \n",
    "table_MWevo.add_column(SFR, name='SFR')\n",
    "\n",
    "table_ce = Table.read('./data/clouds_evans.csv')\n",
    "table_ce['Mdense'].unit = au.Msun\n",
    "table_ce['SFR'].unit = au.Msun/au.yr\n",
    "\n",
    "table_cvt1 = Table.read('./data/clouds_V16_t1.fits')\n",
    "table_cvt2 = Table.read('./data/clouds_V16_t2.fits')\n",
    "table_cvt1['MCloud'].unit = au.Msun * 1e3\n",
    "table_cvt1['SFR-Rad'].unit = au.Msun / au.Myr\n",
    "table_cvt1['SFR-MIR'].unit = au.Msun / au.Myr\n",
    "\n",
    "table_cv = join(table_cvt1, table_cvt2, join_type='outer')\n",
    "ids = table_cv['Mdense']/table_cv['e_Mdense'] > 3"
   ]
  },
  {
   "cell_type": "code",
   "execution_count": 8,
   "metadata": {},
   "outputs": [
    {
     "data": {
      "text/plain": [
       "(array([5.47494434, 5.66464198, 5.68169339, 5.87215627, 5.64738297,\n",
       "        5.47494434, 5.47494434, 5.47494434]),\n",
       " array([-2.10228471, -2.08156215, -2.06104048, -2.06029873, -2.24499757,\n",
       "        -2.26590348, -2.53153116, -2.67286031]))"
      ]
     },
     "execution_count": 8,
     "metadata": {},
     "output_type": "execute_result"
    }
   ],
   "source": [
    "\"\"\"MALATANG properties - https://arxiv.org/pdf/2003.06595.pdf\"\"\"\n",
    "\n",
    "sfr_ngc253 = np.log10(2522e-3)\n",
    "gas_ngc253 = np.log10(154.6e6)\n",
    "\n",
    "\"\"\"NGC3627 properties - https://academic.oup.com/mnras/article-abstract/506/1/963/6311820?redirectedFrom=fulltext\"\"\"\n",
    "\n",
    "sfr_ngc3627 = np.log10(0.038924883)\n",
    "gas_ngc3627 = np.log10(18505825/2)\n",
    "\n",
    "\"\"\"M51 properties - https://www.aanda.org/articles/aa/pdf/2019/05/aa34915-18.pdf\"\"\"\n",
    "\n",
    "arr = np.array([[5.97e+4, 5.32e+7],\n",
    "                [9.24e+4, 5.58e+7],\n",
    "                [9.61e+4, 5.85e+7],\n",
    "                [1.49e+5, 5.86e+7],\n",
    "                [8.88e+4, 3.83e+7],\n",
    "                [5.97e+4, 3.65e+7],\n",
    "                [5.97e+4, 1.98e+7],\n",
    "                [5.97e+4, 1.43e+7]])\n",
    "\n",
    "sfr1_m51 = np.log10(arr[:,1])\n",
    "gas1_m51 = np.log10(arr[:,0])\n",
    "\n",
    "sfr_m51 = np.log10(get_SFR(sfr1_m51).value)\n",
    "gas_m51 = np.log10(get_Mdense(gas1_m51, 5).value)\n",
    "\n",
    "gas_m51, sfr_m51"
   ]
  },
  {
   "cell_type": "code",
   "execution_count": 9,
   "metadata": {},
   "outputs": [
    {
     "data": {
      "image/png": "[encoded data removed]",
      "text/plain": [
       "<Figure size 432x360 with 1 Axes>"
      ]
     },
     "metadata": {
      "needs_background": "light"
     },
     "output_type": "display_data"
    }
   ],
   "source": [
    "fig = plt.figure(figsize = (6,5))\n",
    "ax = fig.add_subplot(111)\n",
    "ax.grid(alpha=0.5)\n"
   ]
  },
  {
   "cell_type": "code",
   "execution_count": 10,
   "metadata": {},
   "outputs": [],
   "source": [
    "\"\"\"literature properties - Milky Way Clouds\"\"\"\n",
    "\n",
    "#creating the \"density\" effect on graph\n",
    "x = np.log10(np.hstack([table_cl['Mdense'],table_ce['Mdense']]))\n",
    "y = np.log10(np.hstack([table_cl['SFR'],table_ce['SFR']]))\n",
    "\n",
    "ax.scatter(x, y, ec='none', fc='black', s=43)\n",
    "ax.scatter(x, y, ec='none', fc='white', s=30)\n",
    "\n",
    "#plotting points\n",
    "ax.scatter(x, y, s=30, ec='none', c='red',alpha=0.4,label=\"Milky Way Clouds\")\n",
    "\n",
    "#creating the \"density\" effect on graph\n",
    "table_WMc['Mdense'] = np.log10(table_WMc['Mdense'])\n",
    "table_WMc['SFR'] = np.log10(table_WMc['SFR'])\n",
    "\n",
    "refs = list(np.unique(table_WMc['Ref']))\n",
    "\n",
    "for i, ref in enumerate(refs):\n",
    "    \n",
    "    ids = np.where(table_WMc['Ref']==ref)\n",
    "    x = table_WMc['Mdense'][ids]\n",
    "    y = table_WMc['SFR'][ids]\n",
    "    ax.scatter(x, y, ec='none', fc='black', s=43)\n",
    "    \n",
    "for i, ref in enumerate(refs):\n",
    "    \n",
    "    ids = np.where(table_WMc['Ref']==ref)\n",
    "    x = table_WMc['Mdense'][ids]\n",
    "    y = table_WMc['SFR'][ids]\n",
    "\n",
    "    ax.scatter(x, y, ec='none', fc='white', s=30)\n",
    "\n",
    "#plotting points\n",
    "for i, ref in enumerate(refs):\n",
    "    \n",
    "    ids = np.where(table_WMc['Ref']==ref)\n",
    "    x = table_WMc['Mdense'][ids]\n",
    "    y = table_WMc['SFR'][ids]\n",
    "    ax.scatter(x, y, s=30, ec='none',alpha=0.4, c='red')"
   ]
  },
  {
   "cell_type": "code",
   "execution_count": 11,
   "metadata": {},
   "outputs": [
    {
     "data": {
      "text/plain": [
       "<matplotlib.collections.PathCollection at 0x7f9924eeca60>"
      ]
     },
     "execution_count": 11,
     "metadata": {},
     "output_type": "execute_result"
    }
   ],
   "source": [
    "\"\"\"Extragalatic\"\"\"\n",
    "refs = list(np.unique(table_WMc['Ref']))\n",
    "\n",
    "table['Mdense'] = np.log10(table['Mdense'])\n",
    "table['SFR'] = np.log10(table['SFR'])\n",
    "\n",
    "refs = list(np.unique(table['Ref']))\n",
    "refs.remove('Gallagher18')\n",
    "\n",
    "#creating the \"density\" effect on graph\n",
    "for i, ref in enumerate(refs):\n",
    "    \n",
    "    ids = np.where(table['Ref']==ref)\n",
    "    x = table['Mdense'][ids]\n",
    "    y = table['SFR'][ids]\n",
    "    \n",
    "    ax.scatter(x, y, ec='none', fc='black', s=43)\n",
    "\n",
    "for i, ref in enumerate(refs):\n",
    "    \n",
    "    ids = np.where(table['Ref']==ref)\n",
    "    x = table['Mdense'][ids]\n",
    "    y = table['SFR'][ids]\n",
    "    \n",
    "    ax.scatter(x, y, ec='none', fc='white', s=30)\n",
    "\n",
    "#plotting points\n",
    "for i, ref in enumerate(refs):\n",
    "    \n",
    "    ids = np.where(table['Ref']==ref)\n",
    "    x = table['Mdense'][ids]\n",
    "    y = table['SFR'][ids]\n",
    "    \n",
    "    if ref in ['Bigiel15']: \n",
    "        ax.scatter(x, y, s=30,ec='none', c='orange',alpha=0.4, label=\"Disc Galaxies\")\n",
    "    if ref in ['Gao04', 'Usero15', 'Kepley14', 'Crocker']: \n",
    "        ax.scatter(x, y, s=30, ec='none',alpha=0.4, c='orange')\n",
    "\n",
    "    if ref in ['Gao07']: \n",
    "        ax.scatter(x, y, s=30, c='#bb6Eff',ec='none',alpha=0.4,label=\"High-redshift Galaxies\")\n",
    "    \n",
    "    if ref in ['Krips08']: \n",
    "        ax.scatter(x, y, s=30,c='blue', ec='none',alpha=0.4,label= \"Starburst Galaxies\")\n",
    "    if ref in ['Garcia-Burillo12', 'Gracia-Carpio08', 'Juneau09', 'Privon15']: \n",
    "        ax.scatter(x, y, s=30, c='blue',alpha=0.4, ec=\"none\")\n",
    "\n",
    "ax.scatter(np.log10(ffmass), np.log10(ffSFR), ec='none', fc='black',marker='D', s=43)\n",
    "ax.scatter(np.log10(ffmass), np.log10(ffSFR), ec='none', fc='white',marker='D', s=30)\n",
    "\n",
    "ax.scatter(np.log10(cmmass), np.log10(cmSFR), ec='none', fc='black',marker='o', s=43)\n",
    "ax.scatter(np.log10(cmmass), np.log10(cmSFR), ec='none', fc='white',marker='o', s=30)\n",
    "\n",
    "ax.scatter(np.log10(irmass), np.log10(irSFR), ec='none', fc='black',marker='X', s=43)\n",
    "ax.scatter(np.log10(irmass), np.log10(irSFR), ec='none', fc='white',marker='X', s=30)\n",
    "#-------------------------------------------------------------------------------------\n",
    "\n",
    "#plotting points\n",
    "ax.scatter(np.log10(ffmass), np.log10(ffSFR),c='c', alpha=0.4, s=30, ec='none', marker='D', label='Free fall SFR')\n",
    "ax.scatter(np.log10(cmmass), np.log10(cmSFR),c='c', alpha=0.4, s=30, ec='none', marker='o',label='CMZoom SFR')\n",
    "ax.scatter(np.log10(irmass), np.log10(irSFR),c='c', alpha=0.4, s=30, ec='none', marker='X',label='IR SFR')\n",
    "\n",
    "\n"
   ]
  },
  {
   "cell_type": "code",
   "execution_count": 12,
   "metadata": {},
   "outputs": [
    {
     "data": {
      "text/plain": [
       "<matplotlib.collections.PathCollection at 0x7f9924f1fac0>"
      ]
     },
     "execution_count": 12,
     "metadata": {},
     "output_type": "execute_result"
    }
   ],
   "source": [
    "\"\"\"Literature properties CMZs\"\"\"\n",
    "#plotting points\n",
    "ref = 'Gallagher18'\n",
    "ids = np.where(table['Ref']==ref)\n",
    "x = table['Mdense'][ids]\n",
    "y = table['SFR'][ids]\n",
    "\n",
    "ax.scatter(x, y, ec='none', fc='black', s=43)\n",
    "ax.scatter(x, y, ec='none', fc='white', s=30)\n",
    "\n",
    "ax.scatter(x, y, c='#ff00f8', ec='none',alpha=0.5, s=30)\n",
    "\n",
    "table_E['Mdense'] = np.log10(table_E['Mdense'])\n",
    "table_E['SFR'] = np.log10(table_E['SFR'])\n",
    "\n",
    "ax.scatter(table_E['Mdense'], table_E['SFR'], ec='none', fc='black', s=43)\n",
    "ax.scatter(table_E['Mdense'], table_E['SFR'], ec='none', fc='white', s=30)\n",
    "\n",
    "ax.scatter(table_E['Mdense'], table_E['SFR'], c='#ff00f8', ec='none',alpha=0.5, s=30,label=\"Extragalactic CMZs\")\n",
    "\n",
    "ax.scatter(gas_ngc253, sfr_ngc253, ec='none', fc='black', s=43)\n",
    "ax.scatter(gas_ngc253, sfr_ngc253, ec='none', fc='white', s=30)\n",
    "ax.scatter(gas_ngc3627, sfr_ngc3627, ec='none', fc='black', s=43)\n",
    "ax.scatter(gas_ngc3627, sfr_ngc3627, ec='none', fc='white', s=30)\n",
    "ax.scatter(gas_m51, sfr_m51, ec='none', fc='black', s=43)\n",
    "ax.scatter(gas_m51, sfr_m51, ec='none', fc='white', s=30)\n",
    "\n",
    "\n",
    "ax.scatter(gas_ngc253, sfr_ngc253, c='#ff00f8',ec='none',alpha=0.5, s=30)\n",
    "ax.scatter(gas_ngc3627, sfr_ngc3627, c='#ff00f8',ec='none',alpha=0.5, s=30)\n",
    "ax.scatter(gas_m51, sfr_m51, c='#ff00f8',ec='none',alpha=0.5, s=30)"
   ]
  },
  {
   "cell_type": "code",
   "execution_count": 13,
   "metadata": {},
   "outputs": [
    {
     "data": {
      "text/plain": [
       "<matplotlib.collections.PathCollection at 0x7f9924dece80>"
      ]
     },
     "execution_count": 13,
     "metadata": {},
     "output_type": "execute_result"
    }
   ],
   "source": [
    "\"\"\"CMZ properties\"\"\"\n",
    "#error bar\n",
    "sfr_CMZ_L = np.log10(0.012)\n",
    "gas_CMZ_L = np.log10(1.8e7)\n",
    "\n",
    "sfr_CMZ_H = np.log10(0.14)\n",
    "gas_CMZ_H = np.log10(5.3e7)\n",
    "\n",
    "\n",
    "x = np.mean([gas_CMZ_L, gas_CMZ_H])\n",
    "y = np.mean([sfr_CMZ_L, sfr_CMZ_H])\n",
    "xerr = (gas_CMZ_H-x)\n",
    "yerr = (sfr_CMZ_H-y)\n",
    "\n",
    "ax.errorbar([x],[y],xerr=xerr,yerr=yerr,\n",
    "            zorder=11, c='black', \n",
    "            capsize=3, \n",
    "            elinewidth=2,\n",
    "            capthick=2)\n",
    "\n",
    "ax.scatter(x,y, fc=\"c\",ec='black', lw=2, zorder=11)"
   ]
  },
  {
   "cell_type": "code",
   "execution_count": 14,
   "metadata": {},
   "outputs": [
    {
     "data": {
      "text/plain": [
       "[<matplotlib.lines.Line2D at 0x7f9924eece80>]"
      ]
     },
     "execution_count": 14,
     "metadata": {},
     "output_type": "execute_result"
    }
   ],
   "source": [
    "gas=np.linspace(1e-7,1e11,10000)\n",
    "ladaSFR=np.log10((4.6e-8)*1*(gas))\n",
    "ax.plot(np.log10(gas),ladaSFR,c='k',linestyle='dotted' ,label='Lada et. al (2012)')\n",
    "\n",
    "ladaSFR=np.log10((4.6e-8)*.1*(gas))\n",
    "ax.plot(np.log10(gas),ladaSFR,c='k',linestyle='dashed')"
   ]
  },
  {
   "cell_type": "code",
   "execution_count": 22,
   "metadata": {},
   "outputs": [
    {
     "name": "stdout",
     "output_type": "stream",
     "text": [
      "19 [320000.0, 350000.0, 510000.0, 340000.0, 49000.0, 33000.0, 68000.0, 110000.0, 280000.0, 68000.0, 110000.0, 220000.0, 68000.0, 20000.0] 12\n"
     ]
    }
   ],
   "source": [
    "print(len(ffmass),cmmass,len(irmass))"
   ]
  },
  {
   "cell_type": "code",
   "execution_count": 21,
   "metadata": {},
   "outputs": [
    {
     "name": "stdout",
     "output_type": "stream",
     "text": [
      "[0.065, 0.014, 0.0071, 0.051, 0.0004, 0.0064, 0.0063, 0.0015, 0.0023, 0.0017, 0.005, 0.017, 0.0027, 0.039]\n"
     ]
    }
   ],
   "source": [
    "print(cmSFR)"
   ]
  },
  {
   "cell_type": "code",
   "execution_count": 23,
   "metadata": {},
   "outputs": [
    {
     "name": "stdout",
     "output_type": "stream",
     "text": [
      "0     7.8E+04\n",
      "1     5.5E+03\n",
      "2     9.6E+03\n",
      "4     3.0E+04\n",
      "5     4.9E+04\n",
      "6     1.3E+05\n",
      "7     1.6E+04\n",
      "8     1.6E+07\n",
      "9     1.4E+07\n",
      "10    3.2E+04\n",
      "11    1.1E+07\n",
      "12    8.5E+06\n",
      "13    8.3E+06\n",
      "14    7.3E+06\n",
      "15    6.3E+06\n",
      "16    7.2E+04\n",
      "17    4.1E+06\n",
      "19    2.6E+06\n",
      "20    8.9E+04\n",
      "21    2.9E+05\n",
      "22    2.7E+04\n",
      "23    1.6E+06\n",
      "24    3.2E+05\n",
      "27    1.9E+06\n",
      "28    9.6E+04\n",
      "30    3.5E+05\n",
      "33    5.1E+05\n",
      "36    3.4E+05\n",
      "38    4.9E+04\n",
      "39    3.4E+05\n",
      "40    3.3E+04\n",
      "41    6.8E+04\n",
      "42    1.1E+05\n",
      "43    1.3E+06\n",
      "45    2.8E+05\n",
      "46    6.8E+04\n",
      "47    1.1E+05\n",
      "48    2.2E+05\n",
      "49    3.1E+04\n",
      "51    6.8E+04\n",
      "52    2.0E+04\n",
      "53    2.7E+04\n",
      "54    3.5E+04\n",
      "55    5.7E+03\n",
      "56    1.0E+04\n",
      "Name: Mass, dtype: object\n"
     ]
    }
   ],
   "source": [
    "print(cmz_clouds_mass)"
   ]
  },
  {
   "cell_type": "code",
   "execution_count": 24,
   "metadata": {},
   "outputs": [
    {
     "name": "stdout",
     "output_type": "stream",
     "text": [
      "    Best SFR Estimate   SFR FF SFR cmzoom   SFRtotal IR\n",
      "0        2.700000e-03  2.7E-03          -  1.100000e-04\n",
      "1        6.000000e-08        -          -  6.000000e-08\n",
      "2        6.100000e-04  6.1E-04          -  4.800000e-06\n",
      "4        7.900000e-04  7.9E-04          -  1.200000e-05\n",
      "5        1.600000e-03  1.6E-03          -  5.200000e-05\n",
      "6        1.000000e-03  1.0E-03          -  2.600000e-05\n",
      "7        7.000000e-04  7.0E-04          -  6.600000e-06\n",
      "8        3.500000e-02        -          -  3.500000e-02\n",
      "9        3.000000e-02        -          -  3.000000e-02\n",
      "10       6.900000e-04  6.9E-04          -  9.500000e-06\n",
      "11       1.300000e-02        -          -  1.300000e-02\n",
      "12       1.100000e-02        -          -  1.100000e-02\n",
      "13       1.000000e-02        -          -  1.000000e-02\n",
      "14       8.400000e-03        -          -  8.400000e-03\n",
      "15       6.800000e-03        -          -  6.800000e-03\n",
      "16       2.200000e-03  2.2E-03          -  8.600000e-05\n",
      "17       4.900000e-03        -          -  4.900000e-03\n",
      "19       1.200000e-02        -          -  1.200000e-02\n",
      "20       4.600000e-03  4.6E-03          -  2.300000e-04\n",
      "21       5.600000e-03  5.6E-03          -  2.800000e-04\n",
      "22       2.700000e-03  2.7E-03          -  1.000000e-04\n",
      "23       6.200000e-04        -          -  6.200000e-04\n",
      "24       6.500000e-02  7.7E-03    6.5E-02  1.200000e-03\n",
      "27       9.300000e-03        -          -  9.300000e-03\n",
      "28       4.700000e-03  4.7E-03          -  3.700000e-04\n",
      "30       1.400000e-02  8.7E-03    1.4E-02  3.900000e-04\n",
      "33       7.100000e-03  4.9E-03    7.1E-03  2.700000e-04\n",
      "36       5.100000e-02  1.2E-02    5.1E-02  4.800000e-04\n",
      "38       4.000000e-04  6.3E-03    4.0E-04  1.400000e-04\n",
      "39       5.400000e-03  5.4E-03          -  2.800000e-04\n",
      "40       6.400000e-03  6.1E-03    6.4E-03  8.800000e-05\n",
      "41       6.300000e-03  9.4E-03    6.3E-03  2.300000e-04\n",
      "42       1.500000e-03  1.6E-03    1.5E-03  1.900000e-05\n",
      "43       2.600000e-02  2.6E-02          -  9.200000e-04\n",
      "45       2.300000e-03  9.5E-03    2.3E-03  1.200000e-03\n",
      "46       1.700000e-03  4.7E-03    1.7E-03  2.100000e-04\n",
      "47       5.000000e-03  2.0E-03    5.0E-03  2.600000e-05\n",
      "48       1.700000e-02  8.2E-03    1.7E-02  2.100000e-04\n",
      "49       4.100000e-03  4.1E-03          -  2.200000e-05\n",
      "51       2.700000e-03  4.5E-03    2.7E-03  8.200000e-05\n",
      "52       3.900000e-02  3.3E-03    3.9E-02  3.600000e-05\n",
      "53       3.500000e-03  3.5E-03          -  8.100000e-05\n",
      "54       1.900000e-03  1.9E-03          -  5.700000e-05\n",
      "55       2.300000e-04  2.3E-04          -  3.200000e-07\n",
      "56       2.000000e-04  2.0E-04          -  3.200000e-07\n"
     ]
    }
   ],
   "source": [
    "print(cmz_clouds_starFormationRate)"
   ]
  },
  {
   "cell_type": "code",
   "execution_count": 15,
   "metadata": {},
   "outputs": [
    {
     "data": {
      "image/png": "[encoded data removed]",
      "text/plain": [
       "<Figure size 432x360 with 1 Axes>"
      ]
     },
     "execution_count": 15,
     "metadata": {},
     "output_type": "execute_result"
    }
   ],
   "source": [
    "ax.set_ylabel('Star Formation, log (SFR/$M_\\odot$$yr^{-1}$)', **{'fontname':'Georgia'}, fontsize=13)\n",
    "ax.set_xlabel('Dense Gas, log (M/$M_\\odot$)',**{'fontname':'Georgia'},fontsize=13)\n",
    "mpl.rc('font', family='Georgia')\n",
    "ax.set_xlim([0, 11])\n",
    "ax.set_ylim([-7, 4.2])\n",
    "ax.legend(fontsize=9)\n",
    "fig"
   ]
  },
  {
   "cell_type": "markdown",
   "metadata": {},
   "source": []
  },
  {
   "cell_type": "code",
   "execution_count": 16,
   "metadata": {},
   "outputs": [],
   "source": [
    "fig.savefig('SFRvsDenseGas.pdf')"
   ]
  },
  {
   "cell_type": "code",
   "execution_count": null,
   "metadata": {},
   "outputs": [],
   "source": []
  },
  {
   "cell_type": "code",
   "execution_count": null,
   "metadata": {},
   "outputs": [],
   "source": []
  }
 ],
 "metadata": {
  "interpreter": {
   "hash": "140014ad37321e562f591abb18f82ec226c9e25ade5c014ecb5f3a678a862621"
  },
  "kernelspec": {
   "display_name": "Python 3.8.8 ('base')",
   "language": "python",
   "name": "python3"
  },
  "language_info": {
   "codemirror_mode": {
    "name": "ipython",
    "version": 3
   },
   "file_extension": ".py",
   "mimetype": "text/x-python",
   "name": "python",
   "nbconvert_exporter": "python",
   "pygments_lexer": "ipython3",
   "version": "3.8.13"
  },
  "orig_nbformat": 4
 },
 "nbformat": 4,
 "nbformat_minor": 2
}
