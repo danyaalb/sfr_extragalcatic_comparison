{
 "cells": [
  {
   "cell_type": "code",
   "execution_count": 1,
   "metadata": {},
   "outputs": [],
   "source": [
    "import numpy as np\n",
    "import matplotlib.pyplot as plt\n",
    "import matplotlib as mpl\n",
    "from astropy.table import Table, join\n",
    "import astropy.units as au\n",
    "import astropy.constants as ac \n",
    "\n",
    "plt.rcParams[\"font.family\"] = \"sans-serif\"\n",
    "plt.rcParams[\"font.weight\"] = \"bold\"\n",
    "plt.rcParams[\"axes.labelweight\"] = \"bold\"\n",
    "plt.rcParams[\"xtick.direction\"] = \"in\"\n",
    "plt.rcParams[\"ytick.direction\"] = \"in\" \n",
    "\n",
    "# mpl.rc('text.latex', preamble=r'\\usepackage{cmbright} \\boldmath')\n",
    "# mpl.rcParams['text.latex.preamble'] = [r'\\boldmath']\n",
    "# mpl.rc('font',**{'family':'sans-serif','sans-serif':['Helvetica']})\n",
    "# mpl.rc('text', usetex=True)\n",
    "\n",
    "cmap = mpl.cm.get_cmap('tab20')\n",
    "cmap1 = cmap(np.arange(0,1,0.1))\n",
    "cmap2 = cmap(np.arange(0.05,1,0.1))"
   ]
  },
  {
   "cell_type": "code",
   "execution_count": 2,
   "metadata": {},
   "outputs": [],
   "source": [
    "\"\"\"Star formation relations\"\"\"\n",
    "\n",
    "def get_starK98(Sigma_gas):\n",
    "    '''Schmidt law from Kennicutt (1998)\n",
    "    Sigma_mol = surface density of molecular + atomic gas (Msun/pc^2)\n",
    "    Sigma_SFR = surface density of star formation rate (Msun/kpc^2/yr)'''\n",
    "    A = 2.5e-4\n",
    "    N = 1.4\n",
    "    Sigma_SFR = A * (Sigma_gas**N)\n",
    "    return Sigma_SFR\n",
    "\n",
    "def get_starB08(Sigma_mol):\n",
    "    '''Schmidt law from Bigiel+ (2008)\n",
    "    Sigma_mol = surface density of molecular gas (Msun/pc^2)\n",
    "    Sigma_SFR = surface density of star formation rate (Msun/kpc^2/yr)\n",
    "    [Note that I have divided this by a factor of 10 rwt the Bigiel+ (2008), which is in units of Msun/10]'''\n",
    "    A = 10**-3.1\n",
    "    N = 1\n",
    "    Sigma_SFR = A * (Sigma_mol**N)\n",
    "    return Sigma_SFR"
   ]
  },
  {
   "cell_type": "code",
   "execution_count": 3,
   "metadata": {},
   "outputs": [],
   "source": [
    "\"\"\"Geometry\"\"\"\n",
    "\n",
    "def get_areaannulus(R, deltaR):\n",
    "    \"\"\"Surface area (A) of annulus with outer radius R and width deltaR\"\"\"\n",
    "    A = np.pi*(R**2 - (R-deltaR)**2)\n",
    "    return(A)\n",
    "\n",
    "def get_arearectangle(L, H):\n",
    "    \"\"\"Surface area (A) of rectangle with length L and height H\"\"\"\n",
    "    A = L*H\n",
    "    return(A)\n",
    "\n",
    "def get_surfacedensity(A, p, log=True):\n",
    "    \"\"\"Surface area of annulus with outer radius R and width deltaR\n",
    "    log=True returns log10 units\"\"\"\n",
    "    Sigma = p/A\n",
    "    if log: \n",
    "        Sigma=np.log10(Sigma)\n",
    "    return(Sigma)"
   ]
  },
  {
   "cell_type": "code",
   "execution_count": 4,
   "metadata": {},
   "outputs": [],
   "source": [
    "\"\"\"CMZ properties\"\"\"\n",
    "\n",
    "area_flat = get_arearectangle(200, 20)\n",
    "area_ring = get_areaannulus(100, 10)\n",
    "\n",
    "sfr_CMZ = 0.012\n",
    "gas_CMZ = 1.8e7\n",
    "\n",
    "Sigmagas_CMZring_L = get_surfacedensity(area_ring, gas_CMZ)\n",
    "Sigmasfr_CMZring_L = get_surfacedensity(area_ring, sfr_CMZ)+6 \n",
    "\n",
    "sfr_CMZ = 0.14\n",
    "gas_CMZ = 5.3e7\n",
    "\n",
    "Sigmagas_CMZring_H = get_surfacedensity(area_ring, gas_CMZ)\n",
    "Sigmasfr_CMZring_H = get_surfacedensity(area_ring, sfr_CMZ)+6\n",
    "\n",
    "sfr_CMZ = 0.09\n",
    "gas_CMZ = 1.8e7\n",
    "\n",
    "Sigmagas_CMZring = get_surfacedensity(area_ring, gas_CMZ)\n",
    "Sigmasfr_CMZring = get_surfacedensity(area_ring, sfr_CMZ)+6"
   ]
  },
  {
   "cell_type": "code",
   "execution_count": 23,
   "metadata": {},
   "outputs": [
    {
     "name": "stdout",
     "output_type": "stream",
     "text": [
      "Area fraction ring/flat 1.49 \n",
      "\n",
      "Sigma GAS ring low log(): 3.48\n",
      "Sigma SFR ring low log(): 0.30 \n",
      "\n",
      "Sigma GAS ring low log(): 3.95\n",
      "Sigma SFR ring low log(): 1.37 \n",
      "\n",
      "Sigma GAS ring low log(): 3.48\n",
      "Sigma SFR ring low log(): 1.18 \n",
      "\n"
     ]
    }
   ],
   "source": [
    "print('Area fraction ring/flat %0.2f \\n' %(area_ring/area_flat))\n",
    "\n",
    "print('Sigma GAS ring low log(): %0.2f' %(Sigmagas_CMZring_L))\n",
    "print('Sigma SFR ring low log(): %0.2f \\n' %(Sigmasfr_CMZring_L))\n",
    "\n",
    "print('Sigma GAS ring low log(): %0.2f' %(Sigmagas_CMZring_H))\n",
    "print('Sigma SFR ring low log(): %0.2f \\n' %(Sigmasfr_CMZring_H))\n",
    "\n",
    "print('Sigma GAS ring low log(): %0.2f' %(Sigmagas_CMZring))\n",
    "print('Sigma SFR ring low log(): %0.2f \\n' %(Sigmasfr_CMZring))"
   ]
  },
  {
   "cell_type": "code",
   "execution_count": 26,
   "metadata": {},
   "outputs": [
    {
     "data": {
      "text/plain": [
       "44.166666666666664"
      ]
     },
     "execution_count": 26,
     "metadata": {},
     "output_type": "execute_result"
    }
   ],
   "source": [
    "5.3e8/0.012/1e9"
   ]
  },
  {
   "cell_type": "code",
   "execution_count": 6,
   "metadata": {},
   "outputs": [],
   "source": [
    "\"\"\"literature properties\"\"\"\n",
    "\n",
    "Sigmagas_K98_L = np.log10(0.05e2)\n",
    "Sigmagas_K98_H = np.log10(0.20e2)\n",
    "Sigmasfr_K98_L = np.log10(0.0024)\n",
    "Sigmasfr_K98_H = np.log10(0.017)\n",
    "\n",
    "Sigmagas_D10SB_L = np.log10(3.0e2)\n",
    "Sigmagas_D10SB_H = np.log10(100e2)\n",
    "Sigmasfr_D10SB_L = np.log10(3.9)\n",
    "Sigmasfr_D10SB_H = np.log10(560)\n",
    "\n",
    "Sigmagas_D10BzK_L = np.log10(2.0e2)\n",
    "Sigmagas_D10BzK_H = np.log10(10e2)\n",
    "Sigmasfr_D10BzK_L = np.log10(0.28)\n",
    "Sigmasfr_D10BzK_H = np.log10(2.7)\n",
    "\n",
    "# 10**Sigmasfr_CMZring, 10**Sigmagas_CMZring\n",
    "# # table = Table.read('./../data_lada/galaxies_MJD.csv')\n",
    "# # table['logLHCN'].unit = au.K * au.km/ au.s/ au.pc**2\n",
    "# # table['logLIR'].unit = au.Lsun"
   ]
  },
  {
   "cell_type": "code",
   "execution_count": 7,
   "metadata": {},
   "outputs": [
    {
     "data": {
      "image/png": "[encoded data removed]",
      "text/plain": [
       "<Figure size 288x270 with 1 Axes>"
      ]
     },
     "metadata": {
      "needs_background": "light"
     },
     "output_type": "display_data"
    }
   ],
   "source": [
    "fig = plt.figure(figsize = (4, 3.75))\n",
    "ax = fig.add_subplot(111)\n",
    "\n",
    "xl = 'Gas, log$_{10}$($\\Sigma$/M$_\\mathrm{\\odot}$pc$^{-2}$)'\n",
    "yl = 'Star formation, log$_{10}$($\\Sigma_\\mathrm{SFR}$/M$_\\mathrm{\\odot}$kpc$^{-2}$yr$^{-1}$)'\n",
    "ax.set_xlabel(xl, fontname=\"Arial\", weight='heavy')\n",
    "ax.set_ylabel(yl, fontname=\"Arial\", weight='heavy')\n",
    "\n",
    "ax.set_xlim(0, 5)\n",
    "ax.set_ylim(-3, 3)\n",
    "\n",
    "ax.grid(True, ls=':', zorder=-1, alpha=0.5)"
   ]
  },
  {
   "cell_type": "code",
   "execution_count": 8,
   "metadata": {},
   "outputs": [],
   "source": [
    "\"\"\"Star formation relations\"\"\"\n",
    "x = np.logspace(-15, 15, 31)\n",
    "ax.plot(np.log10(x), np.log10(get_starK98(x)), linestyle='--', color = 'black', alpha=0.5, zorder=0, label='Kennicutt (1998)')\n",
    "ax.plot(np.log10(x), np.log10(get_starB08(x)), linestyle='-.', color = 'black', alpha=0.5, zorder=0, label='Bigiel et al. (2008)')\n",
    "\n",
    "legend1 = ax.legend(loc='lower right',ncol=1,\n",
    "            scatterpoints=1, fontsize=8)\n",
    "# fig"
   ]
  },
  {
   "cell_type": "code",
   "execution_count": 9,
   "metadata": {},
   "outputs": [
    {
     "data": {
      "text/plain": [
       "[<matplotlib.lines.Line2D at 0x7f8e12de61d0>]"
      ]
     },
     "execution_count": 9,
     "metadata": {},
     "output_type": "execute_result"
    }
   ],
   "source": [
    "\"\"\"CMZ properties\"\"\"\n",
    "ax.scatter(Sigmagas_CMZring_L, Sigmasfr_CMZring_L, fc=cmap2[0], ec=cmap1[0], lw=2, zorder=3)\n",
    "ax.scatter(Sigmagas_CMZring_H, Sigmasfr_CMZring_H, fc=cmap2[0], ec=cmap1[0], lw=2, zorder=3)\n",
    "ax.plot([Sigmagas_CMZring_L, Sigmagas_CMZring_H], [Sigmasfr_CMZring_L, Sigmasfr_CMZring_H], \n",
    "        c=cmap1[0], lw=2, ls='-', zorder=2)\n",
    "\n",
    "# fig"
   ]
  },
  {
   "cell_type": "code",
   "execution_count": 10,
   "metadata": {},
   "outputs": [
    {
     "data": {
      "image/png": "[encoded data removed]",
      "text/plain": [
       "<Figure size 288x270 with 1 Axes>"
      ]
     },
     "execution_count": 10,
     "metadata": {},
     "output_type": "execute_result"
    }
   ],
   "source": [
    "\"\"\"Literatur properties\"\"\"\n",
    "m1 = ax.scatter(Sigmagas_K98_L, Sigmasfr_K98_L, fc=cmap2[1], ec=cmap1[1], lw=2, zorder=1)\n",
    "ax.scatter(Sigmagas_K98_H, Sigmasfr_K98_H, fc=cmap2[1], ec=cmap1[1], lw=2, zorder=1)\n",
    "ax.plot([Sigmagas_K98_L, Sigmagas_K98_H], [Sigmasfr_K98_L, Sigmasfr_K98_H], \n",
    "        c=cmap1[1], lw=2, ls='-', zorder=0)\n",
    "\n",
    "m2 = ax.scatter(Sigmagas_D10SB_L, Sigmasfr_D10SB_L, fc=cmap2[2], ec=cmap1[2], lw=2, zorder=1)\n",
    "ax.scatter(Sigmagas_D10SB_H, Sigmasfr_D10SB_H, fc=cmap2[2], ec=cmap1[2], lw=2, zorder=1)\n",
    "ax.plot([Sigmagas_D10SB_L, Sigmagas_D10SB_H], [Sigmasfr_D10SB_L, Sigmasfr_D10SB_H], \n",
    "        c=cmap1[2], lw=2, ls='-', zorder=0)\n",
    "\n",
    "m3 = ax.scatter(Sigmagas_D10BzK_L, Sigmasfr_D10BzK_L, fc=cmap2[2], ec=cmap1[2], lw=2, zorder=1, marker='h')\n",
    "ax.scatter(Sigmagas_D10BzK_H, Sigmasfr_D10BzK_H, fc=cmap2[2], ec=cmap1[2], lw=2, zorder=1, marker='h')\n",
    "ax.plot([Sigmagas_D10BzK_L, Sigmagas_D10BzK_H], [Sigmasfr_D10BzK_L, Sigmasfr_D10BzK_H], \n",
    "        c=cmap1[2], lw=2, ls='-', zorder=0)\n",
    "\n",
    "fig"
   ]
  },
  {
   "cell_type": "code",
   "execution_count": 11,
   "metadata": {},
   "outputs": [
    {
     "data": {
      "text/plain": [
       "<matplotlib.legend.Legend at 0x7f8e17757f90>"
      ]
     },
     "execution_count": 11,
     "metadata": {},
     "output_type": "execute_result"
    }
   ],
   "source": [
    "legend2 = ax.legend((m1,m2,m3), \n",
    "                   ('Kennicutt (1998)','Daddi et al. (2010)','Daddi et al. (2010)'),\n",
    "                   loc='upper left', fontsize=8)\n",
    "ax.add_artist(legend1)"
   ]
  },
  {
   "cell_type": "code",
   "execution_count": 12,
   "metadata": {},
   "outputs": [
    {
     "data": {
      "text/plain": [
       "<Figure size 432x288 with 0 Axes>"
      ]
     },
     "metadata": {},
     "output_type": "display_data"
    }
   ],
   "source": [
    "plt.tight_layout()\n",
    "fig.savefig('./../figs/plot_SK.pdf',bbox_inches='tight')"
   ]
  },
  {
   "cell_type": "code",
   "execution_count": null,
   "metadata": {},
   "outputs": [],
   "source": []
  },
  {
   "cell_type": "code",
   "execution_count": null,
   "metadata": {},
   "outputs": [],
   "source": []
  }
 ],
 "metadata": {
  "kernelspec": {
   "display_name": "Python 3",
   "language": "python",
   "name": "python3"
  },
  "language_info": {
   "codemirror_mode": {
    "name": "ipython",
    "version": 3
   },
   "file_extension": ".py",
   "mimetype": "text/x-python",
   "name": "python",
   "nbconvert_exporter": "python",
   "pygments_lexer": "ipython3",
   "version": "3.7.4"
  }
 },
 "nbformat": 4,
 "nbformat_minor": 4
}
