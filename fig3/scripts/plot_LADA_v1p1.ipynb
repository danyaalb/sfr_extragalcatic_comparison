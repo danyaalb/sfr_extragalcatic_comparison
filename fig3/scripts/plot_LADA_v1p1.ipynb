{
 "cells": [
  {
   "cell_type": "code",
   "execution_count": 1,
   "metadata": {},
   "outputs": [],
   "source": [
    "import warnings\n",
    "warnings.filterwarnings('ignore')\n",
    "\n",
    "import numpy as np\n",
    "import matplotlib.pyplot as plt\n",
    "import matplotlib as mpl\n",
    "from astropy.table import Table, join\n",
    "import astropy.units as au\n",
    "import astropy.constants as ac \n",
    "import astropy.io.ascii as asciitable\n",
    "\n",
    "plt.rcParams[\"font.family\"] = \"sans-serif\"\n",
    "plt.rcParams[\"font.weight\"] = \"bold\"\n",
    "plt.rcParams[\"axes.labelweight\"] = \"bold\"\n",
    "plt.rcParams[\"xtick.direction\"] = \"in\"\n",
    "plt.rcParams[\"ytick.direction\"] = \"in\" \n",
    "\n",
    "# mpl.rc('text.latex', preamble=r'\\usepackage{cmbright} \\boldmath')\n",
    "# mpl.rcParams['text.latex.preamble'] = [r'\\boldmath']\n",
    "# mpl.rc('font',**{'family':'sans-serif','sans-serif':['Helvetica']})\n",
    "# mpl.rc('text', usetex=True)\n",
    "\n",
    "cmap = mpl.cm.get_cmap('tab20')\n",
    "cmap1 = cmap(np.arange(0,1,0.1))\n",
    "cmap2 = cmap(np.arange(0.05,1,0.1))"
   ]
  },
  {
   "cell_type": "code",
   "execution_count": 2,
   "metadata": {},
   "outputs": [],
   "source": [
    "def get_cmap(n, name='jet'):\n",
    "    '''Returns a function that maps each index in 0, 1, ..., n-1 to a distinct \n",
    "    RGB color; the keyword argument name must be a standard mpl colormap name.'''\n",
    "    return plt.cm.get_cmap(name, n)\n",
    "\n",
    "def get_HCNIR(HCN):\n",
    "    \"\"\"Jim ́enez-Donaire et al. Table 5\"\"\"\n",
    "    IR = np.log10(10**2.89 * 10**HCN)\n",
    "    return(IR)\n",
    "\n",
    "def get_MdenseSFR(Mdense):\n",
    "    \"\"\"Lada\"\"\"\n",
    "    SFR = 4.6e-8*Mdense\n",
    "    return(SFR)\n",
    "\n",
    "def get_Mdense(HCN, alphaHCN=10):\n",
    "    \"\"\"HCN in log - alpha = 10 Gao+Solomon\"\"\"\n",
    "    Mdense = alphaHCN * (10**HCN)\n",
    "#     Mdense = 10 * (10**HCN)\n",
    "    return(Mdense *au.Msun)\n",
    "\n",
    "def get_SFR(IR):\n",
    "    \"\"\"HCN in log - 3.88 × 10−44 L(TIR) Murphy et al. (2011)\"\"\"\n",
    "    conv = (3.88e-44*au.s/au.erg).to(1/au.Lsun).value\n",
    "\n",
    "#     \"\"\"HCN in log - 3.88 × 10−44 L(TIR) Murphy et al. (2011)\"\"\"\n",
    "#     conv = (4.5e-44*au.s/au.erg).to(1/au.Lsun).value\n",
    "    \n",
    "    SFR = conv * (10**IR)\n",
    "    return(SFR *au.Msun/au.yr)"
   ]
  },
  {
   "cell_type": "code",
   "execution_count": 3,
   "metadata": {},
   "outputs": [
    {
     "data": {
      "text/plain": [
       "-9.828196345300986"
      ]
     },
     "execution_count": 3,
     "metadata": {},
     "output_type": "execute_result"
    }
   ],
   "source": [
    "np.log10((3.88e-44*au.s/au.erg).to(1/au.Lsun).value)"
   ]
  },
  {
   "cell_type": "code",
   "execution_count": 4,
   "metadata": {},
   "outputs": [],
   "source": [
    "\"\"\"CMZ properties\"\"\"\n",
    "\n",
    "sfr_CMZ_L = np.log10(0.012)\n",
    "gas_CMZ_L = np.log10(1.8e7)\n",
    "\n",
    "sfr_CMZ_H = np.log10(0.14)\n",
    "gas_CMZ_H = np.log10(5.3e7)"
   ]
  },
  {
   "cell_type": "code",
   "execution_count": 5,
   "metadata": {},
   "outputs": [],
   "source": [
    "\"\"\"literature properties\"\"\"\n",
    "\n",
    "table = Table.read('./../data_lada/galaxies_MJD.csv')\n",
    "table['logLHCN'].unit = au.K * au.km/ au.s/ au.pc**2\n",
    "table['logLIR'].unit = au.Lsun\n",
    "\n",
    "Mdense = get_Mdense(table['logLHCN'], 5) \n",
    "table.add_column(Mdense, name='Mdense') \n",
    "SFR = get_SFR(table['logLIR']) \n",
    "table.add_column(SFR, name='SFR') \n",
    "\n",
    "table_WMc = Table.read('./../data_lada/clouds_MJD.csv')\n",
    "table_WMc['logLHCN'].unit = au.K * au.km/ au.s/ au.pc**2\n",
    "table_WMc['logLIR'].unit = au.Lsun\n",
    "\n",
    "Mdense = get_Mdense(table_WMc['logLHCN'], 5) \n",
    "table_WMc.add_column(Mdense, name='Mdense') \n",
    "SFR = get_SFR(table_WMc['logLIR']) \n",
    "table_WMc.add_column(SFR, name='SFR') \n",
    "\n",
    "table_E = Table.read('./../data_lada/empirecents_MJD.csv')\n",
    "table_E['logLHCN'].unit = au.K * au.km/ au.s/ au.pc**2\n",
    "table_E['logLIR'].unit = au.Lsun\n",
    "\n",
    "Mdense = get_Mdense(table_E['logLHCN'], 5) \n",
    "table_E.add_column(Mdense, name='Mdense') \n",
    "SFR = get_SFR(table_E['logLIR']) \n",
    "table_E.add_column(SFR, name='SFR')\n",
    "\n",
    "table_E = Table.read('./../data_lada/empirecents_MJD.csv')\n",
    "table_E['logLHCN'].unit = au.K * au.km/ au.s/ au.pc**2\n",
    "table_E['logLIR'].unit = au.Lsun\n",
    "\n",
    "Mdense = get_Mdense(table_E['logLHCN'], 5) \n",
    "table_E.add_column(Mdense, name='Mdense') \n",
    "SFR = get_SFR(table_E['logLIR']) \n",
    "table_E.add_column(SFR, name='SFR')\n",
    "\n",
    "table_MW = Table.read('./../data_lada/MWCMZ_MJD.csv')\n",
    "table_MW['logLHCN'].unit = au.K * au.km/ au.s/ au.pc**2\n",
    "table_MW['logLIR'].unit = au.Lsun\n",
    "\n",
    "Mdense = get_Mdense(table_MW['logLHCN'], 5) \n",
    "table_MW.add_column(Mdense, name='Mdense') \n",
    "SFR = get_SFR(table_MW['logLIR']) \n",
    "table_MW.add_column(SFR, name='SFR')\n",
    "\n",
    "table_cl = Table.read('./../data_lada/clouds_lada.csv')\n",
    "table_cl['Mdense'].units = au.Msun\n",
    "table_cl['SFR'].units = au.Msun/au.yr\n",
    "\n",
    "table_MWevo = Table.read('./../data_lada/MWCMZevo_KK.csv')\n",
    "table_MWevo['Sigma_mol'].unit = Mdense.unit * au.pc**-2\n",
    "table_MWevo['Sigma_SFR'].unit = SFR.unit * au.pc**-2\n",
    "\n",
    "Mdense = table_MWevo['Sigma_mol'] * 500*au.pc * 100*au.pc\n",
    "SFR = table_MWevo['Sigma_SFR'] * 500*au.pc * 100*au.pc\n",
    "table_MWevo.add_column(Mdense, name='Mdense') \n",
    "table_MWevo.add_column(SFR, name='SFR')\n",
    "\n",
    "table_ce = Table.read('./../data_lada/clouds_evans.csv')\n",
    "table_ce['Mdense'].unit = au.Msun\n",
    "table_ce['SFR'].unit = au.Msun/au.yr\n",
    "\n",
    "table_cvt1 = Table.read('./../data_lada/clouds_V16_t1.fits')\n",
    "table_cvt2 = Table.read('./../data_lada/clouds_V16_t2.fits')\n",
    "table_cvt1['MCloud'].unit = au.Msun * 1e3\n",
    "table_cvt1['SFR-Rad'].unit = au.Msun / au.Myr\n",
    "table_cvt1['SFR-MIR'].unit = au.Msun / au.Myr\n",
    "\n",
    "table_cv = join(table_cvt1, table_cvt2, join_type='outer')\n",
    "ids = table_cv['Mdense']/table_cv['e_Mdense'] > 3"
   ]
  },
  {
   "cell_type": "code",
   "execution_count": 6,
   "metadata": {},
   "outputs": [],
   "source": [
    "\"\"\"MALATANG properties - https://arxiv.org/pdf/2003.06595.pdf\"\"\"\n",
    "\n",
    "sfr_ngc253 = np.log10(2522e-3)\n",
    "gas_ngc253 = np.log10(154.6e6)"
   ]
  },
  {
   "cell_type": "code",
   "execution_count": 7,
   "metadata": {},
   "outputs": [],
   "source": [
    "\"\"\"NGC3627 properties - https://academic.oup.com/mnras/article-abstract/506/1/963/6311820?redirectedFrom=fulltext\"\"\"\n",
    "\n",
    "sfr_ngc3627 = np.log10(0.038924883)\n",
    "gas_ngc3627 = np.log10(18505825/2)"
   ]
  },
  {
   "cell_type": "code",
   "execution_count": 8,
   "metadata": {},
   "outputs": [
    {
     "data": {
      "text/plain": [
       "(array([5.47494434, 5.66464198, 5.68169339, 5.87215627, 5.64738297,\n",
       "        5.47494434, 5.47494434, 5.47494434]),\n",
       " array([-2.10228471, -2.08156215, -2.06104048, -2.06029873, -2.24499757,\n",
       "        -2.26590348, -2.53153116, -2.67286031]))"
      ]
     },
     "execution_count": 8,
     "metadata": {},
     "output_type": "execute_result"
    }
   ],
   "source": [
    "\"\"\"M51 properties - https://www.aanda.org/articles/aa/pdf/2019/05/aa34915-18.pdf\"\"\"\n",
    "\n",
    "arr = np.array([[5.97e+4, 5.32e+7],\n",
    "                [9.24e+4, 5.58e+7],\n",
    "                [9.61e+4, 5.85e+7],\n",
    "                [1.49e+5, 5.86e+7],\n",
    "                [8.88e+4, 3.83e+7],\n",
    "                [5.97e+4, 3.65e+7],\n",
    "                [5.97e+4, 1.98e+7],\n",
    "                [5.97e+4, 1.43e+7]])\n",
    "\n",
    "sfr1_m51 = np.log10(arr[:,1])\n",
    "gas1_m51 = np.log10(arr[:,0])\n",
    "\n",
    "sfr_m51 = np.log10(get_SFR(sfr1_m51).value)\n",
    "gas_m51 = np.log10(get_Mdense(gas1_m51, 5).value)\n",
    "\n",
    "gas_m51, sfr_m51\n",
    "\n",
    "# table_m51 = Table.read('./../data_lada/Querejeta2019.fits')\n",
    "# table_m51 = table_m51[table_m51['Name']=='M51ring ']\n",
    "\n",
    "# beam = (np.pi*50**2)\n",
    "# area = 8.58e6*4*np.pi\n",
    "# sfr_m51 = np.log10(table_m51['SigSFR'].quantity.value*beam/1e6)\n",
    "# gas_m51 = np.log10(table_m51['IHCN'].quantity.value*10*area)\n",
    "# table_m51"
   ]
  },
  {
   "cell_type": "code",
   "execution_count": 9,
   "metadata": {},
   "outputs": [
    {
     "data": {
      "text/plain": [
       "(-7.0, 4.2)"
      ]
     },
     "execution_count": 9,
     "metadata": {},
     "output_type": "execute_result"
    },
    {
     "data": {
      "image/png": "[encoded data removed]",
      "text/plain": [
       "<Figure size 288x270 with 1 Axes>"
      ]
     },
     "metadata": {
      "needs_background": "light"
     },
     "output_type": "display_data"
    }
   ],
   "source": [
    "fig = plt.figure(figsize = (4, 3.75))\n",
    "ax = fig.add_subplot(111)\n",
    "\n",
    "xl = r'Dense gas, log$_{10}$(M/M$_\\mathrm{\\odot}$)'\n",
    "yl = 'Star formation, log$_{10}$(SFR/M$_\\mathrm{\\odot}$yr$^{-1}$)'\n",
    "ax.set_xlabel(xl, fontname=\"Arial\", weight='heavy')\n",
    "ax.set_ylabel(yl, fontname=\"Arial\", weight='heavy')\n",
    "\n",
    "ax.grid(True, ls=':', zorder=-1, alpha=0.5)\n",
    "\n",
    "# ax.set_xscale('log')\n",
    "# ax.set_yscale('log')\n",
    "\n",
    "# ax.set_xticks(np.logspace(1, 15, 15))\n",
    "# ax.set_yticks(np.logspace(-15, 15, 31))\n",
    "\n",
    "ax.set_xlim([0, 11])\n",
    "ax.set_ylim([-7, 4.2])"
   ]
  },
  {
   "cell_type": "code",
   "execution_count": 10,
   "metadata": {},
   "outputs": [
    {
     "data": {
      "text/plain": [
       "<matplotlib.legend.Legend at 0x7f8ee3dae4f0>"
      ]
     },
     "execution_count": 10,
     "metadata": {},
     "output_type": "execute_result"
    }
   ],
   "source": [
    "\"\"\"Star formation relations\"\"\"\n",
    "x = np.logspace(-15, 15, 31)\n",
    "ax.plot(np.log10(x), np.log10(get_MdenseSFR(x)), \n",
    "        linestyle='--', color = 'black', \n",
    "        alpha=0.7, zorder=0, label='Lada et al. (2012)')\n",
    "\n",
    "ax.plot(np.log10(x), np.log10(get_MdenseSFR(x)*0.1), \n",
    "        linestyle=':', color = 'black', \n",
    "        alpha=0.7, zorder=20)\n",
    "\n",
    "ax.legend(loc='lower right',ncol=1,\n",
    "            scatterpoints=1, fontsize=8)"
   ]
  },
  {
   "cell_type": "code",
   "execution_count": 11,
   "metadata": {},
   "outputs": [
    {
     "name": "stderr",
     "output_type": "stream",
     "text": [
      "*c* argument looks like a single numeric RGB or RGBA sequence, which should be avoided as value-mapping will have precedence in case its length matches with *x* & *y*.  Please use the *color* keyword-argument or provide a 2D array with a single row if you intend to specify the same RGB or RGBA value for all points.\n",
      "*c* argument looks like a single numeric RGB or RGBA sequence, which should be avoided as value-mapping will have precedence in case its length matches with *x* & *y*.  Please use the *color* keyword-argument or provide a 2D array with a single row if you intend to specify the same RGB or RGBA value for all points.\n",
      "*c* argument looks like a single numeric RGB or RGBA sequence, which should be avoided as value-mapping will have precedence in case its length matches with *x* & *y*.  Please use the *color* keyword-argument or provide a 2D array with a single row if you intend to specify the same RGB or RGBA value for all points.\n",
      "*c* argument looks like a single numeric RGB or RGBA sequence, which should be avoided as value-mapping will have precedence in case its length matches with *x* & *y*.  Please use the *color* keyword-argument or provide a 2D array with a single row if you intend to specify the same RGB or RGBA value for all points.\n",
      "*c* argument looks like a single numeric RGB or RGBA sequence, which should be avoided as value-mapping will have precedence in case its length matches with *x* & *y*.  Please use the *color* keyword-argument or provide a 2D array with a single row if you intend to specify the same RGB or RGBA value for all points.\n",
      "*c* argument looks like a single numeric RGB or RGBA sequence, which should be avoided as value-mapping will have precedence in case its length matches with *x* & *y*.  Please use the *color* keyword-argument or provide a 2D array with a single row if you intend to specify the same RGB or RGBA value for all points.\n",
      "*c* argument looks like a single numeric RGB or RGBA sequence, which should be avoided as value-mapping will have precedence in case its length matches with *x* & *y*.  Please use the *color* keyword-argument or provide a 2D array with a single row if you intend to specify the same RGB or RGBA value for all points.\n",
      "*c* argument looks like a single numeric RGB or RGBA sequence, which should be avoided as value-mapping will have precedence in case its length matches with *x* & *y*.  Please use the *color* keyword-argument or provide a 2D array with a single row if you intend to specify the same RGB or RGBA value for all points.\n"
     ]
    }
   ],
   "source": [
    "\"\"\"literature properties - Milky Way Clouds\"\"\"\n",
    "x = np.log10(np.hstack([table_cl['Mdense'],table_ce['Mdense']]))\n",
    "y = np.log10(np.hstack([table_cl['SFR'],table_ce['SFR']]))\n",
    "\n",
    "ax.scatter(x, y, ec='none', fc='grey', s=25)\n",
    "ax.scatter(x, y, ec='none', fc='white', s=12)\n",
    "ax.scatter(x, y, s=12, ec='none', alpha=0.4, c=cmap1[2])\n",
    "\n",
    "table_WMc['Mdense'] = np.log10(table_WMc['Mdense'])\n",
    "table_WMc['SFR'] = np.log10(table_WMc['SFR'])\n",
    "\n",
    "refs = list(np.unique(table_WMc['Ref']))\n",
    "\n",
    "for i, ref in enumerate(refs):\n",
    "    \n",
    "    ids = np.where(table_WMc['Ref']==ref)\n",
    "    x = table_WMc['Mdense'][ids]\n",
    "    y = table_WMc['SFR'][ids]\n",
    "    ax.scatter(x, y, ec='none', fc='grey', s=25)\n",
    "#     print(len(x))\n",
    "#     print(x,y)\n",
    "    \n",
    "for i, ref in enumerate(refs):\n",
    "    \n",
    "    ids = np.where(table_WMc['Ref']==ref)\n",
    "    x = table_WMc['Mdense'][ids]\n",
    "    y = table_WMc['SFR'][ids]\n",
    "\n",
    "    ax.scatter(x, y, ec='none', fc='white', s=12)\n",
    "\n",
    "for i, ref in enumerate(refs):\n",
    "    \n",
    "    ids = np.where(table_WMc['Ref']==ref)\n",
    "    x = table_WMc['Mdense'][ids]\n",
    "    y = table_WMc['SFR'][ids]\n",
    "    ax.scatter(x, y, s=12, ec='none', alpha=0.4, c=cmap1[2])"
   ]
  },
  {
   "cell_type": "code",
   "execution_count": 12,
   "metadata": {},
   "outputs": [
    {
     "data": {
      "text/plain": [
       "['Braine16',\n",
       " 'Brouillet05',\n",
       " 'Buchbender13',\n",
       " 'Chen17',\n",
       " 'Chin97',\n",
       " 'Chin98',\n",
       " 'Stephens16',\n",
       " 'Wu10']"
      ]
     },
     "execution_count": 12,
     "metadata": {},
     "output_type": "execute_result"
    }
   ],
   "source": [
    "refs = list(np.unique(table_WMc['Ref']))\n",
    "refs"
   ]
  },
  {
   "cell_type": "code",
   "execution_count": 13,
   "metadata": {},
   "outputs": [
    {
     "name": "stderr",
     "output_type": "stream",
     "text": [
      "*c* argument looks like a single numeric RGB or RGBA sequence, which should be avoided as value-mapping will have precedence in case its length matches with *x* & *y*.  Please use the *color* keyword-argument or provide a 2D array with a single row if you intend to specify the same RGB or RGBA value for all points.\n",
      "*c* argument looks like a single numeric RGB or RGBA sequence, which should be avoided as value-mapping will have precedence in case its length matches with *x* & *y*.  Please use the *color* keyword-argument or provide a 2D array with a single row if you intend to specify the same RGB or RGBA value for all points.\n",
      "*c* argument looks like a single numeric RGB or RGBA sequence, which should be avoided as value-mapping will have precedence in case its length matches with *x* & *y*.  Please use the *color* keyword-argument or provide a 2D array with a single row if you intend to specify the same RGB or RGBA value for all points.\n",
      "*c* argument looks like a single numeric RGB or RGBA sequence, which should be avoided as value-mapping will have precedence in case its length matches with *x* & *y*.  Please use the *color* keyword-argument or provide a 2D array with a single row if you intend to specify the same RGB or RGBA value for all points.\n",
      "*c* argument looks like a single numeric RGB or RGBA sequence, which should be avoided as value-mapping will have precedence in case its length matches with *x* & *y*.  Please use the *color* keyword-argument or provide a 2D array with a single row if you intend to specify the same RGB or RGBA value for all points.\n",
      "*c* argument looks like a single numeric RGB or RGBA sequence, which should be avoided as value-mapping will have precedence in case its length matches with *x* & *y*.  Please use the *color* keyword-argument or provide a 2D array with a single row if you intend to specify the same RGB or RGBA value for all points.\n",
      "*c* argument looks like a single numeric RGB or RGBA sequence, which should be avoided as value-mapping will have precedence in case its length matches with *x* & *y*.  Please use the *color* keyword-argument or provide a 2D array with a single row if you intend to specify the same RGB or RGBA value for all points.\n",
      "*c* argument looks like a single numeric RGB or RGBA sequence, which should be avoided as value-mapping will have precedence in case its length matches with *x* & *y*.  Please use the *color* keyword-argument or provide a 2D array with a single row if you intend to specify the same RGB or RGBA value for all points.\n",
      "*c* argument looks like a single numeric RGB or RGBA sequence, which should be avoided as value-mapping will have precedence in case its length matches with *x* & *y*.  Please use the *color* keyword-argument or provide a 2D array with a single row if you intend to specify the same RGB or RGBA value for all points.\n",
      "*c* argument looks like a single numeric RGB or RGBA sequence, which should be avoided as value-mapping will have precedence in case its length matches with *x* & *y*.  Please use the *color* keyword-argument or provide a 2D array with a single row if you intend to specify the same RGB or RGBA value for all points.\n",
      "*c* argument looks like a single numeric RGB or RGBA sequence, which should be avoided as value-mapping will have precedence in case its length matches with *x* & *y*.  Please use the *color* keyword-argument or provide a 2D array with a single row if you intend to specify the same RGB or RGBA value for all points.\n"
     ]
    }
   ],
   "source": [
    "\"\"\"Extragalatic\"\"\"\n",
    "\n",
    "table['Mdense'] = np.log10(table['Mdense'])\n",
    "table['SFR'] = np.log10(table['SFR'])\n",
    "\n",
    "refs = list(np.unique(table['Ref']))\n",
    "refs.remove('Gallagher18')\n",
    "cmap = get_cmap(len(refs))\n",
    "\n",
    "for i, ref in enumerate(refs):\n",
    "    \n",
    "    ids = np.where(table['Ref']==ref)\n",
    "    x = table['Mdense'][ids]\n",
    "    y = table['SFR'][ids]\n",
    "    \n",
    "    ax.scatter(x, y, ec='none', fc='grey', s=25)\n",
    "\n",
    "for i, ref in enumerate(refs):\n",
    "    \n",
    "    ids = np.where(table['Ref']==ref)\n",
    "    x = table['Mdense'][ids]\n",
    "    y = table['SFR'][ids]\n",
    "    \n",
    "    ax.scatter(x, y, ec='none', fc='white', s=12)\n",
    "\n",
    "for i, ref in enumerate(refs):\n",
    "    \n",
    "    ids = np.where(table['Ref']==ref)\n",
    "    x = table['Mdense'][ids]\n",
    "    y = table['SFR'][ids]\n",
    "\n",
    "    if ref in ['Bigiel15', 'Gao04', 'Usero15', 'Kepley14', 'Crocker']: \n",
    "        ax.scatter(x, y, s=12, ec='none', alpha=0.4, c=cmap1[3])\n",
    "\n",
    "    if ref in ['Gao07']: \n",
    "        ax.scatter(x, y, s=12, ec='none', alpha=0.4, c=cmap1[4])\n",
    "        \n",
    "    if ref in ['Krips08', 'Garcia-Burillo12', \n",
    "               'Gracia-Carpio08', 'Juneau09', 'Privon15']: \n",
    "        ax.scatter(x, y, s=12, ec='none', alpha=0.4, c=cmap1[1])"
   ]
  },
  {
   "cell_type": "code",
   "execution_count": 14,
   "metadata": {},
   "outputs": [
    {
     "data": {
      "text/plain": [
       "<matplotlib.collections.PathCollection at 0x7f8ee3e2ba00>"
      ]
     },
     "execution_count": 14,
     "metadata": {},
     "output_type": "execute_result"
    }
   ],
   "source": [
    "\"\"\"Literatur properties CMZs\"\"\"\n",
    "\n",
    "ref = 'Gallagher18'\n",
    "ids = np.where(table['Ref']==ref)\n",
    "x = table['Mdense'][ids]\n",
    "y = table['SFR'][ids]\n",
    "\n",
    "ax.scatter(x, y, fc=cmap2[0], ec=cmap1[0], linewidths=1, s=30, marker='h')\n",
    "\n",
    "table_E['Mdense'] = np.log10(table_E['Mdense'])\n",
    "table_E['SFR'] = np.log10(table_E['SFR'])\n",
    "\n",
    "ax.scatter(table_E['Mdense'], table_E['SFR'], fc=cmap2[0], ec=cmap1[0], linewidths=1, s=30, marker='h')"
   ]
  },
  {
   "cell_type": "code",
   "execution_count": 15,
   "metadata": {},
   "outputs": [
    {
     "data": {
      "text/plain": [
       "<matplotlib.collections.PathCollection at 0x7f8ee3e6f670>"
      ]
     },
     "execution_count": 15,
     "metadata": {},
     "output_type": "execute_result"
    }
   ],
   "source": [
    "# resolved centres\n",
    "\n",
    "ax.scatter(gas_ngc253, sfr_ngc253, fc=cmap2[0], ec=cmap1[0], linewidths=1, s=30, marker='h')\n",
    "ax.scatter(gas_ngc3627, sfr_ngc3627, fc=cmap2[0], ec=cmap1[0], linewidths=1, s=30, marker='h')\n",
    "ax.scatter(gas_m51, sfr_m51, fc=cmap2[0], ec=cmap1[0], linewidths=1, s=30, marker='h')"
   ]
  },
  {
   "cell_type": "code",
   "execution_count": 16,
   "metadata": {},
   "outputs": [],
   "source": [
    "x = np.mean([gas_CMZ_L, gas_CMZ_H])\n",
    "y = np.mean([sfr_CMZ_L, sfr_CMZ_H])\n",
    "xerr = (gas_CMZ_H-x)\n",
    "yerr = (sfr_CMZ_H-y)"
   ]
  },
  {
   "cell_type": "code",
   "execution_count": 17,
   "metadata": {},
   "outputs": [
    {
     "data": {
      "text/plain": [
       "<matplotlib.collections.PathCollection at 0x7f8ee40f0d90>"
      ]
     },
     "execution_count": 17,
     "metadata": {},
     "output_type": "execute_result"
    }
   ],
   "source": [
    "\"\"\"CMZ properties\"\"\"\n",
    "\n",
    "# ax.plot(table_MWevo['Mdense'], table_MWevo['SFR'],\n",
    "#         c='blue', ls='--', zorder=11)\n",
    "\n",
    "ax.errorbar([x],[y],xerr=xerr,yerr=yerr,\n",
    "            zorder=11, c='C0', \n",
    "            capsize=3, \n",
    "            elinewidth=2,\n",
    "            capthick=2)\n",
    "\n",
    "ax.scatter(x,y, fc=cmap2[0], ec=cmap1[0], lw=2, zorder=11)\n",
    "\n",
    "# ax.scatter(gas_CMZ_L, sfr_CMZ_L, fc=cmap2[0], ec=cmap1[0], lw=2, zorder=2)\n",
    "# ax.scatter(gas_CMZ_H, sfr_CMZ_H, fc=cmap2[0], ec=cmap1[0], lw=2, zorder=2)\n",
    "# ax.plot([gas_CMZ_L, gas_CMZ_H], \n",
    "#         [sfr_CMZ_L, sfr_CMZ_H], \n",
    "#         c=cmap1[0], lw=2, zorder=1, \n",
    "#         ls='-')"
   ]
  },
  {
   "cell_type": "code",
   "execution_count": 18,
   "metadata": {},
   "outputs": [
    {
     "data": {
      "image/png": "[encoded data removed]",
      "text/plain": [
       "<Figure size 288x270 with 1 Axes>"
      ]
     },
     "execution_count": 18,
     "metadata": {},
     "output_type": "execute_result"
    },
    {
     "data": {
      "text/plain": [
       "<Figure size 432x288 with 0 Axes>"
      ]
     },
     "metadata": {},
     "output_type": "display_data"
    }
   ],
   "source": [
    "plt.tight_layout()\n",
    "fig.savefig('./../figs/lada_plot_phys.pdf',bbox_inches='tight')\n",
    "fig"
   ]
  },
  {
   "cell_type": "code",
   "execution_count": null,
   "metadata": {},
   "outputs": [],
   "source": []
  },
  {
   "cell_type": "code",
   "execution_count": null,
   "metadata": {},
   "outputs": [],
   "source": []
  }
 ],
 "metadata": {
  "kernelspec": {
   "display_name": "Python 3",
   "language": "python",
   "name": "python3"
  },
  "language_info": {
   "codemirror_mode": {
    "name": "ipython",
    "version": 3
   },
   "file_extension": ".py",
   "mimetype": "text/x-python",
   "name": "python",
   "nbconvert_exporter": "python",
   "pygments_lexer": "ipython3",
   "version": "3.8.8"
  }
 },
 "nbformat": 4,
 "nbformat_minor": 4
}
