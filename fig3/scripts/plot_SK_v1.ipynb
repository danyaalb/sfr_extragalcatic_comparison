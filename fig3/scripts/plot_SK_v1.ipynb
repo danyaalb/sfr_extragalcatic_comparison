{
 "cells": [
  {
   "cell_type": "code",
   "execution_count": 178,
   "metadata": {},
   "outputs": [],
   "source": [
    "import numpy as np\n",
    "import matplotlib.pyplot as plt\n",
    "import matplotlib as mpl\n",
    "from astropy.table import Table, join, vstack, hstack\n",
    "import astropy.units as au\n",
    "import astropy.constants as ac \n",
    "import astropy.io.ascii as asciitable\n",
    "import scipy.interpolate as interp\n",
    "import scipy.ndimage\n",
    "from astropy.io import ascii\n",
    "\n",
    "import bindensity\n",
    "\n",
    "plt.rcParams[\"font.family\"] = \"sans-serif\"\n",
    "plt.rcParams[\"font.weight\"] = \"bold\"\n",
    "plt.rcParams[\"axes.labelweight\"] = \"bold\"\n",
    "plt.rcParams[\"xtick.direction\"] = \"in\"\n",
    "plt.rcParams[\"ytick.direction\"] = \"in\" \n",
    "\n",
    "# mpl.rc('text.latex', preamble=r'\\usepackage{cmbright} \\boldmath')\n",
    "# mpl.rcParams['text.latex.preamble'] = [r'\\boldmath']\n",
    "# mpl.rc('font',**{'family':'sans-serif','sans-serif':['Helvetica']})\n",
    "# mpl.rc('text', usetex=True)\n",
    "\n",
    "cmap = mpl.cm.get_cmap('tab20')\n",
    "cmap1 = cmap(np.arange(0,1,0.1))\n",
    "cmap2 = cmap(np.arange(0.05,1,0.1))"
   ]
  },
  {
   "cell_type": "code",
   "execution_count": 2,
   "metadata": {},
   "outputs": [],
   "source": [
    "\"\"\"Star formation relations\"\"\"\n",
    "\n",
    "def get_starK98(Sigma_gas):\n",
    "    '''Schmidt law from Kennicutt (1998)\n",
    "    Sigma_mol = surface density of molecular + atomic gas (Msun/pc^2)\n",
    "    Sigma_SFR = surface density of star formation rate (Msun/kpc^2/yr)'''\n",
    "    A = 2.5e-4\n",
    "    N = 1.4\n",
    "    Sigma_SFR = A * (Sigma_gas**N)\n",
    "    return Sigma_SFR\n",
    "\n",
    "def get_starB08(Sigma_mol):\n",
    "    '''Schmidt law from Bigiel+ (2008)\n",
    "    Sigma_mol = surface density of molecular gas (Msun/pc^2)\n",
    "    Sigma_SFR = surface density of star formation rate (Msun/kpc^2/yr)\n",
    "    [Note that I have divided this by a factor of 10 rwt the Bigiel+ (2008), which is in units of Msun/10]'''\n",
    "    A = 10**-3.1\n",
    "    N = 1\n",
    "    Sigma_SFR = A * (Sigma_mol**N)\n",
    "    return Sigma_SFR"
   ]
  },
  {
   "cell_type": "code",
   "execution_count": 3,
   "metadata": {},
   "outputs": [],
   "source": [
    "\"\"\"Geometry\"\"\"\n",
    "\n",
    "def get_areaannulus(R, deltaR):\n",
    "    \"\"\"Surface area (A) of annulus with outer radius R and width deltaR\"\"\"\n",
    "    A = np.pi*(R**2 - (R-deltaR)**2)\n",
    "    return(A)\n",
    "\n",
    "def get_arearectangle(L, H):\n",
    "    \"\"\"Surface area (A) of rectangle with length L and height H\"\"\"\n",
    "    A = L*H\n",
    "    return(A)\n",
    "\n",
    "def get_surfacedensity(A, p, log=True):\n",
    "    \"\"\"Surface area of annulus with outer radius R and width deltaR\n",
    "    log=True returns log10 units\"\"\"\n",
    "    Sigma = p/A\n",
    "    if log: \n",
    "        Sigma=np.log10(Sigma)\n",
    "    return(Sigma)"
   ]
  },
  {
   "cell_type": "code",
   "execution_count": 4,
   "metadata": {},
   "outputs": [],
   "source": [
    "\"\"\"CMZ properties\"\"\"\n",
    "\n",
    "area_flat = get_arearectangle(200, 20)\n",
    "area_ring = get_areaannulus(100, 10)\n",
    "\n",
    "sfr_CMZ = 0.012\n",
    "gas_CMZ = 1.8e7\n",
    "\n",
    "Sigmagas_CMZring_L = get_surfacedensity(area_ring, gas_CMZ)\n",
    "Sigmasfr_CMZring_L = get_surfacedensity(area_ring, sfr_CMZ)+6 \n",
    "\n",
    "sfr_CMZ = 0.14\n",
    "gas_CMZ = 5.3e7\n",
    "\n",
    "Sigmagas_CMZring_H = get_surfacedensity(area_ring, gas_CMZ)\n",
    "Sigmasfr_CMZring_H = get_surfacedensity(area_ring, sfr_CMZ)+6\n",
    "\n",
    "sfr_CMZ = 0.09\n",
    "gas_CMZ = 1.8e7\n",
    "\n",
    "Sigmagas_CMZring = get_surfacedensity(area_ring, gas_CMZ)\n",
    "Sigmasfr_CMZring = get_surfacedensity(area_ring, sfr_CMZ)+6"
   ]
  },
  {
   "cell_type": "code",
   "execution_count": 5,
   "metadata": {},
   "outputs": [
    {
     "name": "stdout",
     "output_type": "stream",
     "text": [
      "Area fraction ring/flat 1.49 \n",
      "\n",
      "Sigma GAS ring low log(): 3.48\n",
      "Sigma SFR ring low log(): 0.30 \n",
      "\n",
      "Sigma GAS ring low log(): 3.95\n",
      "Sigma SFR ring low log(): 1.37 \n",
      "\n",
      "Sigma GAS ring low log(): 3.48\n",
      "Sigma SFR ring low log(): 1.18 \n",
      "\n"
     ]
    }
   ],
   "source": [
    "print('Area fraction ring/flat %0.2f \\n' %(area_ring/area_flat))\n",
    "\n",
    "print('Sigma GAS ring low log(): %0.2f' %(Sigmagas_CMZring_L))\n",
    "print('Sigma SFR ring low log(): %0.2f \\n' %(Sigmasfr_CMZring_L))\n",
    "\n",
    "print('Sigma GAS ring low log(): %0.2f' %(Sigmagas_CMZring_H))\n",
    "print('Sigma SFR ring low log(): %0.2f \\n' %(Sigmasfr_CMZring_H))\n",
    "\n",
    "print('Sigma GAS ring low log(): %0.2f' %(Sigmagas_CMZring))\n",
    "print('Sigma SFR ring low log(): %0.2f \\n' %(Sigmasfr_CMZring))"
   ]
  },
  {
   "cell_type": "code",
   "execution_count": 85,
   "metadata": {},
   "outputs": [],
   "source": [
    "\"\"\"literature properties\"\"\"\n",
    "\n",
    "Sigmagas_K98_L = np.log10(0.05e2)\n",
    "Sigmagas_K98_H = np.log10(0.20e2)\n",
    "Sigmasfr_K98_L = np.log10(0.0024)\n",
    "Sigmasfr_K98_H = np.log10(0.017)\n",
    "\n",
    "Sigmagas_D10SB_L = np.log10(3.0e2)\n",
    "Sigmagas_D10SB_H = np.log10(100e2)\n",
    "Sigmasfr_D10SB_L = np.log10(3.9)\n",
    "Sigmasfr_D10SB_H = np.log10(560)\n",
    "\n",
    "Sigmagas_D10BzK_L = np.log10(2.0e2)\n",
    "Sigmagas_D10BzK_H = np.log10(10e2)\n",
    "Sigmasfr_D10BzK_L = np.log10(0.28)\n",
    "Sigmasfr_D10BzK_H = np.log10(2.7)\n",
    "\n",
    "# 10**Sigmasfr_CMZring, 10**Sigmagas_CMZring\n",
    "# # table = Table.read('./../data_lada/galaxies_MJD.csv')\n",
    "# # table['logLHCN'].unit = au.K * au.km/ au.s/ au.pc**2\n",
    "# # table['logLIR'].unit = au.Lsun"
   ]
  },
  {
   "cell_type": "code",
   "execution_count": 143,
   "metadata": {
    "tags": []
   },
   "outputs": [
    {
     "data": {
      "image/png": "[encoded data removed]",
      "text/plain": [
       "<Figure size 288x270 with 1 Axes>"
      ]
     },
     "metadata": {
      "needs_background": "light"
     },
     "output_type": "display_data"
    }
   ],
   "source": [
    "fig = plt.figure(figsize = (4, 3.75))\n",
    "ax = fig.add_subplot(111)\n",
    "\n",
    "xl = 'Gas, log$_{10}$($\\Sigma$/M$_\\mathrm{\\odot}$pc$^{-2}$)'\n",
    "yl = 'Star formation, log$_{10}$($\\Sigma_\\mathrm{SFR}$/M$_\\mathrm{\\odot}$kpc$^{-2}$yr$^{-1}$)'\n",
    "ax.set_xlabel(xl, fontname=\"Arial\", weight='heavy')\n",
    "ax.set_ylabel(yl, fontname=\"Arial\", weight='heavy')\n",
    "\n",
    "ax.set_xlim(-0.1, 5)\n",
    "ax.set_ylim(-3.5, 3)\n",
    "\n",
    "ax.grid(True, ls=':', zorder=-1, alpha=0.5)"
   ]
  },
  {
   "cell_type": "code",
   "execution_count": 144,
   "metadata": {
    "tags": []
   },
   "outputs": [],
   "source": [
    "\"\"\"Star formation relations\"\"\"\n",
    "x = np.logspace(-15, 15, 31)\n",
    "ax.plot(np.log10(x), np.log10(get_starK98(x)), linestyle='--', color = 'black', alpha=0.5, zorder=0, label='Kennicutt (1998)')\n",
    "ax.plot(np.log10(x), np.log10(get_starB08(x)), linestyle='-.', color = 'black', alpha=0.5, zorder=0, label='Bigiel et al. (2008)')\n",
    "\n",
    "legend1 = ax.legend(loc='lower right',ncol=1,\n",
    "            scatterpoints=1, fontsize=8)\n",
    "# fig"
   ]
  },
  {
   "cell_type": "code",
   "execution_count": 145,
   "metadata": {
    "tags": []
   },
   "outputs": [
    {
     "data": {
      "text/plain": [
       "[<matplotlib.lines.Line2D at 0x7fb77c81f550>]"
      ]
     },
     "execution_count": 145,
     "metadata": {},
     "output_type": "execute_result"
    }
   ],
   "source": [
    "\"\"\"CMZ properties\"\"\"\n",
    "ax.scatter(Sigmagas_CMZring_L, Sigmasfr_CMZring_L, fc=cmap2[0], ec=cmap1[0], lw=2, zorder=3)\n",
    "ax.scatter(Sigmagas_CMZring_H, Sigmasfr_CMZring_H, fc=cmap2[0], ec=cmap1[0], lw=2, zorder=3)\n",
    "ax.plot([Sigmagas_CMZring_L, Sigmagas_CMZring_H], [Sigmasfr_CMZring_L, Sigmasfr_CMZring_H], \n",
    "        c=cmap1[0], lw=2, ls='-', zorder=2)\n",
    "\n",
    "# fig"
   ]
  },
  {
   "cell_type": "code",
   "execution_count": 151,
   "metadata": {},
   "outputs": [
    {
     "name": "stderr",
     "output_type": "stream",
     "text": [
      "/Users/ashleybarnes/opt/anaconda3/lib/python3.7/site-packages/ipykernel_launcher.py:7: RuntimeWarning: divide by zero encountered in log10\n",
      "  import sys\n",
      "*c* argument looks like a single numeric RGB or RGBA sequence, which should be avoided as value-mapping will have precedence in case its length matches with *x* & *y*.  Please use the *color* keyword-argument or provide a 2-D array with a single row if you intend to specify the same RGB or RGBA value for all points.\n"
     ]
    },
    {
     "data": {
      "image/png": "[encoded data removed]",
      "text/plain": [
       "<Figure size 288x270 with 1 Axes>"
      ]
     },
     "execution_count": 151,
     "metadata": {},
     "output_type": "execute_result"
    }
   ],
   "source": [
    "\"\"\"literature properties - Bigiel 2008\"\"\"\n",
    "\n",
    "table_B08in = asciitable.read('./../data_sk/bigiel08_in.txt', Reader=asciitable.Cds)\n",
    "table_B08out = asciitable.read('./../data_sk/bigiel08_out.txt', Reader=asciitable.Cds)\n",
    "\n",
    "table_B08in['logGAS'] = np.log10(10**table_B08in['logHI'].quantity.value + 10**table_B08in['logH2'].quantity.value) *table_B08in['logH2'].unit\n",
    "table_B08out['logSFR'] = np.log10(table_B08out['SFR'].quantity.value *1e-5) *table_B08in['logSFR'].unit\n",
    "\n",
    "m4 = ax.scatter(table_B08in['logGAS'], table_B08in['logSFR'], alpha=0.1, c=cmap2[1])\n",
    "# m5 = ax.scatter(table_B08out['logHI'], table_B08out['logSFR'])\n",
    "\n",
    "binsx_c, binsy_c, counts = bindensity.get_bindensity_2d(table_B08in['logGAS'], table_B08in['logSFR'], sigma=1)\n",
    "\n",
    "ax.contour(scipy.ndimage.zoom(counts/counts.max(), 0.4), \n",
    "           extent=(binsx_c.min(), binsx_c.max(), binsy_c.min(), binsy_c.max()),\n",
    "           levels=[0.01,0.1,0.5,0.75,0.95], \n",
    "           colors=cmap1[1].reshape(-1,4), alpha=1)\n",
    "fig"
   ]
  },
  {
   "cell_type": "code",
   "execution_count": 147,
   "metadata": {},
   "outputs": [
    {
     "data": {
      "image/png": "[encoded data removed]",
      "text/plain": [
       "<Figure size 288x270 with 1 Axes>"
      ]
     },
     "execution_count": 147,
     "metadata": {},
     "output_type": "execute_result"
    }
   ],
   "source": [
    "\"\"\"literature properties - Bolatto 2011\"\"\"\n",
    "\n",
    "contours_B11 = np.loadtxt('./../data_sk/bolatto2011_12pc.dat', skiprows=2)\n",
    "contours_B11[np.isnan(contours_B11)] = 0\n",
    "contours_B11 = contours_B11/contours_B11.max()\n",
    "contoursXlim_B11 = np.loadtxt('./../data_sk/bolatto2011_12pc.dat', max_rows=1)\n",
    "contoursYlim_B11 = np.loadtxt('./../data_sk/bolatto2011_12pc.dat', skiprows=1, max_rows=1)\n",
    "\n",
    "ax.contour(scipy.ndimage.zoom(contours_B11, 1), \n",
    "            extent=(contoursXlim_B11.min(), contoursXlim_B11.max(), contoursYlim_B11.min(), contoursYlim_B11.max()),\n",
    "            levels=[0.1,0.2,0.3,0.5,0.7,0.9,0.99],\n",
    "            colors=cmap1[2].reshape(-1,4), alpha=1)\n",
    "\n",
    "fig"
   ]
  },
  {
   "cell_type": "code",
   "execution_count": 163,
   "metadata": {},
   "outputs": [],
   "source": [
    "# Define unit conversions\n",
    "pc=3.09e18\n",
    "kpc=1e3*pc\n",
    "msun=1.99e33\n",
    "myr=3.16e13\n",
    "g=6.67e-8\n",
    "msunpc2=msun/pc**2\n",
    "msunpc2myr=msunpc2/myr\n",
    "\n",
    "# Choice of CO alpha factor scalings NORMALIZED TO DADDI'S CONVENTIONS\n",
    "alphasb = 1.0      # starburst value\n",
    "alphahiz = 1.0     # high-z disk\n",
    "alphaz0 = 1.0      # z=0 scaling\n",
    "alphathings = 4.6/4.4 # THINGS data value\n",
    "\n",
    "# Parameters\n",
    "sigmagmc=85*msun/pc**2    # GMC surface density in normal galaxies\n",
    "phip=3.0                  # pressure normalized to isothermal gas disk value\n",
    "vdisp1=0.8e6                # ISM velocity dispersion in local galaxies\n",
    "vdisp2=3e6                # ISM velocity dispersion in high-z galaxies and SBs\n",
    "q=1.0                     # Toomre Q\n",
    "betasb=1.0                # Index of rotation curve in SBs (solid body)\n",
    "betadisk=0.0              # Index of rotation curve in normal disks (flat)"
   ]
  },
  {
   "cell_type": "code",
   "execution_count": 156,
   "metadata": {},
   "outputs": [],
   "source": [
    "\"\"\"literature properties - Heiderman\"\"\"\n",
    "\n",
    "area_heid=[]          # Cloud area in pc^2\n",
    "sigmag_heid=[]        # Gas surface density\n",
    "sigmasfr_heid=[]      # SFR surface density\n",
    "mass_heid=[]          # Total mass\n",
    "fp=open('./../data_sk/heiderman.txt', 'r')\n",
    "for line in fp:\n",
    "    spl=line.split()\n",
    "    area_heid.append(float(spl[8]))\n",
    "    sigmag_heid.append(float(spl[14]))\n",
    "    sigmasfr_heid.append(float(spl[20]))\n",
    "    mass_heid.append(float(spl[11]))\n",
    "fp.close()\n",
    "area_heid=np.array(area_heid)*pc**2\n",
    "sigmag_heid=np.array(sigmag_heid)*msun/pc**2\n",
    "sigmasfr_heid=np.array(sigmasfr_heid)*msun/pc**2/myr"
   ]
  },
  {
   "cell_type": "code",
   "execution_count": 159,
   "metadata": {},
   "outputs": [],
   "source": [
    "\"\"\"literature properties - Lada\"\"\"\n",
    "\n",
    "# Lada data; masses for A_K = 0.1 and 0.8 contours\n",
    "mass_lada1=np.array([67714., 71828., 99930., 18438., 14964., 14165., 1137., \n",
    "                  7937., 2157., 1379., 787.])*msun\n",
    "mass_lada2=np.array([13721., 7261., 3199., 1880., 1766., 1296., 258., 178., \n",
    "                  163., 124., 75.])*msun\n",
    "sfr_lada=np.array([715., 159., 70., 150., 84., 79., 25., 5., 17., 3., 3.])*msun/myr\n",
    "sigmag_lada2=116.*2.*msun/pc**2\n",
    "sigmag_lada1=sigmag_lada2/8.0\n",
    "area_lada1=mass_lada1/sigmag_lada1\n",
    "area_lada2=mass_lada2/sigmag_lada2\n",
    "sigmasfr_lada1=sfr_lada/area_lada1\n",
    "sigmasfr_lada2=sfr_lada/area_lada2/3.0"
   ]
  },
  {
   "cell_type": "code",
   "execution_count": 165,
   "metadata": {},
   "outputs": [],
   "source": [
    "\"\"\"literature properties - Genzel\"\"\"\n",
    "\n",
    "sigmag_genzel=[]\n",
    "sigmasfr_genzel=[]\n",
    "sigmagtdyn_genzel=[]\n",
    "sb_genzel=[]\n",
    "fp=open('./../data_sk/genzel_ks.dat', 'r')\n",
    "for line in fp:\n",
    "    if line[0]=='#':\n",
    "        continue\n",
    "    spl=line.split()\n",
    "    if spl[0]=='Name':\n",
    "        continue\n",
    "    sigmag_genzel.append(10.0**float(spl[11])*msun/pc**2)\n",
    "    sigmagtdyn_genzel.append(10.0**float(spl[12])/(2.0*np.pi)*msun/pc**2/myr)\n",
    "    sigmasfr_genzel.append(10.0**float(spl[13])*msun/pc**2/myr)\n",
    "    # Apply CO scalings\n",
    "    if spl[0][0:3]=='SMM':\n",
    "        # sub-mm galaxy, so use starburst scalings; Genzel uses alpha = 1.0\n",
    "        # for starbursts, and Daddi's convention is 0.8\n",
    "        sb_genzel.append(True)\n",
    "        sigmag_genzel[-1] = sigmag_genzel[-1]*0.8/1.0*alphasb\n",
    "        sigmagtdyn_genzel[-1] = sigmagtdyn_genzel[-1]*0.8/1.0*alphasb\n",
    "    else:\n",
    "        # non-sub-mm galaxy, so use normal high z scalings; Genzel uses\n",
    "        # alpha = 3.2, Daddi uses 3.6\n",
    "        sb_genzel.append(False)\n",
    "        sigmag_genzel[-1] = sigmag_genzel[-1]*3.6/3.2*alphahiz\n",
    "        sigmagtdyn_genzel[-1] = sigmagtdyn_genzel[-1]*3.6/3.2*alphahiz\n",
    "fp.close()\n",
    "sigmag_genzel=np.array(sigmag_genzel)\n",
    "sigmasfr_genzel=np.array(sigmasfr_genzel)"
   ]
  },
  {
   "cell_type": "code",
   "execution_count": 182,
   "metadata": {},
   "outputs": [],
   "source": [
    "\"\"\"literature properties - Bouche\"\"\"\n",
    "sigmag_bouche=[]\n",
    "sigmasfr_bouche=[]\n",
    "sigmagtdyn_bouche=[]\n",
    "fp=open('./../data_sk/KS_2_Bouche.dat', 'r')\n",
    "for line in fp:\n",
    "    if line[0]=='#':\n",
    "        continue\n",
    "    spl=line.split()\n",
    "    sigmag_bouche.append(10.0**float(spl[0])*msun/pc**2*alphasb)\n",
    "    sigmagtdyn_bouche.append(10.0**float(spl[2])/(2.0*np.pi)*msun/pc**2/myr * \n",
    "                             alphasb)\n",
    "    sigmasfr_bouche.append(10.0**float(spl[1])*msun/pc**2/myr)\n",
    "fp.close()\n",
    "sigmag_bouche=np.array(sigmag_bouche)\n",
    "sigmasfr_bouche=np.array(sigmasfr_bouche)"
   ]
  },
  {
   "cell_type": "code",
   "execution_count": 167,
   "metadata": {},
   "outputs": [],
   "source": [
    "\"\"\"literature properties - Daddi z = 0.5\"\"\"\n",
    "\n",
    "sigmag_daddiz05=[]\n",
    "sigmasfr_daddiz05=[]\n",
    "sigmagtdyn_daddiz05=[]\n",
    "fp=open('./../data_sk/KS_2_Daddiz05.dat', 'r')\n",
    "for line in fp:\n",
    "    if line[0]=='#':\n",
    "        continue\n",
    "    if line[0]=='\\n':\n",
    "        continue\n",
    "    spl=line.split()\n",
    "    sigmag_daddiz05.append(10.0**float(spl[1])*msun/pc**2*alphahiz)\n",
    "    sigmagtdyn_daddiz05.append(10.0**float(spl[2])*msun/pc**2/myr * \n",
    "                               alphahiz)\n",
    "    sigmasfr_daddiz05.append(10.0**float(spl[0])*msun/pc**2/myr)\n",
    "fp.close()\n",
    "sigmag_daddiz05=np.array(sigmag_daddiz05)\n",
    "sigmasfr_daddiz05=np.array(sigmasfr_daddiz05)"
   ]
  },
  {
   "cell_type": "code",
   "execution_count": 169,
   "metadata": {},
   "outputs": [],
   "source": [
    "\"\"\"literature properties - Daddi z = 2\"\"\"\n",
    "\n",
    "sigmag_daddiz2=[]\n",
    "sigmasfr_daddiz2=[]\n",
    "sigmagtdyn_daddiz2=[]\n",
    "fp=open('./../data_sk/KS_2_Daddi.dat', 'r')\n",
    "for line in fp:\n",
    "    if line[0]=='#':\n",
    "        continue\n",
    "    if line[0]=='\\n':\n",
    "        continue\n",
    "    spl=line.split()\n",
    "    sigmag_daddiz2.append(float(spl[0])*msun/pc**2*alphahiz)\n",
    "    sigmagtdyn_daddiz2.append(float(spl[2])*msun/pc**2/myr * \n",
    "                              alphahiz)\n",
    "    sigmasfr_daddiz2.append(float(spl[1])*msun/pc**2/myr)\n",
    "fp.close()\n",
    "sigmag_daddiz2=np.array(sigmag_daddiz2)\n",
    "sigmasfr_daddiz2=np.array(sigmasfr_daddiz2)"
   ]
  },
  {
   "cell_type": "code",
   "execution_count": 172,
   "metadata": {},
   "outputs": [],
   "source": [
    "\"\"\"literature properties - Tacconi\"\"\"\n",
    "\n",
    "sigmag_tacconi=[]\n",
    "sigmasfr_tacconi=[]\n",
    "sigmagtdyn_tacconi=[]\n",
    "fp=open('./../data_sk/Tacconi_KS.dat', 'r')\n",
    "for line in fp:\n",
    "    if line[0]=='#':\n",
    "        continue\n",
    "    if line[0]=='\\n':\n",
    "        continue\n",
    "    spl=line.split()\n",
    "    sigmag_tacconi.append(10.0**float(spl[1])*msun/pc**2*alphahiz)\n",
    "    sigmagtdyn_tacconi.append(10.0**float(spl[2])*msun/pc**2/myr * \n",
    "                              alphahiz)\n",
    "    sigmasfr_tacconi.append(10.0**float(spl[0])*msun/pc**2/myr)\n",
    "fp.close()\n",
    "sigmag_tacconi=np.array(sigmag_tacconi)\n",
    "sigmasfr_tacconi=np.array(sigmasfr_tacconi)"
   ]
  },
  {
   "cell_type": "code",
   "execution_count": 176,
   "metadata": {},
   "outputs": [],
   "source": [
    "\"\"\"literature properties - Tacconi 2012\"\"\"\n",
    "\n",
    "name_tacconi12=[]\n",
    "sigmag_tacconi12=[]\n",
    "sigmasfr_tacconi12=[]\n",
    "tdyn_tacconi12=[]\n",
    "sb_tacconi12=[]\n",
    "fp=open('./../data_sk/tacconi12.txt', 'r')\n",
    "fp.readline()\n",
    "fp.readline()\n",
    "for line in fp:\n",
    "    spl=line.split()\n",
    "    if spl[2]=='...':\n",
    "        continue\n",
    "    name_tacconi12.append(spl[0])\n",
    "    sigmag_tacconi12.append(10.**float(spl[-2])*msunpc2)\n",
    "    sigmasfr_tacconi12.append(10.**float(spl[-1])*msunpc2myr)\n",
    "    tdyn_tacconi12.append(2*np.pi*float(spl[3])*kpc/(float(spl[2])*1e5))\n",
    "    sb_tacconi12.append('merger' in spl[1].lower() or 'amor' in spl[1].lower())\n",
    "fp.close()\n",
    "sigmag_tacconi12=np.array(sigmag_tacconi12)\n",
    "sigmasfr_tacconi12=np.array(sigmasfr_tacconi12)"
   ]
  },
  {
   "cell_type": "code",
   "execution_count": 174,
   "metadata": {},
   "outputs": [],
   "source": [
    "\"\"\"literature properties - Kennicutt ULIRG\"\"\"\n",
    "\n",
    "sigmag_kenn_ulirg=[]\n",
    "sigmasfr_kenn_ulirg=[]\n",
    "tdyn_kenn_ulirg=[]\n",
    "fp=open('./../data_sk/KS_2_KennUlirgs.dat', 'r')\n",
    "for line in fp:\n",
    "    if line[0]=='#':\n",
    "        continue\n",
    "    if line[0]=='\\n':\n",
    "        continue\n",
    "    spl=line.split()\n",
    "    if spl[2]=='-1':\n",
    "        continue\n",
    "    sigmag_kenn_ulirg.append(10.0**float(spl[0])*msun/pc**2*alphasb)\n",
    "    sigmasfr_kenn_ulirg.append(10.0**float(spl[1])*msun/pc**2/myr)\n",
    "    tdyn_kenn_ulirg.append(float(spl[2])*100*myr)\n",
    "fp.close()\n",
    "sigmag_kenn_ulirg=np.array(sigmag_kenn_ulirg)\n",
    "sigmasfr_kenn_ulirg=np.array(sigmasfr_kenn_ulirg)"
   ]
  },
  {
   "cell_type": "code",
   "execution_count": null,
   "metadata": {},
   "outputs": [],
   "source": [
    "\"\"\"literature properties - Kennicutt spiral\"\"\"\n",
    "\n",
    "sigmag_kenn_spiral=[]\n",
    "sigmasfr_kenn_spiral=[]\n",
    "tdyn_kenn_spiral=[]\n",
    "fp=open('./../data_sk/KS_2_KennSpirals.dat', 'r')\n",
    "for line in fp:\n",
    "    if line[0]=='#':\n",
    "        continue\n",
    "    if line[0]=='\\n':\n",
    "        continue\n",
    "    spl=line.split()\n",
    "    if spl[2]=='-1':\n",
    "        continue\n",
    "    sigmag_kenn_spiral.append(10.0**float(spl[0])*msun/pc**2*alphasb)\n",
    "    sigmasfr_kenn_spiral.append(10.0**float(spl[1])*msun/pc**2/myr)\n",
    "    tdyn_kenn_spiral.append(float(spl[2])*100*myr)\n",
    "fp.close()\n",
    "sigmag_kenn_spiral=array(sigmag_kenn_spiral)\n",
    "sigmasfr_kenn_spiral=array(sigmasfr_kenn_spiral)"
   ]
  },
  {
   "cell_type": "code",
   "execution_count": 179,
   "metadata": {},
   "outputs": [],
   "source": [
    "\"\"\"literature properties - Davis 2014\"\"\"\n",
    "\n",
    "data_davis14=ascii.read('./../data_sk/DAVIS14_WISEsfrs.txt')\n",
    "sigmag_davis14=np.array(data_davis14['Sig_gas'])*msunpc2\n",
    "sigmasfr_davis14=np.array(data_davis14['SFR'])*msunpc2myr"
   ]
  },
  {
   "cell_type": "code",
   "execution_count": 183,
   "metadata": {},
   "outputs": [],
   "source": [
    "\"\"\"literature properties - Evans 2013\"\"\"\n",
    "\n",
    "evansdat=ascii.read('./../data_sk/logsdens.dat')\n",
    "logsigmagtff_evans=evansdat['col1']\n",
    "logsigmasfr_evans=evansdat['col4']\n",
    "evansdat1=ascii.read('./../data_sk/logsdens1.dat')\n",
    "logsigmagtff_evans1=evansdat1['col1']\n",
    "logsigmasfr_evans1=evansdat1['col4']\n",
    "logsigmasfrerr_evans1=evansdat1['col6']\n",
    "evansdat2=ascii.read('./../data_sk/logsdensu.dat')\n",
    "logsigmagtff_evans2=evansdat2['col1']\n",
    "logsigmasfr_evans2=evansdat2['col4']\n",
    "logsigmasfrerr_evans2=evansdat2['col6']"
   ]
  },
  {
   "cell_type": "code",
   "execution_count": 185,
   "metadata": {},
   "outputs": [],
   "source": [
    "\"\"\"literature properties - Lada 2013 / Lombardi data\"\"\"\n",
    "\n",
    "ladadat=ascii.read('./../data_sk/lombardi3.dat')\n",
    "arealada=ladadat['AREA'].data*pc**2\n",
    "sigmaSFRlada=ladadat['NSTARS'].data*0.25*msun/(0.25*myr)/arealada\n",
    "sigmaSFRerrlada=np.sqrt(ladadat['NSTARS'].data)*0.25*msun/(0.25*myr)/arealada\n",
    "AKtosigmag = 183*msun/pc**2\n",
    "sigmaglada=ladadat['AK_MEAN']*AKtosigmag\n",
    "masslada=sigmaglada*arealada\n",
    "areadifflada=arealada[:-1]-arealada[1:]\n",
    "massdifflada=masslada[:-1]-masslada[1:]\n",
    "sigmaSFRdifflada=(ladadat['NSTARS'].data[:-1] - \n",
    "                  ladadat['NSTARS'].data[1:])*0.25*msun/(0.25*myr) \\\n",
    "    / areadifflada\n",
    "sigmaSFRdifferrlada=np.sqrt(ladadat['NSTARS'].data[:-1] - \n",
    "                         ladadat['NSTARS'].data[1:]) \\\n",
    "    *0.25*msun/(0.25*myr) \\\n",
    "    / areadifflada\n",
    "sigmagdifflada=massdifflada/areadifflada"
   ]
  },
  {
   "cell_type": "code",
   "execution_count": 186,
   "metadata": {},
   "outputs": [],
   "source": [
    "\"\"\"literature properties - Gutermuth 2011\"\"\"\n",
    "\n",
    "gutermuthdata=ascii.read('./../data_sk/gutermuth11.txt')\n",
    "area_gutermuth11=gutermuthdata['Area[pc^2]']*pc**2\n",
    "mass_gutermuth11=gutermuthdata['Mass[msol]']*msun\n",
    "sigmag_gutermuth11=mass_gutermuth11/area_gutermuth11\n",
    "nstar_gutermuth11=gutermuthdata['N_II']\n",
    "sigmasfr_gutermuth11=nstar_gutermuth11*0.5*msun/(2.0*myr)/area_gutermuth11"
   ]
  },
  {
   "cell_type": "code",
   "execution_count": 187,
   "metadata": {},
   "outputs": [],
   "source": [
    "\"\"\"literature properties - Wu 2010\"\"\"\n",
    "\n",
    "wudata=ascii.read('./../data_sk/wu10.txt')\n",
    "area_wu10=wudata['Area']*pc**2\n",
    "sigmag_wu10=10.**wudata['logSig_gas']*msunpc2\n",
    "sigmasfr_wu10=10.**wudata['logSig_SFR']*msunpc2myr"
   ]
  },
  {
   "cell_type": "code",
   "execution_count": 148,
   "metadata": {},
   "outputs": [
    {
     "data": {
      "image/png": "[encoded data removed]",
      "text/plain": [
       "<Figure size 288x270 with 1 Axes>"
      ]
     },
     "execution_count": 148,
     "metadata": {},
     "output_type": "execute_result"
    }
   ],
   "source": [
    "\"\"\"Literatur properties\"\"\"\n",
    "\n",
    "m1 = ax.scatter(Sigmagas_K98_L, Sigmasfr_K98_L, fc=cmap2[1], ec=cmap1[1], lw=2, zorder=1)\n",
    "ax.scatter(Sigmagas_K98_H, Sigmasfr_K98_H, fc=cmap2[1], ec=cmap1[1], lw=2, zorder=1)\n",
    "ax.plot([Sigmagas_K98_L, Sigmagas_K98_H], [Sigmasfr_K98_L, Sigmasfr_K98_H], \n",
    "        c=cmap1[1], lw=2, ls='-', zorder=0)\n",
    "\n",
    "m2 = ax.scatter(Sigmagas_D10SB_L, Sigmasfr_D10SB_L, fc=cmap2[2], ec=cmap1[2], lw=2, zorder=1)\n",
    "ax.scatter(Sigmagas_D10SB_H, Sigmasfr_D10SB_H, fc=cmap2[2], ec=cmap1[2], lw=2, zorder=1)\n",
    "ax.plot([Sigmagas_D10SB_L, Sigmagas_D10SB_H], [Sigmasfr_D10SB_L, Sigmasfr_D10SB_H], \n",
    "        c=cmap1[2], lw=2, ls='-', zorder=0)\n",
    "\n",
    "m3 = ax.scatter(Sigmagas_D10BzK_L, Sigmasfr_D10BzK_L, fc=cmap2[2], ec=cmap1[2], lw=2, zorder=1, marker='h')\n",
    "ax.scatter(Sigmagas_D10BzK_H, Sigmasfr_D10BzK_H, fc=cmap2[2], ec=cmap1[2], lw=2, zorder=1, marker='h')\n",
    "ax.plot([Sigmagas_D10BzK_L, Sigmagas_D10BzK_H], [Sigmasfr_D10BzK_L, Sigmasfr_D10BzK_H], \n",
    "        c=cmap1[2], lw=2, ls='-', zorder=0)\n",
    "\n",
    "\n",
    "fig"
   ]
  },
  {
   "cell_type": "code",
   "execution_count": 13,
   "metadata": {},
   "outputs": [
    {
     "data": {
      "text/plain": [
       "<matplotlib.legend.Legend at 0x7fb79416ad10>"
      ]
     },
     "execution_count": 13,
     "metadata": {},
     "output_type": "execute_result"
    }
   ],
   "source": [
    "legend2 = ax.legend((m1,m2,m3), \n",
    "                   ('Kennicutt (1998)','Daddi et al. (2010)','Daddi et al. (2010)'),\n",
    "                   loc='upper left', fontsize=8)\n",
    "ax.add_artist(legend1)"
   ]
  },
  {
   "cell_type": "code",
   "execution_count": 14,
   "metadata": {},
   "outputs": [
    {
     "data": {
      "text/plain": [
       "<Figure size 432x288 with 0 Axes>"
      ]
     },
     "metadata": {},
     "output_type": "display_data"
    }
   ],
   "source": [
    "plt.tight_layout()\n",
    "fig.savefig('./../figs/plot_SK.pdf',bbox_inches='tight')"
   ]
  },
  {
   "cell_type": "code",
   "execution_count": null,
   "metadata": {},
   "outputs": [],
   "source": []
  },
  {
   "cell_type": "code",
   "execution_count": null,
   "metadata": {},
   "outputs": [],
   "source": []
  }
 ],
 "metadata": {
  "kernelspec": {
   "display_name": "Python 3",
   "language": "python",
   "name": "python3"
  },
  "language_info": {
   "codemirror_mode": {
    "name": "ipython",
    "version": 3
   },
   "file_extension": ".py",
   "mimetype": "text/x-python",
   "name": "python",
   "nbconvert_exporter": "python",
   "pygments_lexer": "ipython3",
   "version": "3.7.4"
  }
 },
 "nbformat": 4,
 "nbformat_minor": 4
}
