{
 "cells": [
  {
   "cell_type": "markdown",
   "metadata": {},
   "source": [
    "General imports and definitions"
   ]
  },
  {
   "cell_type": "code",
   "execution_count": 1,
   "metadata": {},
   "outputs": [],
   "source": [
    "import numpy as np\n",
    "import matplotlib.pyplot as plt\n",
    "import matplotlib as mpl\n",
    "from astropy.table import Table, join, vstack, hstack\n",
    "import astropy.units as au\n",
    "import astropy.constants as ac \n",
    "import astropy.io.ascii as asciitable\n",
    "import scipy.interpolate as interp\n",
    "import scipy.ndimage\n",
    "from astropy.io import ascii\n",
    "\n",
    "import bindensity\n",
    "\n",
    "plt.rcParams[\"font.family\"] = \"sans-serif\"\n",
    "plt.rcParams[\"font.weight\"] = \"bold\"\n",
    "plt.rcParams[\"axes.labelweight\"] = \"bold\"\n",
    "plt.rcParams[\"xtick.direction\"] = \"in\"\n",
    "plt.rcParams[\"ytick.direction\"] = \"in\" \n",
    "\n",
    "cmap = mpl.cm.get_cmap('tab20')\n",
    "cmap1 = cmap(np.arange(0,1,0.1))\n",
    "cmap2 = cmap(np.arange(0.05,1,0.1))"
   ]
  },
  {
   "cell_type": "markdown",
   "metadata": {},
   "source": [
    "Functions for SF relations"
   ]
  },
  {
   "cell_type": "code",
   "execution_count": 2,
   "metadata": {},
   "outputs": [],
   "source": [
    "\"\"\"Star formation relations\"\"\"\n",
    "\n",
    "def get_starK98(Sigma_gas):\n",
    "    '''Schmidt law from Kennicutt (1998)\n",
    "    Sigma_mol = surface density of molecular + atomic gas (Msun/pc^2)\n",
    "    Sigma_SFR = surface density of star formation rate (Msun/kpc^2/yr)'''\n",
    "    A = 2.5e-4\n",
    "    N = 1.4\n",
    "    Sigma_SFR = A * (Sigma_gas**N)\n",
    "    return Sigma_SFR\n",
    "\n",
    "def get_starB08(Sigma_mol):\n",
    "    '''Schmidt law from Bigiel+ (2008)\n",
    "    Sigma_mol = surface density of molecular gas (Msun/pc^2)\n",
    "    Sigma_SFR = surface density of star formation rate (Msun/kpc^2/yr)\n",
    "    [Note that I have divided this by a factor of 10 rwt the Bigiel+ (2008), which is in units of Msun/10]'''\n",
    "    A = 10**-3.1\n",
    "    N = 1\n",
    "    Sigma_SFR = A * (Sigma_mol**N)\n",
    "    return Sigma_SFR"
   ]
  },
  {
   "cell_type": "markdown",
   "metadata": {},
   "source": [
    "Determine Sigma for CMZ assuming two assumptions of the geometry of the system - an edge-on disc or ring and a face-on ring - using the range of molecular gas mass and star formation rates determined for the central 1 deg of the Milky Way."
   ]
  },
  {
   "cell_type": "code",
   "execution_count": 3,
   "metadata": {},
   "outputs": [],
   "source": [
    "\"\"\"Geometry\"\"\"\n",
    "\n",
    "def get_areadisc(R):\n",
    "    \"\"\"Surface area (A) of ring with outer radius R\"\"\"\n",
    "    A = np.pi*(R**2)\n",
    "    return(A)\n",
    "\n",
    "def get_areaannulus(R, deltaR):\n",
    "    \"\"\"Surface area (A) of annulus with outer radius R and width deltaR\"\"\"\n",
    "    A = np.pi*(R**2 - (R-deltaR)**2)\n",
    "    return(A)\n",
    "\n",
    "def get_arearectangle(L, H):\n",
    "    \"\"\"Surface area (A) of rectangle with length L and height H\"\"\"\n",
    "    A = L*H\n",
    "    return(A)\n",
    "\n",
    "def get_surfacedensity(A, p, log=True):\n",
    "    \"\"\"Surface area of annulus with outer radius R and width deltaR\n",
    "    log=True returns log10 units\"\"\"\n",
    "    Sigma = p/A\n",
    "    if log: \n",
    "        Sigma=np.log10(Sigma)\n",
    "    return(Sigma)"
   ]
  },
  {
   "cell_type": "code",
   "execution_count": 4,
   "metadata": {},
   "outputs": [],
   "source": [
    "\"\"\"CMZ properties\"\"\"\n",
    "\n",
    "area_flat = get_arearectangle(200, 20)\n",
    "area = get_areadisc(100) #ring\n",
    "\n",
    "sfr_CMZ = 0.012\n",
    "gas_CMZ = 1.8e7\n",
    "\n",
    "Sigmagas_CMZring_L = get_surfacedensity(area, gas_CMZ)\n",
    "Sigmasfr_CMZring_L = get_surfacedensity(area, sfr_CMZ)+6 \n",
    "\n",
    "sfr_CMZ = 0.14\n",
    "gas_CMZ = 5.3e7\n",
    "\n",
    "Sigmagas_CMZring_H = get_surfacedensity(area, gas_CMZ)\n",
    "Sigmasfr_CMZring_H = get_surfacedensity(area, sfr_CMZ)+6\n",
    "\n",
    "sfr_CMZ = 0.07\n",
    "gas_CMZ = 3.55e7\n",
    "\n",
    "Sigmagas_CMZring = get_surfacedensity(area, gas_CMZ)\n",
    "Sigmasfr_CMZring = get_surfacedensity(area, sfr_CMZ)+6"
   ]
  },
  {
   "cell_type": "code",
   "execution_count": 5,
   "metadata": {},
   "outputs": [
    {
     "name": "stdout",
     "output_type": "stream",
     "text": [
      "3.1 0.3\n",
      "2.8 -0.4\n",
      "3.2 0.6\n"
     ]
    }
   ],
   "source": [
    "print('%0.1f %0.1f' %(Sigmagas_CMZring, Sigmasfr_CMZring))\n",
    "print('%0.1f %0.1f' %(Sigmagas_CMZring_L, Sigmasfr_CMZring_L))\n",
    "print('%0.1f %0.1f' %(Sigmagas_CMZring_H, Sigmasfr_CMZring_H))"
   ]
  },
  {
   "cell_type": "code",
   "execution_count": 6,
   "metadata": {},
   "outputs": [],
   "source": [
    "# print('[INFO] Area fraction ring/flat %0.2f \\n' %(area_ring/area_flat))\n",
    "\n",
    "# print('[INFO] Sigma GAS ring low log(): %0.2f' %(Sigmagas_CMZring_L))\n",
    "# print('[INFO] Sigma SFR ring low log(): %0.2f \\n' %(Sigmasfr_CMZring_L))\n",
    "\n",
    "# print('[INFO] Sigma GAS ring low log(): %0.2f' %(Sigmagas_CMZring_H))\n",
    "# print('[INFO] Sigma SFR ring low log(): %0.2f \\n' %(Sigmasfr_CMZring_H))\n",
    "\n",
    "# print('[INFO] Sigma GAS ring low log(): %0.2f' %(Sigmagas_CMZring))\n",
    "# print('[INFO] Sigma SFR ring low log(): %0.2f \\n' %(Sigmasfr_CMZring))"
   ]
  },
  {
   "cell_type": "markdown",
   "metadata": {},
   "source": [
    "Define the literature gas and star formation rate surface densities - taken from Krumholz 2014 - please see there for references. Note that most of these are in units of msun/pc^2/Myr but this is the same as msun/kpc^2/yr!"
   ]
  },
  {
   "cell_type": "code",
   "execution_count": 7,
   "metadata": {},
   "outputs": [],
   "source": [
    "\"\"\"literature properties\"\"\"\n",
    "\n",
    "Sigmagas_K98_L = np.log10(0.05e2)\n",
    "Sigmagas_K98_H = np.log10(0.20e2)\n",
    "Sigmasfr_K98_L = np.log10(0.0024)\n",
    "Sigmasfr_K98_H = np.log10(0.017)\n",
    "\n",
    "Sigmagas_D10SB_L = np.log10(3.0e2)\n",
    "Sigmagas_D10SB_H = np.log10(100e2)\n",
    "Sigmasfr_D10SB_L = np.log10(3.9)\n",
    "Sigmasfr_D10SB_H = np.log10(560)\n",
    "\n",
    "Sigmagas_D10BzK_L = np.log10(2.0e2)\n",
    "Sigmagas_D10BzK_H = np.log10(10e2)\n",
    "Sigmasfr_D10BzK_L = np.log10(0.28)\n",
    "Sigmasfr_D10BzK_H = np.log10(2.7)\n",
    "\n",
    "# 10**Sigmasfr_CMZring, 10**Sigmagas_CMZring\n",
    "# # table = Table.read('./../data_lada/galaxies_MJD.csv')\n",
    "# # table['logLHCN'].unit = au.K * au.km/ au.s/ au.pc**2\n",
    "# # table['logLIR'].unit = au.Lsun"
   ]
  },
  {
   "cell_type": "code",
   "execution_count": 8,
   "metadata": {},
   "outputs": [
    {
     "name": "stderr",
     "output_type": "stream",
     "text": [
      "WARNING: UnitsWarning: '1-5solMass/yr/kpc2' did not parse as cds unit: Only base ten exponents are allowed in CDS If this is meant to be a custom unit, define it with 'u.def_unit'. To have it recognized inside a file reader or other code, enable it with 'u.add_enabled_units'. For details, see https://docs.astropy.org/en/latest/units/combining_and_defining.html [astropy.units.core]\n",
      "/Users/ashleybarnes/opt/anaconda3/lib/python3.7/site-packages/ipykernel_launcher.py:7: RuntimeWarning: divide by zero encountered in log10\n",
      "  import sys\n"
     ]
    }
   ],
   "source": [
    "\"\"\"literature properties - Bigiel 2008\"\"\"\n",
    "\n",
    "table_B08in = asciitable.read('./../data_sk/bigiel08_in.txt', Reader=asciitable.Cds)\n",
    "table_B08out = asciitable.read('./../data_sk/bigiel08_out.txt', Reader=asciitable.Cds)\n",
    "\n",
    "table_B08in['logGAS'] = np.log10(10**table_B08in['logHI'].quantity.value + 10**table_B08in['logH2'].quantity.value) *table_B08in['logH2'].unit\n",
    "table_B08out['logSFR'] = np.log10(table_B08out['SFR'].quantity.value *1e-5) *table_B08in['logSFR'].unit\n",
    "\n",
    "sigmag_bigiel = table_B08in['logGAS']\n",
    "sigmasfr_bigiel = table_B08in['logSFR']"
   ]
  },
  {
   "cell_type": "code",
   "execution_count": 9,
   "metadata": {},
   "outputs": [],
   "source": [
    "# \"\"\"literature properties - Bolatto 2011\"\"\"\n",
    "\n",
    "# contours_B11 = np.loadtxt('./../data_sk/bolatto2011_12pc.dat', skiprows=2)\n",
    "# contours_B11[np.isnan(contours_B11)] = 0\n",
    "# contours_B11 = contours_B11/contours_B11.max()\n",
    "# contoursXlim_B11 = np.loadtxt('./../data_sk/bolatto2011_12pc.dat', max_rows=1)\n",
    "# contoursYlim_B11 = np.loadtxt('./../data_sk/bolatto2011_12pc.dat', skiprows=1, max_rows=1)\n",
    "\n",
    "# ax.contour(scipy.ndimage.zoom(contours_B11, 1), \n",
    "#             extent=(contoursXlim_B11.min(), contoursXlim_B11.max(), contoursYlim_B11.min(), contoursYlim_B11.max()),\n",
    "#             levels=[0.1,0.2,0.3,0.5,0.7,0.9,0.99],\n",
    "#             colors=cmap1[2].reshape(-1,4), alpha=1)\n",
    "\n",
    "# fig"
   ]
  },
  {
   "cell_type": "code",
   "execution_count": 10,
   "metadata": {},
   "outputs": [],
   "source": [
    "# Define unit conversions\n",
    "pc=3.09e18\n",
    "kpc=1e3*pc\n",
    "msun=1.99e33\n",
    "myr=3.16e13\n",
    "g=6.67e-8\n",
    "msunpc2=msun/pc**2\n",
    "msunpc2myr=msunpc2/myr\n",
    "\n",
    "# Choice of CO alpha factor scalings NORMALIZED TO DADDI'S CONVENTIONS\n",
    "alphasb = 1.0      # starburst value\n",
    "alphahiz = 1.0     # high-z disk\n",
    "alphaz0 = 1.0      # z=0 scaling\n",
    "alphathings = 4.6/4.4 # THINGS data value\n",
    "\n",
    "# Parameters\n",
    "sigmagmc=85*msun/pc**2    # GMC surface density in normal galaxies\n",
    "phip=3.0                  # pressure normalized to isothermal gas disk value\n",
    "vdisp1=0.8e6                # ISM velocity dispersion in local galaxies\n",
    "vdisp2=3e6                # ISM velocity dispersion in high-z galaxies and SBs\n",
    "q=1.0                     # Toomre Q\n",
    "betasb=1.0                # Index of rotation curve in SBs (solid body)\n",
    "betadisk=0.0              # Index of rotation curve in normal disks (flat)"
   ]
  },
  {
   "cell_type": "code",
   "execution_count": 11,
   "metadata": {},
   "outputs": [
    {
     "data": {
      "text/plain": [
       "(array([1.80821097, 1.76267856, 1.77232171, 1.87506126, 2.0211893 ,\n",
       "        1.95424251, 2.13987909, 1.96801571, 1.96567197, 1.83695674,\n",
       "        1.67669361, 1.95951838, 1.96425963, 1.73957234, 1.77158748,\n",
       "        1.82930377, 1.78031731, 1.69108149, 1.93043959, 2.13353891]),\n",
       " array([-0.21824463, -0.43533394,  0.04139269,  0.07554696,  0.38916608,\n",
       "         0.1172713 ,  0.5171959 , -0.68402965, -0.06854213, -0.11013828,\n",
       "        -1.44733178,  0.372912  ,  0.5276299 , -0.4225082 , -0.96657624,\n",
       "         0.22010809, -0.03857891, -0.35654732, -0.46470588,  0.30319606]))"
      ]
     },
     "execution_count": 11,
     "metadata": {},
     "output_type": "execute_result"
    }
   ],
   "source": [
    "\"\"\"literature properties - Heiderman\"\"\"\n",
    "\n",
    "sigmag_heid=[]        # Gas surface density\n",
    "sigmasfr_heid=[]      # SFR surface density\n",
    "\n",
    "fp=open('./../data_sk/heiderman.txt', 'r')\n",
    "for line in fp:\n",
    "    spl=line.split()\n",
    "    sigmag_heid.append(float(spl[14]))\n",
    "    sigmasfr_heid.append(float(spl[20]))\n",
    "\n",
    "fp.close()\n",
    "sigmag_heid = np.array(sigmag_heid)*msun/pc**2\n",
    "sigmasfr_heid = np.array(sigmasfr_heid)*msun/pc**2/myr\n",
    "\n",
    "sigmag_heid = np.log10(sigmag_heid/msunpc2)\n",
    "sigmasfr_heid = np.log10(sigmasfr_heid/msunpc2myr)\n",
    "sigmag_heid,sigmasfr_heid"
   ]
  },
  {
   "cell_type": "code",
   "execution_count": 12,
   "metadata": {},
   "outputs": [],
   "source": [
    "\"\"\"literature properties - Lada\"\"\"\n",
    "\n",
    "# Lada data; masses for A_K = 0.1 and 0.8 contours\n",
    "mass_lada1=np.array([67714., 71828., 99930., 18438., 14964., 14165., 1137., 7937., 2157., 1379., 787.])*msun\n",
    "mass_lada2=np.array([13721., 7261., 3199., 1880., 1766., 1296., 258., 178., 163., 124., 75.])*msun\n",
    "sfr_lada=np.array([715., 159., 70., 150., 84., 79., 25., 5., 17., 3., 3.])*msun/myr\n",
    "\n",
    "sigmag_lada2=116.*2.*msun/pc**2\n",
    "sigmag_lada1=np.array([sigmag_lada2/8.0]*len(mass_lada2))\n",
    "area_lada1=mass_lada1/sigmag_lada1\n",
    "area_lada2=mass_lada2/sigmag_lada2\n",
    "sigmasfr_lada1=sfr_lada/area_lada1\n",
    "sigmasfr_lada2=sfr_lada/area_lada2/3.0\n",
    "\n",
    "sigmag_lada = np.log10(sigmag_lada1/msunpc2)\n",
    "sigmasfr_lada = np.log10(sigmasfr_lada1/msunpc2myr)"
   ]
  },
  {
   "cell_type": "code",
   "execution_count": 13,
   "metadata": {},
   "outputs": [],
   "source": [
    "\"\"\"literature properties - Genzel\"\"\"\n",
    "\n",
    "sigmag_genzel=[]\n",
    "sigmasfr_genzel=[]\n",
    "sigmagtdyn_genzel=[]\n",
    "sb_genzel=[]\n",
    "fp=open('./../data_sk/genzel_ks.dat', 'r')\n",
    "\n",
    "for line in fp:\n",
    "    if line[0]=='#':\n",
    "        continue\n",
    "    spl=line.split()\n",
    "    if spl[0]=='Name':\n",
    "        continue\n",
    "    sigmag_genzel.append(10.0**float(spl[11])*msun/pc**2)\n",
    "    sigmagtdyn_genzel.append(10.0**float(spl[12])/(2.0*np.pi)*msun/pc**2/myr)\n",
    "    sigmasfr_genzel.append(10.0**float(spl[13])*msun/pc**2/myr)\n",
    "    # Apply CO scalings\n",
    "    if spl[0][0:3]=='SMM':\n",
    "        # sub-mm galaxy, so use starburst scalings; Genzel uses alpha = 1.0\n",
    "        # for starbursts, and Daddi's convention is 0.8\n",
    "        sb_genzel.append(True)\n",
    "        sigmag_genzel[-1] = sigmag_genzel[-1]*0.8/1.0*alphasb\n",
    "        sigmagtdyn_genzel[-1] = sigmagtdyn_genzel[-1]*0.8/1.0*alphasb\n",
    "    else:\n",
    "        # non-sub-mm galaxy, so use normal high z scalings; Genzel uses\n",
    "        # alpha = 3.2, Daddi uses 3.6\n",
    "        sb_genzel.append(False)\n",
    "        sigmag_genzel[-1] = sigmag_genzel[-1]*3.6/3.2*alphahiz\n",
    "        sigmagtdyn_genzel[-1] = sigmagtdyn_genzel[-1]*3.6/3.2*alphahiz\n",
    "fp.close()\n",
    "\n",
    "sigmag_genzel = np.array(sigmag_genzel)\n",
    "sigmasfr_genzel = np.array(sigmasfr_genzel)\n",
    "\n",
    "sigmag_genzel = np.log10(sigmag_genzel/msunpc2)\n",
    "sigmasfr_genzel = np.log10(sigmasfr_genzel/msunpc2myr)"
   ]
  },
  {
   "cell_type": "code",
   "execution_count": 14,
   "metadata": {},
   "outputs": [],
   "source": [
    "\"\"\"literature properties - Bouche\"\"\"\n",
    "\n",
    "sigmag_bouche=[]\n",
    "sigmasfr_bouche=[]\n",
    "sigmagtdyn_bouche=[]\n",
    "fp=open('./../data_sk/KS_2_Bouche.dat', 'r')\n",
    "for line in fp:\n",
    "    if line[0]=='#':\n",
    "        continue\n",
    "    spl=line.split()\n",
    "    sigmag_bouche.append(10.0**float(spl[0])*msun/pc**2*alphasb)\n",
    "    sigmagtdyn_bouche.append(10.0**float(spl[2])/(2.0*np.pi)*msun/pc**2/myr * \n",
    "                             alphasb)\n",
    "    sigmasfr_bouche.append(10.0**float(spl[1])*msun/pc**2/myr)\n",
    "fp.close()\n",
    "\n",
    "sigmag_bouche = np.array(sigmag_bouche)\n",
    "sigmasfr_bouche = np.array(sigmasfr_bouche)\n",
    "\n",
    "sigmag_bouche = np.log10(sigmag_bouche/msunpc2)\n",
    "sigmasfr_bouche = np.log10(sigmasfr_bouche/msunpc2myr)"
   ]
  },
  {
   "cell_type": "code",
   "execution_count": 15,
   "metadata": {},
   "outputs": [],
   "source": [
    "\"\"\"literature properties - Daddi z = 0.5\"\"\"\n",
    "\n",
    "sigmag_daddiz05=[]\n",
    "sigmasfr_daddiz05=[]\n",
    "sigmagtdyn_daddiz05=[]\n",
    "\n",
    "fp=open('./../data_sk/KS_2_Daddiz05.dat', 'r')\n",
    "for line in fp:\n",
    "    if line[0]=='#':\n",
    "        continue\n",
    "    if line[0]=='\\n':\n",
    "        continue\n",
    "    spl=line.split()\n",
    "    sigmag_daddiz05.append(10.0**float(spl[1])*msun/pc**2*alphahiz)\n",
    "    sigmagtdyn_daddiz05.append(10.0**float(spl[2])*msun/pc**2/myr * \n",
    "                               alphahiz)\n",
    "    sigmasfr_daddiz05.append(10.0**float(spl[0])*msun/pc**2/myr)\n",
    "fp.close()\n",
    "\n",
    "sigmag_daddiz05 = np.array(sigmag_daddiz05)\n",
    "sigmasfr_daddiz05 = np.array(sigmasfr_daddiz05)\n",
    "\n",
    "sigmag_daddiz05 = np.log10(sigmag_daddiz05/msunpc2)\n",
    "sigmasfr_daddiz05 = np.log10(sigmasfr_daddiz05/msunpc2myr)"
   ]
  },
  {
   "cell_type": "code",
   "execution_count": 16,
   "metadata": {},
   "outputs": [],
   "source": [
    "\"\"\"literature properties - Daddi z = 2\"\"\"\n",
    "\n",
    "sigmag_daddiz2=[]\n",
    "sigmasfr_daddiz2=[]\n",
    "sigmagtdyn_daddiz2=[]\n",
    "\n",
    "fp=open('./../data_sk/KS_2_Daddi.dat', 'r')\n",
    "for line in fp:\n",
    "    if line[0]=='#':\n",
    "        continue\n",
    "    if line[0]=='\\n':\n",
    "        continue\n",
    "    spl=line.split()\n",
    "    sigmag_daddiz2.append(float(spl[0])*msun/pc**2*alphahiz)\n",
    "    sigmagtdyn_daddiz2.append(float(spl[2])*msun/pc**2/myr *alphahiz)\n",
    "    sigmasfr_daddiz2.append(float(spl[1])*msun/pc**2/myr)\n",
    "fp.close()\n",
    "\n",
    "sigmag_daddiz2 = np.array(sigmag_daddiz2)\n",
    "sigmasfr_daddiz2 = np.array(sigmasfr_daddiz2)\n",
    "\n",
    "sigmag_daddiz2 = np.log10(sigmag_daddiz2/msunpc2)\n",
    "sigmasfr_daddiz2 = np.log10(sigmasfr_daddiz2/msunpc2myr)"
   ]
  },
  {
   "cell_type": "code",
   "execution_count": 17,
   "metadata": {},
   "outputs": [],
   "source": [
    "\"\"\"literature properties - Tacconi\"\"\"\n",
    "\n",
    "sigmag_tacconi=[]\n",
    "sigmasfr_tacconi=[]\n",
    "sigmagtdyn_tacconi=[]\n",
    "\n",
    "fp=open('./../data_sk/Tacconi_KS.dat', 'r')\n",
    "for line in fp:\n",
    "    if line[0]=='#':\n",
    "        continue\n",
    "    if line[0]=='\\n':\n",
    "        continue\n",
    "    spl=line.split()\n",
    "    sigmag_tacconi.append(10.0**float(spl[1])*msun/pc**2*alphahiz)\n",
    "    sigmagtdyn_tacconi.append(10.0**float(spl[2])*msun/pc**2/myr * \n",
    "                              alphahiz)\n",
    "    sigmasfr_tacconi.append(10.0**float(spl[0])*msun/pc**2/myr)\n",
    "fp.close()\n",
    "\n",
    "sigmag_tacconi = np.array(sigmag_tacconi)\n",
    "sigmasfr_tacconi = np.array(sigmasfr_tacconi)\n",
    "\n",
    "sigmag_tacconi = np.log10(sigmag_tacconi/msunpc2)\n",
    "sigmasfr_tacconi = np.log10(sigmasfr_tacconi/msunpc2myr)"
   ]
  },
  {
   "cell_type": "code",
   "execution_count": 18,
   "metadata": {},
   "outputs": [],
   "source": [
    "\"\"\"literature properties - Tacconi 2012\"\"\"\n",
    "\n",
    "name_tacconi12=[]\n",
    "sigmag_tacconi12=[]\n",
    "sigmasfr_tacconi12=[]\n",
    "tdyn_tacconi12=[]\n",
    "sb_tacconi12=[]\n",
    "\n",
    "fp=open('./../data_sk/tacconi12.txt', 'r')\n",
    "fp.readline()\n",
    "fp.readline()\n",
    "for line in fp:\n",
    "    spl=line.split()\n",
    "    if spl[2]=='...':\n",
    "        continue\n",
    "    name_tacconi12.append(spl[0])\n",
    "    sigmag_tacconi12.append(10.**float(spl[-2])*msunpc2)\n",
    "    sigmasfr_tacconi12.append(10.**float(spl[-1])*msunpc2myr)\n",
    "    tdyn_tacconi12.append(2*np.pi*float(spl[3])*kpc/(float(spl[2])*1e5))\n",
    "    sb_tacconi12.append('merger' in spl[1].lower() or 'amor' in spl[1].lower())\n",
    "fp.close()\n",
    "\n",
    "sigmag_tacconi12 = np.array(sigmag_tacconi12)\n",
    "sigmasfr_tacconi12 = np.array(sigmasfr_tacconi12)\n",
    "\n",
    "sigmag_tacconi12 = np.log10(sigmag_tacconi12/msunpc2)\n",
    "sigmasfr_tacconi12 = np.log10(sigmasfr_tacconi12/msunpc2myr)"
   ]
  },
  {
   "cell_type": "code",
   "execution_count": 19,
   "metadata": {},
   "outputs": [],
   "source": [
    "\"\"\"literature properties - Kennicutt ULIRG\"\"\"\n",
    "\n",
    "sigmag_kenn_ulirg=[]\n",
    "sigmasfr_kenn_ulirg=[]\n",
    "tdyn_kenn_ulirg=[]\n",
    "\n",
    "fp=open('./../data_sk/KS_2_KennUlirgs.dat', 'r')\n",
    "for line in fp:\n",
    "    if line[0]=='#':\n",
    "        continue\n",
    "    if line[0]=='\\n':\n",
    "        continue\n",
    "    spl=line.split()\n",
    "    if spl[2]=='-1':\n",
    "        continue\n",
    "    sigmag_kenn_ulirg.append(10.0**float(spl[0])*msun/pc**2*alphasb)\n",
    "    sigmasfr_kenn_ulirg.append(10.0**float(spl[1])*msun/pc**2/myr)\n",
    "    tdyn_kenn_ulirg.append(float(spl[2])*100*myr)\n",
    "fp.close()\n",
    "\n",
    "sigmag_kenn_ulirg = np.array(sigmag_kenn_ulirg)\n",
    "sigmasfr_kenn_ulirg = np.array(sigmasfr_kenn_ulirg)\n",
    "\n",
    "sigmag_kenn_ulirg = np.log10(sigmag_kenn_ulirg/msunpc2)\n",
    "sigmasfr_kenn_ulirg = np.log10(sigmasfr_kenn_ulirg/msunpc2myr)"
   ]
  },
  {
   "cell_type": "code",
   "execution_count": 20,
   "metadata": {},
   "outputs": [],
   "source": [
    "\"\"\"literature properties - Kennicutt spiral\"\"\"\n",
    "\n",
    "sigmag_kenn_spiral=[]\n",
    "sigmasfr_kenn_spiral=[]\n",
    "tdyn_kenn_spiral=[]\n",
    "\n",
    "fp=open('./../data_sk/KS_2_KennSpirals.dat', 'r')\n",
    "for line in fp:\n",
    "    if line[0]=='#':\n",
    "        continue\n",
    "    if line[0]=='\\n':\n",
    "        continue\n",
    "    spl=line.split()\n",
    "    if spl[2]=='-1':\n",
    "        continue\n",
    "    sigmag_kenn_spiral.append(10.0**float(spl[0])*msun/pc**2*alphasb)\n",
    "    sigmasfr_kenn_spiral.append(10.0**float(spl[1])*msun/pc**2/myr)\n",
    "    tdyn_kenn_spiral.append(float(spl[2])*100*myr)\n",
    "fp.close()\n",
    "\n",
    "sigmag_kenn_spiral = np.array(sigmag_kenn_spiral)\n",
    "sigmasfr_kenn_spiral = np.array(sigmasfr_kenn_spiral)\n",
    "\n",
    "sigmag_kenn_spiral = np.log10(sigmag_kenn_spiral/msunpc2)\n",
    "sigmasfr_kenn_spiral = np.log10(sigmasfr_kenn_spiral/msunpc2myr)"
   ]
  },
  {
   "cell_type": "code",
   "execution_count": 21,
   "metadata": {},
   "outputs": [],
   "source": [
    "\"\"\"literature properties - Davis 2014\"\"\"\n",
    "\n",
    "data_davis14=ascii.read('./../data_sk/DAVIS14_WISEsfrs.txt')\n",
    "\n",
    "sigmag_davis14 = np.array(data_davis14['Sig_gas'])*msunpc2\n",
    "sigmasfr_davis14 = np.array(data_davis14['SFR'])*msunpc2myr\n",
    "\n",
    "sigmag_davis14 = np.log10(sigmag_davis14/msunpc2)\n",
    "sigmasfr_davis14 = np.log10(sigmasfr_davis14/msunpc2myr)"
   ]
  },
  {
   "cell_type": "code",
   "execution_count": 22,
   "metadata": {},
   "outputs": [],
   "source": [
    "\"\"\"literature properties - Evans 2013\"\"\"\n",
    "\n",
    "evansdat=ascii.read('./../data_sk/logsdens.dat')\n",
    "evansdat1=ascii.read('./../data_sk/logsdens1.dat')\n",
    "evansdat2=ascii.read('./../data_sk/logsdensu.dat')\n",
    "\n",
    "logsigmagtff_evans=evansdat['col1']\n",
    "logsigmasfr_evans=evansdat['col4']\n",
    "\n",
    "logsigmagtff_evans1=evansdat1['col1']\n",
    "logsigmasfr_evans1=evansdat1['col4']\n",
    "logsigmasfrerr_evans1=evansdat1['col6']\n",
    "\n",
    "logsigmagtff_evans2=evansdat2['col1']\n",
    "logsigmasfr_evans2=evansdat2['col4']\n",
    "logsigmasfrerr_evans2=evansdat2['col6']"
   ]
  },
  {
   "cell_type": "code",
   "execution_count": 23,
   "metadata": {},
   "outputs": [
    {
     "name": "stderr",
     "output_type": "stream",
     "text": [
      "/Users/ashleybarnes/opt/anaconda3/lib/python3.7/site-packages/ipykernel_launcher.py:17: RuntimeWarning: divide by zero encountered in log10\n"
     ]
    }
   ],
   "source": [
    "\"\"\"literature properties - Lada 2013 / Lombardi data\"\"\"\n",
    "\n",
    "ladadat=ascii.read('./../data_sk/lombardi3.dat')\n",
    "arealada=ladadat['AREA'].data*pc**2\n",
    "sigmaSFRlada=ladadat['NSTARS'].data*0.25*msun/(0.25*myr)/arealada\n",
    "sigmaSFRerrlada=np.sqrt(ladadat['NSTARS'].data)*0.25*msun/(0.25*myr)/arealada\n",
    "AKtosigmag = 183*msun/pc**2\n",
    "sigmaglada=ladadat['AK_MEAN']*AKtosigmag\n",
    "masslada=sigmaglada*arealada\n",
    "areadifflada=arealada[:-1]-arealada[1:]\n",
    "massdifflada=masslada[:-1]-masslada[1:]\n",
    "sigmaSFRdifflada=(ladadat['NSTARS'].data[:-1] - ladadat['NSTARS'].data[1:]) *0.25*msun/(0.25*myr) / areadifflada\n",
    "sigmaSFRdifferrlada=np.sqrt(ladadat['NSTARS'].data[:-1] - ladadat['NSTARS'].data[1:]) *0.25*msun/(0.25*myr) / areadifflada\n",
    "sigmagdifflada=massdifflada/areadifflada\n",
    "\n",
    "sigmag_lada13 = np.log10(sigmagdifflada/msunpc2)\n",
    "sigmasfr_lada13 = np.log10(sigmaSFRdifflada/msunpc2myr)"
   ]
  },
  {
   "cell_type": "code",
   "execution_count": 24,
   "metadata": {},
   "outputs": [],
   "source": [
    "\"\"\"literature properties - Gutermuth 2011\"\"\"\n",
    "\n",
    "gutermuthdata=ascii.read('./../data_sk/gutermuth11.txt')\n",
    "area_gutermuth11=gutermuthdata['Area[pc^2]']*pc**2\n",
    "mass_gutermuth11=gutermuthdata['Mass[msol]']*msun\n",
    "sigmag_gutermuth11=mass_gutermuth11/area_gutermuth11\n",
    "nstar_gutermuth11=gutermuthdata['N_II']\n",
    "sigmasfr_gutermuth11=nstar_gutermuth11*0.5*msun/(2.0*myr)/area_gutermuth11\n",
    "\n",
    "sigmag_gutermuth11 = np.log10(sigmag_gutermuth11/msunpc2)\n",
    "sigmasfr_gutermuth11 = np.log10(sigmasfr_gutermuth11/msunpc2myr)"
   ]
  },
  {
   "cell_type": "code",
   "execution_count": 25,
   "metadata": {},
   "outputs": [],
   "source": [
    "\"\"\"literature properties - Wu 2010\"\"\"\n",
    "\n",
    "wudata=ascii.read('./../data_sk/wu10.txt')\n",
    "area_wu10=wudata['Area']*pc**2\n",
    "sigmag_wu10=10.**wudata['logSig_gas']*msunpc2\n",
    "sigmasfr_wu10=10.**wudata['logSig_SFR']*msunpc2myr\n",
    "\n",
    "sigmag_wu10 = np.log10(sigmag_wu10/msunpc2)\n",
    "sigmasfr_wu10 = np.log10(sigmasfr_wu10/msunpc2myr)"
   ]
  },
  {
   "cell_type": "markdown",
   "metadata": {},
   "source": [
    "Plotting"
   ]
  },
  {
   "cell_type": "code",
   "execution_count": 26,
   "metadata": {
    "tags": []
   },
   "outputs": [
    {
     "data": {
      "image/png": "[encoded data removed]",
      "text/plain": [
       "<Figure size 288x270 with 1 Axes>"
      ]
     },
     "metadata": {
      "needs_background": "light"
     },
     "output_type": "display_data"
    }
   ],
   "source": [
    "fig = plt.figure(figsize = (4, 3.75))\n",
    "ax = fig.add_subplot(111)\n",
    "\n",
    "xl = 'Gas, log$_{10}$($\\Sigma$/M$_\\mathrm{\\odot}$pc$^{-2}$)'\n",
    "yl = 'Star formation, log$_{10}$($\\Sigma_\\mathrm{SFR}$/M$_\\mathrm{\\odot}$kpc$^{-2}$yr$^{-1}$)'\n",
    "ax.set_xlabel(xl, fontname=\"Arial\", weight='heavy')\n",
    "ax.set_ylabel(yl, fontname=\"Arial\", weight='heavy')\n",
    "\n",
    "ax.set_xlim(-0.1, 5)\n",
    "ax.set_ylim(-3.5, 3)\n",
    "\n",
    "ax.grid(True, ls=':', zorder=-1, alpha=0.5)"
   ]
  },
  {
   "cell_type": "code",
   "execution_count": null,
   "metadata": {},
   "outputs": [],
   "source": []
  },
  {
   "cell_type": "code",
   "execution_count": 27,
   "metadata": {
    "tags": []
   },
   "outputs": [
    {
     "name": "stdout",
     "output_type": "stream",
     "text": [
      "3.05307848036096 0.3479481673201228\n",
      "[[0.29495585]\n",
      " [0.17404752]]\n",
      "[[0.76591679]\n",
      " [0.30103   ]]\n"
     ]
    },
    {
     "data": {
      "text/plain": [
       "[<matplotlib.lines.Line2D at 0x7f9fd473c1d0>]"
      ]
     },
     "execution_count": 27,
     "metadata": {},
     "output_type": "execute_result"
    }
   ],
   "source": [
    "\"\"\"CMZ properties\"\"\"\n",
    "# x = np.mean([Sigmagas_CMZring_L, Sigmagas_CMZring_H])\n",
    "# y = np.mean([Sigmasfr_CMZring_L, Sigmasfr_CMZring_H])\n",
    "x = Sigmagas_CMZring\n",
    "y = Sigmasfr_CMZring\n",
    "print(x,y)\n",
    "\n",
    "xerr = np.array([[(x-Sigmagas_CMZring_L)], [(Sigmagas_CMZring_H-x)]])\n",
    "yerr = np.array([[(y-Sigmasfr_CMZring_L)], [(Sigmasfr_CMZring_H-y)]])\n",
    "print(xerr)\n",
    "print(yerr)\n",
    "\n",
    "ax.errorbar([x],[y],xerr=xerr,yerr=yerr,\n",
    "            zorder=11, c='C0', \n",
    "            capsize=3, \n",
    "            elinewidth=2,\n",
    "            capthick=2)\n",
    "\n",
    "ax.scatter(x,y, fc=cmap2[0], ec=cmap1[0], lw=2, zorder=11)\n",
    "\n",
    "factor = np.log10((100**2-90**2)/(100**2))\n",
    "# print(factor)\n",
    "ax.scatter(x-factor,y-factor, fc=cmap2[0], ec=cmap1[0], lw=2, zorder=11, s=20, alpha=1, marker='^')\n",
    "# ax.plot([x,x-factor], [y,y-factor], c=cmap1[0], lw=2, ls='--', zorder=2, alpha=1)\n",
    "\n",
    "factor = np.log10((200*20)/(np.pi*(100**2)))\n",
    "# print(factor)\n",
    "ax.scatter(x-factor,y-factor, fc=cmap2[0], ec=cmap1[0], lw=2, zorder=11, s=20, alpha=1, marker='s')\n",
    "ax.plot([x,x-factor], [y,y-factor], c=cmap1[0], lw=2, ls='--', zorder=2, alpha=1)"
   ]
  },
  {
   "cell_type": "code",
   "execution_count": 28,
   "metadata": {},
   "outputs": [
    {
     "data": {
      "text/plain": [
       "3.05307848036096"
      ]
     },
     "execution_count": 28,
     "metadata": {},
     "output_type": "execute_result"
    }
   ],
   "source": [
    "x"
   ]
  },
  {
   "cell_type": "code",
   "execution_count": 29,
   "metadata": {
    "tags": []
   },
   "outputs": [],
   "source": [
    "# binsx_c, binsy_c, counts = bindensity.get_bindensity_2d(sigmag_bigiel, sigmasfr_bigiel, sigma=1)\n",
    "# ax.contour(scipy.ndimage.zoom(counts/counts.max(), 0.4), \n",
    "#            extent=(binsx_c.min(), binsx_c.max(), binsy_c.min(), binsy_c.max()),\n",
    "#            levels=[0.01,0.1,0.5,0.75,0.95], \n",
    "#            colors=cmap1[1].reshape(-1,4), alpha=1, zorder=-1)"
   ]
  },
  {
   "cell_type": "code",
   "execution_count": 30,
   "metadata": {
    "tags": []
   },
   "outputs": [
    {
     "data": {
      "text/plain": [
       "<matplotlib.collections.PathCollection at 0x7f9fd472d550>"
      ]
     },
     "execution_count": 30,
     "metadata": {},
     "output_type": "execute_result"
    }
   ],
   "source": [
    "sigmag_all = np.array(np.hstack([sigmag_bigiel, sigmag_heid, sigmag_lada, \n",
    "                        sigmag_genzel, sigmag_bouche, sigmag_daddiz05,\n",
    "                        sigmag_daddiz2, sigmag_tacconi, sigmag_kenn_ulirg,\n",
    "                        sigmag_kenn_spiral, sigmag_davis14, sigmag_lada13, \n",
    "                        sigmag_gutermuth11, sigmag_wu10]))\n",
    "\n",
    "sigmasfr_all = np.array(np.hstack([sigmasfr_bigiel, sigmasfr_heid, sigmasfr_lada, \n",
    "                        sigmasfr_genzel, sigmasfr_bouche, sigmasfr_daddiz05,\n",
    "                        sigmasfr_daddiz2, sigmasfr_tacconi, sigmasfr_kenn_ulirg,\n",
    "                        sigmasfr_kenn_spiral, sigmasfr_davis14, sigmasfr_lada13, \n",
    "                        sigmasfr_gutermuth11, sigmasfr_wu10]))\n",
    "\n",
    "sigmag_all = sigmag_all[~np.isinf(sigmasfr_all)]\n",
    "sigmasfr_all = sigmasfr_all[~np.isinf(sigmasfr_all)]\n",
    "sigmag_all = sigmag_all[sigmasfr_all!=0]\n",
    "sigmasfr_all = sigmasfr_all[sigmasfr_all!=0]\n",
    "\n",
    "x, y = sigmag_all, sigmasfr_all\n",
    "\n",
    "ax.scatter(x, y, ec='none', fc='grey', s=25)\n",
    "ax.scatter(x, y, ec='none', fc='white', s=12)\n",
    "\n",
    "# ax.scatter(x, y, ec='none', fc='grey', s=12, ec='none', alpha=0.2)"
   ]
  },
  {
   "cell_type": "code",
   "execution_count": 31,
   "metadata": {},
   "outputs": [
    {
     "name": "stderr",
     "output_type": "stream",
     "text": [
      "*c* argument looks like a single numeric RGB or RGBA sequence, which should be avoided as value-mapping will have precedence in case its length matches with *x* & *y*.  Please use the *color* keyword-argument or provide a 2-D array with a single row if you intend to specify the same RGB or RGBA value for all points.\n",
      "*c* argument looks like a single numeric RGB or RGBA sequence, which should be avoided as value-mapping will have precedence in case its length matches with *x* & *y*.  Please use the *color* keyword-argument or provide a 2-D array with a single row if you intend to specify the same RGB or RGBA value for all points.\n",
      "*c* argument looks like a single numeric RGB or RGBA sequence, which should be avoided as value-mapping will have precedence in case its length matches with *x* & *y*.  Please use the *color* keyword-argument or provide a 2-D array with a single row if you intend to specify the same RGB or RGBA value for all points.\n",
      "*c* argument looks like a single numeric RGB or RGBA sequence, which should be avoided as value-mapping will have precedence in case its length matches with *x* & *y*.  Please use the *color* keyword-argument or provide a 2-D array with a single row if you intend to specify the same RGB or RGBA value for all points.\n",
      "*c* argument looks like a single numeric RGB or RGBA sequence, which should be avoided as value-mapping will have precedence in case its length matches with *x* & *y*.  Please use the *color* keyword-argument or provide a 2-D array with a single row if you intend to specify the same RGB or RGBA value for all points.\n",
      "*c* argument looks like a single numeric RGB or RGBA sequence, which should be avoided as value-mapping will have precedence in case its length matches with *x* & *y*.  Please use the *color* keyword-argument or provide a 2-D array with a single row if you intend to specify the same RGB or RGBA value for all points.\n",
      "*c* argument looks like a single numeric RGB or RGBA sequence, which should be avoided as value-mapping will have precedence in case its length matches with *x* & *y*.  Please use the *color* keyword-argument or provide a 2-D array with a single row if you intend to specify the same RGB or RGBA value for all points.\n",
      "*c* argument looks like a single numeric RGB or RGBA sequence, which should be avoided as value-mapping will have precedence in case its length matches with *x* & *y*.  Please use the *color* keyword-argument or provide a 2-D array with a single row if you intend to specify the same RGB or RGBA value for all points.\n",
      "*c* argument looks like a single numeric RGB or RGBA sequence, which should be avoided as value-mapping will have precedence in case its length matches with *x* & *y*.  Please use the *color* keyword-argument or provide a 2-D array with a single row if you intend to specify the same RGB or RGBA value for all points.\n",
      "*c* argument looks like a single numeric RGB or RGBA sequence, which should be avoided as value-mapping will have precedence in case its length matches with *x* & *y*.  Please use the *color* keyword-argument or provide a 2-D array with a single row if you intend to specify the same RGB or RGBA value for all points.\n",
      "*c* argument looks like a single numeric RGB or RGBA sequence, which should be avoided as value-mapping will have precedence in case its length matches with *x* & *y*.  Please use the *color* keyword-argument or provide a 2-D array with a single row if you intend to specify the same RGB or RGBA value for all points.\n",
      "*c* argument looks like a single numeric RGB or RGBA sequence, which should be avoided as value-mapping will have precedence in case its length matches with *x* & *y*.  Please use the *color* keyword-argument or provide a 2-D array with a single row if you intend to specify the same RGB or RGBA value for all points.\n",
      "*c* argument looks like a single numeric RGB or RGBA sequence, which should be avoided as value-mapping will have precedence in case its length matches with *x* & *y*.  Please use the *color* keyword-argument or provide a 2-D array with a single row if you intend to specify the same RGB or RGBA value for all points.\n",
      "*c* argument looks like a single numeric RGB or RGBA sequence, which should be avoided as value-mapping will have precedence in case its length matches with *x* & *y*.  Please use the *color* keyword-argument or provide a 2-D array with a single row if you intend to specify the same RGB or RGBA value for all points.\n"
     ]
    }
   ],
   "source": [
    "l_B08 = ax.scatter(sigmag_bigiel, sigmasfr_bigiel, s=12, ec='none', alpha=0.2, c=cmap1[3])\n",
    "l_kenn_spiral = ax.scatter(sigmag_kenn_spiral, sigmasfr_kenn_spiral, s=12, ec='none', alpha=0.2, c=cmap1[3])\n",
    "l_davis14 = ax.scatter(sigmag_davis14, sigmasfr_davis14, s=12, ec='none', alpha=0.2, c=cmap1[3])\n",
    "\n",
    "l_kenn_ulirg = ax.scatter(sigmag_kenn_ulirg, sigmasfr_kenn_ulirg, s=12, ec='none', alpha=0.4, c=cmap1[1])\n",
    "\n",
    "l_genzel = ax.scatter(sigmag_genzel, sigmasfr_genzel, s=12, ec='none', alpha=0.4, c=cmap1[4])\n",
    "l_bouche = ax.scatter(sigmag_bouche, sigmasfr_bouche, s=12, ec='none', alpha=0.4, c=cmap1[4])\n",
    "l_daddiz05 = ax.scatter(sigmag_daddiz05, sigmasfr_daddiz05, s=12, ec='none', alpha=0.4, c=cmap1[4])\n",
    "l_daddiz2 = ax.scatter(sigmag_daddiz2, sigmasfr_daddiz2, s=12, ec='none', alpha=0.4, c=cmap1[4])\n",
    "l_tacconi = ax.scatter(sigmag_tacconi, sigmasfr_tacconi, s=12, ec='none', alpha=0.4, c=cmap1[4])\n",
    "\n",
    "l_heid = ax.scatter(sigmag_heid, sigmasfr_heid, s=12, ec='none', alpha=0.4, c=cmap1[2])\n",
    "l_lada = ax.scatter(sigmag_lada, sigmasfr_lada, s=12, ec='none', alpha=0.4, c=cmap1[2])\n",
    "l_lada13 = ax.scatter(sigmag_lada13, sigmasfr_lada13, s=12, ec='none', alpha=0.4, c=cmap1[2])\n",
    "l_gutermuth11 = ax.scatter(sigmag_gutermuth11, sigmasfr_gutermuth11, s=12, ec='none', alpha=0.4, c=cmap1[2])\n",
    "l_wu10 = ax.scatter(sigmag_wu10, sigmasfr_wu10, s=12, ec='none', alpha=0.4, c=cmap1[2])"
   ]
  },
  {
   "cell_type": "code",
   "execution_count": 32,
   "metadata": {},
   "outputs": [
    {
     "data": {
      "image/png": "[encoded data removed]",
      "text/plain": [
       "<Figure size 288x270 with 1 Axes>"
      ]
     },
     "execution_count": 32,
     "metadata": {},
     "output_type": "execute_result"
    }
   ],
   "source": [
    "fig"
   ]
  },
  {
   "cell_type": "code",
   "execution_count": 33,
   "metadata": {
    "tags": []
   },
   "outputs": [],
   "source": [
    "\"\"\"Star formation relations\"\"\"\n",
    "\n",
    "x = np.logspace(-15, 15, 31)\n",
    "ax.plot(np.log10(x), np.log10(get_starK98(x)), linestyle='--', color = 'black', alpha=0.5, zorder=2, label='Kennicutt (1998)')\n",
    "ax.plot(np.log10(x), np.log10(get_starB08(x)), linestyle=':', color = 'black', alpha=0.5, zorder=2, label='Bigiel et al. (2008)')\n",
    "\n",
    "legend1 = ax.legend(loc='lower right',ncol=1,\n",
    "            scatterpoints=1, fontsize=8)"
   ]
  },
  {
   "cell_type": "code",
   "execution_count": 34,
   "metadata": {},
   "outputs": [
    {
     "data": {
      "text/plain": [
       "<Figure size 432x288 with 0 Axes>"
      ]
     },
     "metadata": {},
     "output_type": "display_data"
    }
   ],
   "source": [
    "plt.tight_layout()\n",
    "fig.savefig('./../figs/plot_SK.pdf',bbox_inches='tight')"
   ]
  },
  {
   "cell_type": "code",
   "execution_count": 35,
   "metadata": {},
   "outputs": [
    {
     "data": {
      "image/png": "[encoded data removed]",
      "text/plain": [
       "<Figure size 288x270 with 1 Axes>"
      ]
     },
     "execution_count": 35,
     "metadata": {},
     "output_type": "execute_result"
    }
   ],
   "source": [
    "fig"
   ]
  },
  {
   "cell_type": "code",
   "execution_count": null,
   "metadata": {},
   "outputs": [],
   "source": []
  }
 ],
 "metadata": {
  "kernelspec": {
   "display_name": "Python 3",
   "language": "python",
   "name": "python3"
  },
  "language_info": {
   "codemirror_mode": {
    "name": "ipython",
    "version": 3
   },
   "file_extension": ".py",
   "mimetype": "text/x-python",
   "name": "python",
   "nbconvert_exporter": "python",
   "pygments_lexer": "ipython3",
   "version": "3.7.4"
  }
 },
 "nbformat": 4,
 "nbformat_minor": 4
}
