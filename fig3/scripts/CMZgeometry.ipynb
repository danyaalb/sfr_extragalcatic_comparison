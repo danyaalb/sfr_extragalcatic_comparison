{
 "cells": [
  {
   "cell_type": "code",
   "execution_count": 1,
   "id": "37e7fbd9-0ea7-424f-b40f-06f15785dd24",
   "metadata": {},
   "outputs": [],
   "source": [
    "import numpy as np\n",
    "import matplotlib.pyplot as plt\n",
    "import matplotlib as mpl\n",
    "from astropy.table import Table, join\n",
    "import astropy.units as au\n",
    "import astropy.constants as ac "
   ]
  },
  {
   "cell_type": "code",
   "execution_count": 2,
   "id": "9f4c25f5-1fd7-4ced-b4e4-8f32d89808b2",
   "metadata": {},
   "outputs": [],
   "source": [
    "def area_annulus(R, deltaR):\n",
    "    A = 2*np.pi*R*deltaR\n",
    "    return(A)\n",
    "\n",
    "def arealongmore(R, deltaR):\n",
    "    A = np.pi*(R**2 - (R-deltaR)**2)\n",
    "    return(A)"
   ]
  },
  {
   "cell_type": "code",
   "execution_count": 15,
   "id": "0d67697f-cfc9-4f25-bf39-e227ba87d56f",
   "metadata": {},
   "outputs": [],
   "source": [
    "R = 100\n",
    "deltaR = 12"
   ]
  },
  {
   "cell_type": "code",
   "execution_count": 16,
   "id": "1b3bcf5c-0f01-409f-96a6-d657f9f495b7",
   "metadata": {},
   "outputs": [
    {
     "data": {
      "text/plain": [
       "7539.822368615503"
      ]
     },
     "execution_count": 16,
     "metadata": {},
     "output_type": "execute_result"
    }
   ],
   "source": [
    "area_annulus(R, deltaR)"
   ]
  },
  {
   "cell_type": "code",
   "execution_count": 17,
   "id": "220ee58c-a729-42e9-a639-5f57d5b0293e",
   "metadata": {},
   "outputs": [
    {
     "data": {
      "text/plain": [
       "7087.433026498573"
      ]
     },
     "execution_count": 17,
     "metadata": {},
     "output_type": "execute_result"
    }
   ],
   "source": [
    "arealongmore(R, deltaR)"
   ]
  },
  {
   "cell_type": "code",
   "execution_count": 18,
   "id": "8d1e6fd0-9fce-4c9d-8a29-80036fde0d4d",
   "metadata": {},
   "outputs": [
    {
     "data": {
      "text/plain": [
       "[<matplotlib.lines.Line2D at 0x7f8c941ea0d0>]"
      ]
     },
     "execution_count": 18,
     "metadata": {},
     "output_type": "execute_result"
    },
    {
     "data": {
      "image/png": "[encoded data removed]",
      "text/plain": [
       "<Figure size 432x288 with 1 Axes>"
      ]
     },
     "metadata": {
      "needs_background": "light"
     },
     "output_type": "display_data"
    }
   ],
   "source": [
    "R = np.linspace(0,300)\n",
    "plt.plot(R, area_annulus(R, deltaR))\n",
    "plt.plot(R, arealongmore(R, deltaR))"
   ]
  },
  {
   "cell_type": "code",
   "execution_count": null,
   "id": "03edcd8a-0727-4488-804e-5d96218351d9",
   "metadata": {},
   "outputs": [],
   "source": []
  }
 ],
 "metadata": {
  "kernelspec": {
   "display_name": "Python 3",
   "language": "python",
   "name": "python3"
  },
  "language_info": {
   "codemirror_mode": {
    "name": "ipython",
    "version": 3
   },
   "file_extension": ".py",
   "mimetype": "text/x-python",
   "name": "python",
   "nbconvert_exporter": "python",
   "pygments_lexer": "ipython3",
   "version": "3.7.4"
  }
 },
 "nbformat": 4,
 "nbformat_minor": 5
}
